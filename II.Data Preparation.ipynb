{
 "cells": [
  {
   "cell_type": "markdown",
   "id": "e79ff0d9-9b27-4816-bc6b-904a68a0086e",
   "metadata": {},
   "source": [
    "# Data Transformation مهمة جداً\n",
    "So far you have seen how to prepare data for analysis. This processis effect represents a reassembly of the data contained within a DataFrame, with possible additions by other DataFrame and removal of unwanted parts.  \n",
    "\n",
    "Now begin with the __Second Stage__ of data manipulation: __Data Transformation__.  \n",
    "After you arrange the form of data and their disposal within the data structure, it is important to transform their values. In fact, in this section you will see some common issues and the steps required to overcome them using functions of the pandas library.   \n",
    "\n",
    "Some of these operations involve the presence of duplicate or invalid values, with possible removal or replacement. Other operations relate instead modifying indexes. Other steps include handling and processing the numerical values of the data  and also stings."
   ]
  },
  {
   "cell_type": "code",
   "execution_count": 404,
   "id": "7dbf4598-68cb-48de-9a77-453178ad0a2f",
   "metadata": {},
   "outputs": [],
   "source": [
    "import pandas as pd"
   ]
  },
  {
   "cell_type": "code",
   "execution_count": 405,
   "id": "56e0362d-c5e7-4c69-99cd-72f73b59913c",
   "metadata": {},
   "outputs": [],
   "source": [
    "World_Cities = pd.read_csv('worldcities.csv')"
   ]
  },
  {
   "cell_type": "code",
   "execution_count": 406,
   "id": "8fd3c578-41d5-4cdb-b3b9-db453b96279e",
   "metadata": {},
   "outputs": [
    {
     "data": {
      "text/html": [
       "<div>\n",
       "<style scoped>\n",
       "    .dataframe tbody tr th:only-of-type {\n",
       "        vertical-align: middle;\n",
       "    }\n",
       "\n",
       "    .dataframe tbody tr th {\n",
       "        vertical-align: top;\n",
       "    }\n",
       "\n",
       "    .dataframe thead th {\n",
       "        text-align: right;\n",
       "    }\n",
       "</style>\n",
       "<table border=\"1\" class=\"dataframe\">\n",
       "  <thead>\n",
       "    <tr style=\"text-align: right;\">\n",
       "      <th></th>\n",
       "      <th>City</th>\n",
       "      <th>Country</th>\n",
       "    </tr>\n",
       "  </thead>\n",
       "  <tbody>\n",
       "    <tr>\n",
       "      <th>0</th>\n",
       "      <td>Rovaniemi</td>\n",
       "      <td>Finland</td>\n",
       "    </tr>\n",
       "    <tr>\n",
       "      <th>1</th>\n",
       "      <td>Steinkjer</td>\n",
       "      <td>Norway</td>\n",
       "    </tr>\n",
       "    <tr>\n",
       "      <th>2</th>\n",
       "      <td>Monterey</td>\n",
       "      <td>United States of America</td>\n",
       "    </tr>\n",
       "    <tr>\n",
       "      <th>3</th>\n",
       "      <td>Kuta</td>\n",
       "      <td>Indonesia</td>\n",
       "    </tr>\n",
       "    <tr>\n",
       "      <th>4</th>\n",
       "      <td>Lovec</td>\n",
       "      <td>Bulgaria</td>\n",
       "    </tr>\n",
       "    <tr>\n",
       "      <th>...</th>\n",
       "      <td>...</td>\n",
       "      <td>...</td>\n",
       "    </tr>\n",
       "    <tr>\n",
       "      <th>7317</th>\n",
       "      <td>De Aar</td>\n",
       "      <td>South Africa</td>\n",
       "    </tr>\n",
       "    <tr>\n",
       "      <th>7318</th>\n",
       "      <td>Kamensk Shakhtinskiy</td>\n",
       "      <td>Russia</td>\n",
       "    </tr>\n",
       "    <tr>\n",
       "      <th>7319</th>\n",
       "      <td>Sinop</td>\n",
       "      <td>Turkey</td>\n",
       "    </tr>\n",
       "    <tr>\n",
       "      <th>7320</th>\n",
       "      <td>Tirupati</td>\n",
       "      <td>India</td>\n",
       "    </tr>\n",
       "    <tr>\n",
       "      <th>7321</th>\n",
       "      <td>Huangshi</td>\n",
       "      <td>China</td>\n",
       "    </tr>\n",
       "  </tbody>\n",
       "</table>\n",
       "<p>7322 rows × 2 columns</p>\n",
       "</div>"
      ],
      "text/plain": [
       "                      City                   Country\n",
       "0                Rovaniemi                   Finland\n",
       "1                Steinkjer                    Norway\n",
       "2                 Monterey  United States of America\n",
       "3                     Kuta                 Indonesia\n",
       "4                    Lovec                  Bulgaria\n",
       "...                    ...                       ...\n",
       "7317                De Aar              South Africa\n",
       "7318  Kamensk Shakhtinskiy                    Russia\n",
       "7319                 Sinop                    Turkey\n",
       "7320              Tirupati                     India\n",
       "7321              Huangshi                     China\n",
       "\n",
       "[7322 rows x 2 columns]"
      ]
     },
     "execution_count": 406,
     "metadata": {},
     "output_type": "execute_result"
    }
   ],
   "source": [
    "World_Cities"
   ]
  },
  {
   "cell_type": "markdown",
   "id": "f8ac6043-7b81-47ce-8136-c8a426cf3ed5",
   "metadata": {},
   "source": [
    "### Removing Duplicates:\n",
    "Duplicate rows might be present in a DataFrame for various reasons. In DataFrame of enormous size the detection of these rows can be very problematic. Alsoin this case, pandas provides us with a series of tools to analyze the duplicate data present in large data structures.  \n"
   ]
  },
  {
   "cell_type": "code",
   "execution_count": 407,
   "id": "21f49e15-d8c3-4248-a0cf-04c641800c48",
   "metadata": {},
   "outputs": [
    {
     "data": {
      "text/plain": [
       "0       False\n",
       "1       False\n",
       "2       False\n",
       "3       False\n",
       "4       False\n",
       "        ...  \n",
       "7317    False\n",
       "7318    False\n",
       "7319    False\n",
       "7320    False\n",
       "7321    False\n",
       "Length: 7322, dtype: bool"
      ]
     },
     "execution_count": 407,
     "metadata": {},
     "output_type": "execute_result"
    }
   ],
   "source": [
    "World_Cities.duplicated() #False 'World_Cities' has\n",
    "# no duplicated rows "
   ]
  },
  {
   "cell_type": "code",
   "execution_count": 408,
   "id": "d0f88e29-55bc-4995-b288-ba340b871dbd",
   "metadata": {},
   "outputs": [],
   "source": [
    "dframe = pd.DataFrame({ 'color': ['white','white','red','red','white'],\n",
    "... 'value': [2,1,3,3,2]})"
   ]
  },
  {
   "cell_type": "code",
   "execution_count": 409,
   "id": "6303368a-7735-4930-aaf9-9f3076b7b404",
   "metadata": {},
   "outputs": [
    {
     "data": {
      "text/html": [
       "<div>\n",
       "<style scoped>\n",
       "    .dataframe tbody tr th:only-of-type {\n",
       "        vertical-align: middle;\n",
       "    }\n",
       "\n",
       "    .dataframe tbody tr th {\n",
       "        vertical-align: top;\n",
       "    }\n",
       "\n",
       "    .dataframe thead th {\n",
       "        text-align: right;\n",
       "    }\n",
       "</style>\n",
       "<table border=\"1\" class=\"dataframe\">\n",
       "  <thead>\n",
       "    <tr style=\"text-align: right;\">\n",
       "      <th></th>\n",
       "      <th>color</th>\n",
       "      <th>value</th>\n",
       "    </tr>\n",
       "  </thead>\n",
       "  <tbody>\n",
       "    <tr>\n",
       "      <th>0</th>\n",
       "      <td>white</td>\n",
       "      <td>2</td>\n",
       "    </tr>\n",
       "    <tr>\n",
       "      <th>1</th>\n",
       "      <td>white</td>\n",
       "      <td>1</td>\n",
       "    </tr>\n",
       "    <tr>\n",
       "      <th>2</th>\n",
       "      <td>red</td>\n",
       "      <td>3</td>\n",
       "    </tr>\n",
       "    <tr>\n",
       "      <th>3</th>\n",
       "      <td>red</td>\n",
       "      <td>3</td>\n",
       "    </tr>\n",
       "    <tr>\n",
       "      <th>4</th>\n",
       "      <td>white</td>\n",
       "      <td>2</td>\n",
       "    </tr>\n",
       "  </tbody>\n",
       "</table>\n",
       "</div>"
      ],
      "text/plain": [
       "   color  value\n",
       "0  white      2\n",
       "1  white      1\n",
       "2    red      3\n",
       "3    red      3\n",
       "4  white      2"
      ]
     },
     "execution_count": 409,
     "metadata": {},
     "output_type": "execute_result"
    }
   ],
   "source": [
    "dframe"
   ]
  },
  {
   "cell_type": "code",
   "execution_count": 410,
   "id": "c843481a-5e2f-43cb-8ed2-e3cb0c7a10d8",
   "metadata": {},
   "outputs": [
    {
     "data": {
      "text/plain": [
       "0    False\n",
       "1    False\n",
       "2    False\n",
       "3     True\n",
       "4     True\n",
       "dtype: bool"
      ]
     },
     "execution_count": 410,
     "metadata": {},
     "output_type": "execute_result"
    }
   ],
   "source": [
    "dframe.duplicated()"
   ]
  },
  {
   "cell_type": "markdown",
   "id": "4d13f200-e02f-4070-a5c0-45f6459f1d8e",
   "metadata": {},
   "source": [
    "The fact of having as the return value a Boolean Series can be useful in many cases, especially for the filtering. In fact, if you want to know what are the duplicated rows, just type the following:"
   ]
  },
  {
   "cell_type": "code",
   "execution_count": 411,
   "id": "16d349eb-3eec-4cf1-bd9c-47ca0bba7280",
   "metadata": {},
   "outputs": [
    {
     "data": {
      "text/html": [
       "<div>\n",
       "<style scoped>\n",
       "    .dataframe tbody tr th:only-of-type {\n",
       "        vertical-align: middle;\n",
       "    }\n",
       "\n",
       "    .dataframe tbody tr th {\n",
       "        vertical-align: top;\n",
       "    }\n",
       "\n",
       "    .dataframe thead th {\n",
       "        text-align: right;\n",
       "    }\n",
       "</style>\n",
       "<table border=\"1\" class=\"dataframe\">\n",
       "  <thead>\n",
       "    <tr style=\"text-align: right;\">\n",
       "      <th></th>\n",
       "      <th>color</th>\n",
       "      <th>value</th>\n",
       "    </tr>\n",
       "  </thead>\n",
       "  <tbody>\n",
       "    <tr>\n",
       "      <th>3</th>\n",
       "      <td>red</td>\n",
       "      <td>3</td>\n",
       "    </tr>\n",
       "    <tr>\n",
       "      <th>4</th>\n",
       "      <td>white</td>\n",
       "      <td>2</td>\n",
       "    </tr>\n",
       "  </tbody>\n",
       "</table>\n",
       "</div>"
      ],
      "text/plain": [
       "   color  value\n",
       "3    red      3\n",
       "4  white      2"
      ]
     },
     "execution_count": 411,
     "metadata": {},
     "output_type": "execute_result"
    }
   ],
   "source": [
    "dframe[dframe.duplicated()]"
   ]
  },
  {
   "cell_type": "code",
   "execution_count": 412,
   "id": "597418cf-8dfc-4896-98e2-35c3745d3e41",
   "metadata": {},
   "outputs": [
    {
     "name": "stdout",
     "output_type": "stream",
     "text": [
      "/Users/hussainfadlallah/Desktop/MyOwnBusiness/Data Scientist track/Data Analysis using Python/pandas in Depth\n"
     ]
    }
   ],
   "source": [
    "!pwd"
   ]
  },
  {
   "cell_type": "code",
   "execution_count": 413,
   "id": "3b363b26-b7bd-4abc-983d-7aeab6b3b70f",
   "metadata": {},
   "outputs": [],
   "source": [
    "from pandas import ExcelWriter"
   ]
  },
  {
   "cell_type": "code",
   "execution_count": 414,
   "id": "bb25782a-ba79-45d2-9d79-120bef4cb63e",
   "metadata": {},
   "outputs": [
    {
     "name": "stdout",
     "output_type": "stream",
     "text": [
      "Requirement already satisfied: openpyxl in /opt/anaconda3/envs/myenv/lib/python3.8/site-packages (3.1.5)\n",
      "Requirement already satisfied: et-xmlfile in /opt/anaconda3/envs/myenv/lib/python3.8/site-packages (from openpyxl) (2.0.0)\n",
      "Note: you may need to restart the kernel to use updated packages.\n"
     ]
    }
   ],
   "source": [
    "pip install openpyxl"
   ]
  },
  {
   "cell_type": "code",
   "execution_count": 415,
   "id": "844ba9fb-1fdd-41bd-ad05-86cd3e4c48ca",
   "metadata": {},
   "outputs": [],
   "source": [
    "iris.to_csv('Iris_Names.csv', index = False)"
   ]
  },
  {
   "cell_type": "code",
   "execution_count": 416,
   "id": "f47bfaea-a12e-46b4-860e-e48f87c5a086",
   "metadata": {},
   "outputs": [],
   "source": [
    "iris =  pd.read_csv('Iris_Names.csv', index_col=False )"
   ]
  },
  {
   "cell_type": "code",
   "execution_count": 417,
   "id": "14ed67e9-3a4a-49c0-af54-5da91a7e683c",
   "metadata": {},
   "outputs": [
    {
     "data": {
      "text/html": [
       "<div>\n",
       "<style scoped>\n",
       "    .dataframe tbody tr th:only-of-type {\n",
       "        vertical-align: middle;\n",
       "    }\n",
       "\n",
       "    .dataframe tbody tr th {\n",
       "        vertical-align: top;\n",
       "    }\n",
       "\n",
       "    .dataframe thead th {\n",
       "        text-align: right;\n",
       "    }\n",
       "</style>\n",
       "<table border=\"1\" class=\"dataframe\">\n",
       "  <thead>\n",
       "    <tr style=\"text-align: right;\">\n",
       "      <th></th>\n",
       "      <th>Unnamed: 0</th>\n",
       "      <th>sepal_length</th>\n",
       "      <th>sepal_width</th>\n",
       "      <th>petal_length</th>\n",
       "      <th>petal_width</th>\n",
       "      <th>species</th>\n",
       "    </tr>\n",
       "  </thead>\n",
       "  <tbody>\n",
       "    <tr>\n",
       "      <th>0</th>\n",
       "      <td>0</td>\n",
       "      <td>5.1</td>\n",
       "      <td>3.5</td>\n",
       "      <td>1.4</td>\n",
       "      <td>0.2</td>\n",
       "      <td>setosa</td>\n",
       "    </tr>\n",
       "    <tr>\n",
       "      <th>1</th>\n",
       "      <td>1</td>\n",
       "      <td>4.9</td>\n",
       "      <td>3.0</td>\n",
       "      <td>1.4</td>\n",
       "      <td>0.2</td>\n",
       "      <td>setosa</td>\n",
       "    </tr>\n",
       "    <tr>\n",
       "      <th>2</th>\n",
       "      <td>2</td>\n",
       "      <td>4.7</td>\n",
       "      <td>3.2</td>\n",
       "      <td>1.3</td>\n",
       "      <td>0.2</td>\n",
       "      <td>setosa</td>\n",
       "    </tr>\n",
       "    <tr>\n",
       "      <th>3</th>\n",
       "      <td>3</td>\n",
       "      <td>4.6</td>\n",
       "      <td>3.1</td>\n",
       "      <td>1.5</td>\n",
       "      <td>0.2</td>\n",
       "      <td>setosa</td>\n",
       "    </tr>\n",
       "    <tr>\n",
       "      <th>4</th>\n",
       "      <td>4</td>\n",
       "      <td>5.0</td>\n",
       "      <td>3.6</td>\n",
       "      <td>1.4</td>\n",
       "      <td>0.2</td>\n",
       "      <td>setosa</td>\n",
       "    </tr>\n",
       "    <tr>\n",
       "      <th>...</th>\n",
       "      <td>...</td>\n",
       "      <td>...</td>\n",
       "      <td>...</td>\n",
       "      <td>...</td>\n",
       "      <td>...</td>\n",
       "      <td>...</td>\n",
       "    </tr>\n",
       "    <tr>\n",
       "      <th>145</th>\n",
       "      <td>145</td>\n",
       "      <td>6.7</td>\n",
       "      <td>3.0</td>\n",
       "      <td>5.2</td>\n",
       "      <td>2.3</td>\n",
       "      <td>virginica</td>\n",
       "    </tr>\n",
       "    <tr>\n",
       "      <th>146</th>\n",
       "      <td>146</td>\n",
       "      <td>6.3</td>\n",
       "      <td>2.5</td>\n",
       "      <td>5.0</td>\n",
       "      <td>1.9</td>\n",
       "      <td>virginica</td>\n",
       "    </tr>\n",
       "    <tr>\n",
       "      <th>147</th>\n",
       "      <td>147</td>\n",
       "      <td>6.5</td>\n",
       "      <td>3.0</td>\n",
       "      <td>5.2</td>\n",
       "      <td>2.0</td>\n",
       "      <td>virginica</td>\n",
       "    </tr>\n",
       "    <tr>\n",
       "      <th>148</th>\n",
       "      <td>148</td>\n",
       "      <td>6.2</td>\n",
       "      <td>3.4</td>\n",
       "      <td>5.4</td>\n",
       "      <td>2.3</td>\n",
       "      <td>virginica</td>\n",
       "    </tr>\n",
       "    <tr>\n",
       "      <th>149</th>\n",
       "      <td>149</td>\n",
       "      <td>5.9</td>\n",
       "      <td>3.0</td>\n",
       "      <td>5.1</td>\n",
       "      <td>1.8</td>\n",
       "      <td>virginica</td>\n",
       "    </tr>\n",
       "  </tbody>\n",
       "</table>\n",
       "<p>150 rows × 6 columns</p>\n",
       "</div>"
      ],
      "text/plain": [
       "     Unnamed: 0  sepal_length  sepal_width  petal_length  petal_width  \\\n",
       "0             0           5.1          3.5           1.4          0.2   \n",
       "1             1           4.9          3.0           1.4          0.2   \n",
       "2             2           4.7          3.2           1.3          0.2   \n",
       "3             3           4.6          3.1           1.5          0.2   \n",
       "4             4           5.0          3.6           1.4          0.2   \n",
       "..          ...           ...          ...           ...          ...   \n",
       "145         145           6.7          3.0           5.2          2.3   \n",
       "146         146           6.3          2.5           5.0          1.9   \n",
       "147         147           6.5          3.0           5.2          2.0   \n",
       "148         148           6.2          3.4           5.4          2.3   \n",
       "149         149           5.9          3.0           5.1          1.8   \n",
       "\n",
       "       species  \n",
       "0       setosa  \n",
       "1       setosa  \n",
       "2       setosa  \n",
       "3       setosa  \n",
       "4       setosa  \n",
       "..         ...  \n",
       "145  virginica  \n",
       "146  virginica  \n",
       "147  virginica  \n",
       "148  virginica  \n",
       "149  virginica  \n",
       "\n",
       "[150 rows x 6 columns]"
      ]
     },
     "execution_count": 417,
     "metadata": {},
     "output_type": "execute_result"
    }
   ],
   "source": [
    "iris"
   ]
  },
  {
   "cell_type": "code",
   "execution_count": 418,
   "id": "5609b97e-9ad9-4714-9d3e-e80443190902",
   "metadata": {},
   "outputs": [
    {
     "data": {
      "text/plain": [
       "0      False\n",
       "1      False\n",
       "2      False\n",
       "3      False\n",
       "4      False\n",
       "       ...  \n",
       "145    False\n",
       "146    False\n",
       "147    False\n",
       "148    False\n",
       "149    False\n",
       "Length: 150, dtype: bool"
      ]
     },
     "execution_count": 418,
     "metadata": {},
     "output_type": "execute_result"
    }
   ],
   "source": [
    "iris.duplicated()"
   ]
  },
  {
   "cell_type": "code",
   "execution_count": 419,
   "id": "ba1e491a-54e3-4609-8ef8-c9980a05cc29",
   "metadata": {},
   "outputs": [
    {
     "data": {
      "text/html": [
       "<div>\n",
       "<style scoped>\n",
       "    .dataframe tbody tr th:only-of-type {\n",
       "        vertical-align: middle;\n",
       "    }\n",
       "\n",
       "    .dataframe tbody tr th {\n",
       "        vertical-align: top;\n",
       "    }\n",
       "\n",
       "    .dataframe thead th {\n",
       "        text-align: right;\n",
       "    }\n",
       "</style>\n",
       "<table border=\"1\" class=\"dataframe\">\n",
       "  <thead>\n",
       "    <tr style=\"text-align: right;\">\n",
       "      <th></th>\n",
       "      <th>Unnamed: 0</th>\n",
       "      <th>sepal_length</th>\n",
       "      <th>sepal_width</th>\n",
       "      <th>petal_length</th>\n",
       "      <th>petal_width</th>\n",
       "      <th>species</th>\n",
       "    </tr>\n",
       "  </thead>\n",
       "  <tbody>\n",
       "  </tbody>\n",
       "</table>\n",
       "</div>"
      ],
      "text/plain": [
       "Empty DataFrame\n",
       "Columns: [Unnamed: 0, sepal_length, sepal_width, petal_length, petal_width, species]\n",
       "Index: []"
      ]
     },
     "execution_count": 419,
     "metadata": {},
     "output_type": "execute_result"
    }
   ],
   "source": [
    "iris[iris.duplicated()] # because there is \n",
    "# Not any duplicated rows in the file ...."
   ]
  },
  {
   "cell_type": "code",
   "execution_count": 420,
   "id": "c86832d0-6ceb-4edc-aa21-07ce6fe98156",
   "metadata": {},
   "outputs": [
    {
     "data": {
      "text/html": [
       "<div>\n",
       "<style scoped>\n",
       "    .dataframe tbody tr th:only-of-type {\n",
       "        vertical-align: middle;\n",
       "    }\n",
       "\n",
       "    .dataframe tbody tr th {\n",
       "        vertical-align: top;\n",
       "    }\n",
       "\n",
       "    .dataframe thead th {\n",
       "        text-align: right;\n",
       "    }\n",
       "</style>\n",
       "<table border=\"1\" class=\"dataframe\">\n",
       "  <thead>\n",
       "    <tr style=\"text-align: right;\">\n",
       "      <th></th>\n",
       "      <th>Unnamed: 0</th>\n",
       "      <th>sepal_length</th>\n",
       "      <th>sepal_width</th>\n",
       "      <th>petal_length</th>\n",
       "      <th>petal_width</th>\n",
       "      <th>species</th>\n",
       "    </tr>\n",
       "  </thead>\n",
       "  <tbody>\n",
       "    <tr>\n",
       "      <th>0</th>\n",
       "      <td>0</td>\n",
       "      <td>5.1</td>\n",
       "      <td>3.5</td>\n",
       "      <td>1.4</td>\n",
       "      <td>0.2</td>\n",
       "      <td>setosa</td>\n",
       "    </tr>\n",
       "    <tr>\n",
       "      <th>1</th>\n",
       "      <td>1</td>\n",
       "      <td>4.9</td>\n",
       "      <td>3.0</td>\n",
       "      <td>1.4</td>\n",
       "      <td>0.2</td>\n",
       "      <td>setosa</td>\n",
       "    </tr>\n",
       "    <tr>\n",
       "      <th>2</th>\n",
       "      <td>2</td>\n",
       "      <td>4.7</td>\n",
       "      <td>3.2</td>\n",
       "      <td>1.3</td>\n",
       "      <td>0.2</td>\n",
       "      <td>setosa</td>\n",
       "    </tr>\n",
       "    <tr>\n",
       "      <th>3</th>\n",
       "      <td>3</td>\n",
       "      <td>4.6</td>\n",
       "      <td>3.1</td>\n",
       "      <td>1.5</td>\n",
       "      <td>0.2</td>\n",
       "      <td>setosa</td>\n",
       "    </tr>\n",
       "    <tr>\n",
       "      <th>4</th>\n",
       "      <td>4</td>\n",
       "      <td>5.0</td>\n",
       "      <td>3.6</td>\n",
       "      <td>1.4</td>\n",
       "      <td>0.2</td>\n",
       "      <td>setosa</td>\n",
       "    </tr>\n",
       "    <tr>\n",
       "      <th>...</th>\n",
       "      <td>...</td>\n",
       "      <td>...</td>\n",
       "      <td>...</td>\n",
       "      <td>...</td>\n",
       "      <td>...</td>\n",
       "      <td>...</td>\n",
       "    </tr>\n",
       "    <tr>\n",
       "      <th>145</th>\n",
       "      <td>145</td>\n",
       "      <td>6.7</td>\n",
       "      <td>3.0</td>\n",
       "      <td>5.2</td>\n",
       "      <td>2.3</td>\n",
       "      <td>virginica</td>\n",
       "    </tr>\n",
       "    <tr>\n",
       "      <th>146</th>\n",
       "      <td>146</td>\n",
       "      <td>6.3</td>\n",
       "      <td>2.5</td>\n",
       "      <td>5.0</td>\n",
       "      <td>1.9</td>\n",
       "      <td>virginica</td>\n",
       "    </tr>\n",
       "    <tr>\n",
       "      <th>147</th>\n",
       "      <td>147</td>\n",
       "      <td>6.5</td>\n",
       "      <td>3.0</td>\n",
       "      <td>5.2</td>\n",
       "      <td>2.0</td>\n",
       "      <td>virginica</td>\n",
       "    </tr>\n",
       "    <tr>\n",
       "      <th>148</th>\n",
       "      <td>148</td>\n",
       "      <td>6.2</td>\n",
       "      <td>3.4</td>\n",
       "      <td>5.4</td>\n",
       "      <td>2.3</td>\n",
       "      <td>virginica</td>\n",
       "    </tr>\n",
       "    <tr>\n",
       "      <th>149</th>\n",
       "      <td>149</td>\n",
       "      <td>5.9</td>\n",
       "      <td>3.0</td>\n",
       "      <td>5.1</td>\n",
       "      <td>1.8</td>\n",
       "      <td>virginica</td>\n",
       "    </tr>\n",
       "  </tbody>\n",
       "</table>\n",
       "<p>150 rows × 6 columns</p>\n",
       "</div>"
      ],
      "text/plain": [
       "     Unnamed: 0  sepal_length  sepal_width  petal_length  petal_width  \\\n",
       "0             0           5.1          3.5           1.4          0.2   \n",
       "1             1           4.9          3.0           1.4          0.2   \n",
       "2             2           4.7          3.2           1.3          0.2   \n",
       "3             3           4.6          3.1           1.5          0.2   \n",
       "4             4           5.0          3.6           1.4          0.2   \n",
       "..          ...           ...          ...           ...          ...   \n",
       "145         145           6.7          3.0           5.2          2.3   \n",
       "146         146           6.3          2.5           5.0          1.9   \n",
       "147         147           6.5          3.0           5.2          2.0   \n",
       "148         148           6.2          3.4           5.4          2.3   \n",
       "149         149           5.9          3.0           5.1          1.8   \n",
       "\n",
       "       species  \n",
       "0       setosa  \n",
       "1       setosa  \n",
       "2       setosa  \n",
       "3       setosa  \n",
       "4       setosa  \n",
       "..         ...  \n",
       "145  virginica  \n",
       "146  virginica  \n",
       "147  virginica  \n",
       "148  virginica  \n",
       "149  virginica  \n",
       "\n",
       "[150 rows x 6 columns]"
      ]
     },
     "execution_count": 420,
     "metadata": {},
     "output_type": "execute_result"
    }
   ],
   "source": [
    "iris"
   ]
  },
  {
   "cell_type": "markdown",
   "id": "2d1592e9-0b89-4f0e-8bed-75db0ebaaad9",
   "metadata": {},
   "source": [
    "Generally, all duplicated rows are to be deleted from the DataFrame; to do that, pandas provides the __drop_duplicates()__ function, which returns the DataFrame without duplicated rows.    "
   ]
  },
  {
   "cell_type": "code",
   "execution_count": 421,
   "id": "30e6f040-b611-41a1-a9a5-b690ed25fd9e",
   "metadata": {},
   "outputs": [
    {
     "data": {
      "text/html": [
       "<div>\n",
       "<style scoped>\n",
       "    .dataframe tbody tr th:only-of-type {\n",
       "        vertical-align: middle;\n",
       "    }\n",
       "\n",
       "    .dataframe tbody tr th {\n",
       "        vertical-align: top;\n",
       "    }\n",
       "\n",
       "    .dataframe thead th {\n",
       "        text-align: right;\n",
       "    }\n",
       "</style>\n",
       "<table border=\"1\" class=\"dataframe\">\n",
       "  <thead>\n",
       "    <tr style=\"text-align: right;\">\n",
       "      <th></th>\n",
       "      <th>Unnamed: 0</th>\n",
       "      <th>sepal_length</th>\n",
       "      <th>sepal_width</th>\n",
       "      <th>petal_length</th>\n",
       "      <th>petal_width</th>\n",
       "      <th>species</th>\n",
       "    </tr>\n",
       "  </thead>\n",
       "  <tbody>\n",
       "    <tr>\n",
       "      <th>0</th>\n",
       "      <td>0</td>\n",
       "      <td>5.1</td>\n",
       "      <td>3.5</td>\n",
       "      <td>1.4</td>\n",
       "      <td>0.2</td>\n",
       "      <td>setosa</td>\n",
       "    </tr>\n",
       "    <tr>\n",
       "      <th>1</th>\n",
       "      <td>1</td>\n",
       "      <td>4.9</td>\n",
       "      <td>3.0</td>\n",
       "      <td>1.4</td>\n",
       "      <td>0.2</td>\n",
       "      <td>setosa</td>\n",
       "    </tr>\n",
       "    <tr>\n",
       "      <th>2</th>\n",
       "      <td>2</td>\n",
       "      <td>4.7</td>\n",
       "      <td>3.2</td>\n",
       "      <td>1.3</td>\n",
       "      <td>0.2</td>\n",
       "      <td>setosa</td>\n",
       "    </tr>\n",
       "    <tr>\n",
       "      <th>3</th>\n",
       "      <td>3</td>\n",
       "      <td>4.6</td>\n",
       "      <td>3.1</td>\n",
       "      <td>1.5</td>\n",
       "      <td>0.2</td>\n",
       "      <td>setosa</td>\n",
       "    </tr>\n",
       "    <tr>\n",
       "      <th>4</th>\n",
       "      <td>4</td>\n",
       "      <td>5.0</td>\n",
       "      <td>3.6</td>\n",
       "      <td>1.4</td>\n",
       "      <td>0.2</td>\n",
       "      <td>setosa</td>\n",
       "    </tr>\n",
       "    <tr>\n",
       "      <th>...</th>\n",
       "      <td>...</td>\n",
       "      <td>...</td>\n",
       "      <td>...</td>\n",
       "      <td>...</td>\n",
       "      <td>...</td>\n",
       "      <td>...</td>\n",
       "    </tr>\n",
       "    <tr>\n",
       "      <th>145</th>\n",
       "      <td>145</td>\n",
       "      <td>6.7</td>\n",
       "      <td>3.0</td>\n",
       "      <td>5.2</td>\n",
       "      <td>2.3</td>\n",
       "      <td>virginica</td>\n",
       "    </tr>\n",
       "    <tr>\n",
       "      <th>146</th>\n",
       "      <td>146</td>\n",
       "      <td>6.3</td>\n",
       "      <td>2.5</td>\n",
       "      <td>5.0</td>\n",
       "      <td>1.9</td>\n",
       "      <td>virginica</td>\n",
       "    </tr>\n",
       "    <tr>\n",
       "      <th>147</th>\n",
       "      <td>147</td>\n",
       "      <td>6.5</td>\n",
       "      <td>3.0</td>\n",
       "      <td>5.2</td>\n",
       "      <td>2.0</td>\n",
       "      <td>virginica</td>\n",
       "    </tr>\n",
       "    <tr>\n",
       "      <th>148</th>\n",
       "      <td>148</td>\n",
       "      <td>6.2</td>\n",
       "      <td>3.4</td>\n",
       "      <td>5.4</td>\n",
       "      <td>2.3</td>\n",
       "      <td>virginica</td>\n",
       "    </tr>\n",
       "    <tr>\n",
       "      <th>149</th>\n",
       "      <td>149</td>\n",
       "      <td>5.9</td>\n",
       "      <td>3.0</td>\n",
       "      <td>5.1</td>\n",
       "      <td>1.8</td>\n",
       "      <td>virginica</td>\n",
       "    </tr>\n",
       "  </tbody>\n",
       "</table>\n",
       "<p>150 rows × 6 columns</p>\n",
       "</div>"
      ],
      "text/plain": [
       "     Unnamed: 0  sepal_length  sepal_width  petal_length  petal_width  \\\n",
       "0             0           5.1          3.5           1.4          0.2   \n",
       "1             1           4.9          3.0           1.4          0.2   \n",
       "2             2           4.7          3.2           1.3          0.2   \n",
       "3             3           4.6          3.1           1.5          0.2   \n",
       "4             4           5.0          3.6           1.4          0.2   \n",
       "..          ...           ...          ...           ...          ...   \n",
       "145         145           6.7          3.0           5.2          2.3   \n",
       "146         146           6.3          2.5           5.0          1.9   \n",
       "147         147           6.5          3.0           5.2          2.0   \n",
       "148         148           6.2          3.4           5.4          2.3   \n",
       "149         149           5.9          3.0           5.1          1.8   \n",
       "\n",
       "       species  \n",
       "0       setosa  \n",
       "1       setosa  \n",
       "2       setosa  \n",
       "3       setosa  \n",
       "4       setosa  \n",
       "..         ...  \n",
       "145  virginica  \n",
       "146  virginica  \n",
       "147  virginica  \n",
       "148  virginica  \n",
       "149  virginica  \n",
       "\n",
       "[150 rows x 6 columns]"
      ]
     },
     "execution_count": 421,
     "metadata": {},
     "output_type": "execute_result"
    }
   ],
   "source": [
    "iris.drop_duplicates()\n",
    "# Nothing droped necause\n",
    "# there is not duplicates in 'iris'"
   ]
  },
  {
   "cell_type": "markdown",
   "id": "9af8b947-27d8-4d1a-81bb-b1c9573dcc2e",
   "metadata": {},
   "source": [
    "### Mapping\n",
    "The pandas library provides a set of functions which, as you shall see in this section, exploit mapping to perform some operations. The mapping is nothing more than the creation of a list of matches between two different values, with the ability to bind a value to a particular label or string.   \n",
    "\n",
    "The functions that you will see in this section perform specific operations but all of them are united from accepting a dict object with matches as an argument.   \n",
    "• replace(): replaces values  \n",
    "• map():     creates a new column  \n",
    "• rename():  replaces the index values"
   ]
  },
  {
   "cell_type": "code",
   "execution_count": 422,
   "id": "d783c2c1-4c63-4c1d-ba9b-41049a428086",
   "metadata": {},
   "outputs": [],
   "source": [
    "map = {\n",
    "    'label1' : 1,\n",
    "    'label2' : 2,\n",
    "    'label3' : 3\n",
    "}"
   ]
  },
  {
   "cell_type": "code",
   "execution_count": 423,
   "id": "ff19370f-7d35-4976-b4da-5965f0fc1652",
   "metadata": {},
   "outputs": [
    {
     "data": {
      "text/plain": [
       "{'label1': 1, 'label2': 2, 'label3': 3}"
      ]
     },
     "execution_count": 423,
     "metadata": {},
     "output_type": "execute_result"
    }
   ],
   "source": [
    "map"
   ]
  },
  {
   "cell_type": "markdown",
   "id": "ee0b3411-a1ba-466c-a247-7f74a7cf42b8",
   "metadata": {},
   "source": [
    "### Replacing values via Mapping\n",
    "Often in the data structure that you have assembled there are values that do not meet your needs. For example, the text may be  in a forign language, or may be a synonym of another value, or may not be expressed in the desired shape. In such cases, a replace operation of various values is often a necessary process.  \n",
    "Define, as an example, a DataFrame containing various objects and colors, including two colors that are not in English. Often during the assembly operations is likely to keep maintaining data with values in a form that is not desired."
   ]
  },
  {
   "cell_type": "code",
   "execution_count": 424,
   "id": "fa939942-e5e0-4474-b69a-03203329ca2a",
   "metadata": {},
   "outputs": [],
   "source": [
    "frame = pd.DataFrame({ 'item':['ball','mug','pen','pencil','ashtray'],\n",
    "... 'color':['white','rosso','verde','black','yellow'],\n",
    "'price':[5.56,4.20,1.30,0.56,2.75]})"
   ]
  },
  {
   "cell_type": "code",
   "execution_count": 425,
   "id": "e88230d4-9f33-4dab-ae88-3138453b01b1",
   "metadata": {},
   "outputs": [
    {
     "data": {
      "text/html": [
       "<div>\n",
       "<style scoped>\n",
       "    .dataframe tbody tr th:only-of-type {\n",
       "        vertical-align: middle;\n",
       "    }\n",
       "\n",
       "    .dataframe tbody tr th {\n",
       "        vertical-align: top;\n",
       "    }\n",
       "\n",
       "    .dataframe thead th {\n",
       "        text-align: right;\n",
       "    }\n",
       "</style>\n",
       "<table border=\"1\" class=\"dataframe\">\n",
       "  <thead>\n",
       "    <tr style=\"text-align: right;\">\n",
       "      <th></th>\n",
       "      <th>item</th>\n",
       "      <th>color</th>\n",
       "      <th>price</th>\n",
       "    </tr>\n",
       "  </thead>\n",
       "  <tbody>\n",
       "    <tr>\n",
       "      <th>0</th>\n",
       "      <td>ball</td>\n",
       "      <td>white</td>\n",
       "      <td>5.56</td>\n",
       "    </tr>\n",
       "    <tr>\n",
       "      <th>1</th>\n",
       "      <td>mug</td>\n",
       "      <td>rosso</td>\n",
       "      <td>4.20</td>\n",
       "    </tr>\n",
       "    <tr>\n",
       "      <th>2</th>\n",
       "      <td>pen</td>\n",
       "      <td>verde</td>\n",
       "      <td>1.30</td>\n",
       "    </tr>\n",
       "    <tr>\n",
       "      <th>3</th>\n",
       "      <td>pencil</td>\n",
       "      <td>black</td>\n",
       "      <td>0.56</td>\n",
       "    </tr>\n",
       "    <tr>\n",
       "      <th>4</th>\n",
       "      <td>ashtray</td>\n",
       "      <td>yellow</td>\n",
       "      <td>2.75</td>\n",
       "    </tr>\n",
       "  </tbody>\n",
       "</table>\n",
       "</div>"
      ],
      "text/plain": [
       "      item   color  price\n",
       "0     ball   white   5.56\n",
       "1      mug   rosso   4.20\n",
       "2      pen   verde   1.30\n",
       "3   pencil   black   0.56\n",
       "4  ashtray  yellow   2.75"
      ]
     },
     "execution_count": 425,
     "metadata": {},
     "output_type": "execute_result"
    }
   ],
   "source": [
    "frame # rosso & verde are not in English language"
   ]
  },
  {
   "cell_type": "markdown",
   "id": "af753d54-a415-46db-91bf-68fa2b45a7bf",
   "metadata": {},
   "source": [
    "Thus to be able to replace the incorrect values in new values is necessary to define a mapping of correspondences, containing as key to replace the old values and values as the new ones.    "
   ]
  },
  {
   "cell_type": "code",
   "execution_count": 426,
   "id": "da4e1fac-7c4b-4b89-b670-ea16d2b52c68",
   "metadata": {},
   "outputs": [
    {
     "data": {
      "text/html": [
       "<div>\n",
       "<style scoped>\n",
       "    .dataframe tbody tr th:only-of-type {\n",
       "        vertical-align: middle;\n",
       "    }\n",
       "\n",
       "    .dataframe tbody tr th {\n",
       "        vertical-align: top;\n",
       "    }\n",
       "\n",
       "    .dataframe thead th {\n",
       "        text-align: right;\n",
       "    }\n",
       "</style>\n",
       "<table border=\"1\" class=\"dataframe\">\n",
       "  <thead>\n",
       "    <tr style=\"text-align: right;\">\n",
       "      <th></th>\n",
       "      <th>item</th>\n",
       "      <th>color</th>\n",
       "      <th>price</th>\n",
       "    </tr>\n",
       "  </thead>\n",
       "  <tbody>\n",
       "    <tr>\n",
       "      <th>0</th>\n",
       "      <td>ball</td>\n",
       "      <td>white</td>\n",
       "      <td>5.56</td>\n",
       "    </tr>\n",
       "    <tr>\n",
       "      <th>1</th>\n",
       "      <td>mug</td>\n",
       "      <td>red</td>\n",
       "      <td>4.20</td>\n",
       "    </tr>\n",
       "    <tr>\n",
       "      <th>2</th>\n",
       "      <td>pen</td>\n",
       "      <td>green</td>\n",
       "      <td>1.30</td>\n",
       "    </tr>\n",
       "    <tr>\n",
       "      <th>3</th>\n",
       "      <td>pencil</td>\n",
       "      <td>black</td>\n",
       "      <td>0.56</td>\n",
       "    </tr>\n",
       "    <tr>\n",
       "      <th>4</th>\n",
       "      <td>ashtray</td>\n",
       "      <td>yellow</td>\n",
       "      <td>2.75</td>\n",
       "    </tr>\n",
       "  </tbody>\n",
       "</table>\n",
       "</div>"
      ],
      "text/plain": [
       "      item   color  price\n",
       "0     ball   white   5.56\n",
       "1      mug     red   4.20\n",
       "2      pen   green   1.30\n",
       "3   pencil   black   0.56\n",
       "4  ashtray  yellow   2.75"
      ]
     },
     "execution_count": 426,
     "metadata": {},
     "output_type": "execute_result"
    }
   ],
   "source": [
    "newcolors = {\n",
    "    'rosso' : 'red',\n",
    "    'verde' : 'green'\n",
    "}\n",
    "frame.replace(newcolors)"
   ]
  },
  {
   "cell_type": "markdown",
   "id": "2e13c4a9-3ff6-49ae-b43a-6906376d40c1",
   "metadata": {},
   "source": [
    "As you can see from the result, the two colors have been replaced with the correct values within the DataFrame. A common case, for example, is the replacement of the NaN values with another value, for example (0). Also here you can use the __replace()__, which performs its job very well.   "
   ]
  },
  {
   "cell_type": "code",
   "execution_count": 427,
   "id": "0df8c6e3-32b0-4e4d-a2bb-96fb7f385a2c",
   "metadata": {},
   "outputs": [],
   "source": [
    "import numpy as np"
   ]
  },
  {
   "cell_type": "code",
   "execution_count": 428,
   "id": "2b79e265-82b7-4072-9da6-bb39d31ec775",
   "metadata": {},
   "outputs": [],
   "source": [
    "longframe = pd.DataFrame({ 'color':['white','white','white',\n",
    "... 'red','red','red',\n",
    "... 'black','black','black'],\n",
    "... 'item':['ball','pen','mug',\n",
    "... 'ball','pen','mug',\n",
    "... 'ball','pen','mug'],\n",
    "... 'value': np.random.rand(9)})"
   ]
  },
  {
   "cell_type": "code",
   "execution_count": 429,
   "id": "48b719e0-bc70-4903-aa72-67b56c145796",
   "metadata": {},
   "outputs": [
    {
     "data": {
      "text/html": [
       "<div>\n",
       "<style scoped>\n",
       "    .dataframe tbody tr th:only-of-type {\n",
       "        vertical-align: middle;\n",
       "    }\n",
       "\n",
       "    .dataframe tbody tr th {\n",
       "        vertical-align: top;\n",
       "    }\n",
       "\n",
       "    .dataframe thead th {\n",
       "        text-align: right;\n",
       "    }\n",
       "</style>\n",
       "<table border=\"1\" class=\"dataframe\">\n",
       "  <thead>\n",
       "    <tr style=\"text-align: right;\">\n",
       "      <th></th>\n",
       "      <th>color</th>\n",
       "      <th>item</th>\n",
       "      <th>value</th>\n",
       "    </tr>\n",
       "  </thead>\n",
       "  <tbody>\n",
       "    <tr>\n",
       "      <th>0</th>\n",
       "      <td>white</td>\n",
       "      <td>ball</td>\n",
       "      <td>0.707344</td>\n",
       "    </tr>\n",
       "    <tr>\n",
       "      <th>1</th>\n",
       "      <td>white</td>\n",
       "      <td>pen</td>\n",
       "      <td>0.476416</td>\n",
       "    </tr>\n",
       "    <tr>\n",
       "      <th>2</th>\n",
       "      <td>white</td>\n",
       "      <td>mug</td>\n",
       "      <td>0.766438</td>\n",
       "    </tr>\n",
       "    <tr>\n",
       "      <th>3</th>\n",
       "      <td>red</td>\n",
       "      <td>ball</td>\n",
       "      <td>0.167292</td>\n",
       "    </tr>\n",
       "    <tr>\n",
       "      <th>4</th>\n",
       "      <td>red</td>\n",
       "      <td>pen</td>\n",
       "      <td>0.423779</td>\n",
       "    </tr>\n",
       "    <tr>\n",
       "      <th>5</th>\n",
       "      <td>red</td>\n",
       "      <td>mug</td>\n",
       "      <td>0.722793</td>\n",
       "    </tr>\n",
       "    <tr>\n",
       "      <th>6</th>\n",
       "      <td>black</td>\n",
       "      <td>ball</td>\n",
       "      <td>0.887541</td>\n",
       "    </tr>\n",
       "    <tr>\n",
       "      <th>7</th>\n",
       "      <td>black</td>\n",
       "      <td>pen</td>\n",
       "      <td>0.271878</td>\n",
       "    </tr>\n",
       "    <tr>\n",
       "      <th>8</th>\n",
       "      <td>black</td>\n",
       "      <td>mug</td>\n",
       "      <td>0.925644</td>\n",
       "    </tr>\n",
       "  </tbody>\n",
       "</table>\n",
       "</div>"
      ],
      "text/plain": [
       "   color  item     value\n",
       "0  white  ball  0.707344\n",
       "1  white   pen  0.476416\n",
       "2  white   mug  0.766438\n",
       "3    red  ball  0.167292\n",
       "4    red   pen  0.423779\n",
       "5    red   mug  0.722793\n",
       "6  black  ball  0.887541\n",
       "7  black   pen  0.271878\n",
       "8  black   mug  0.925644"
      ]
     },
     "execution_count": 429,
     "metadata": {},
     "output_type": "execute_result"
    }
   ],
   "source": [
    "longframe"
   ]
  },
  {
   "cell_type": "code",
   "execution_count": 430,
   "id": "99950925-8153-4bf1-8862-8ef8b5419e50",
   "metadata": {},
   "outputs": [],
   "source": [
    "wideframe = longframe.pivot(columns = 'item')"
   ]
  },
  {
   "cell_type": "code",
   "execution_count": 431,
   "id": "b57fdf9b-f716-4063-92d7-9817296da5fc",
   "metadata": {},
   "outputs": [
    {
     "data": {
      "text/html": [
       "<div>\n",
       "<style scoped>\n",
       "    .dataframe tbody tr th:only-of-type {\n",
       "        vertical-align: middle;\n",
       "    }\n",
       "\n",
       "    .dataframe tbody tr th {\n",
       "        vertical-align: top;\n",
       "    }\n",
       "\n",
       "    .dataframe thead tr th {\n",
       "        text-align: left;\n",
       "    }\n",
       "</style>\n",
       "<table border=\"1\" class=\"dataframe\">\n",
       "  <thead>\n",
       "    <tr>\n",
       "      <th></th>\n",
       "      <th colspan=\"3\" halign=\"left\">color</th>\n",
       "      <th colspan=\"3\" halign=\"left\">value</th>\n",
       "    </tr>\n",
       "    <tr>\n",
       "      <th>item</th>\n",
       "      <th>ball</th>\n",
       "      <th>mug</th>\n",
       "      <th>pen</th>\n",
       "      <th>ball</th>\n",
       "      <th>mug</th>\n",
       "      <th>pen</th>\n",
       "    </tr>\n",
       "  </thead>\n",
       "  <tbody>\n",
       "    <tr>\n",
       "      <th>0</th>\n",
       "      <td>white</td>\n",
       "      <td>NaN</td>\n",
       "      <td>NaN</td>\n",
       "      <td>0.707344</td>\n",
       "      <td>NaN</td>\n",
       "      <td>NaN</td>\n",
       "    </tr>\n",
       "    <tr>\n",
       "      <th>1</th>\n",
       "      <td>NaN</td>\n",
       "      <td>NaN</td>\n",
       "      <td>white</td>\n",
       "      <td>NaN</td>\n",
       "      <td>NaN</td>\n",
       "      <td>0.476416</td>\n",
       "    </tr>\n",
       "    <tr>\n",
       "      <th>2</th>\n",
       "      <td>NaN</td>\n",
       "      <td>white</td>\n",
       "      <td>NaN</td>\n",
       "      <td>NaN</td>\n",
       "      <td>0.766438</td>\n",
       "      <td>NaN</td>\n",
       "    </tr>\n",
       "    <tr>\n",
       "      <th>3</th>\n",
       "      <td>red</td>\n",
       "      <td>NaN</td>\n",
       "      <td>NaN</td>\n",
       "      <td>0.167292</td>\n",
       "      <td>NaN</td>\n",
       "      <td>NaN</td>\n",
       "    </tr>\n",
       "    <tr>\n",
       "      <th>4</th>\n",
       "      <td>NaN</td>\n",
       "      <td>NaN</td>\n",
       "      <td>red</td>\n",
       "      <td>NaN</td>\n",
       "      <td>NaN</td>\n",
       "      <td>0.423779</td>\n",
       "    </tr>\n",
       "    <tr>\n",
       "      <th>5</th>\n",
       "      <td>NaN</td>\n",
       "      <td>red</td>\n",
       "      <td>NaN</td>\n",
       "      <td>NaN</td>\n",
       "      <td>0.722793</td>\n",
       "      <td>NaN</td>\n",
       "    </tr>\n",
       "    <tr>\n",
       "      <th>6</th>\n",
       "      <td>black</td>\n",
       "      <td>NaN</td>\n",
       "      <td>NaN</td>\n",
       "      <td>0.887541</td>\n",
       "      <td>NaN</td>\n",
       "      <td>NaN</td>\n",
       "    </tr>\n",
       "    <tr>\n",
       "      <th>7</th>\n",
       "      <td>NaN</td>\n",
       "      <td>NaN</td>\n",
       "      <td>black</td>\n",
       "      <td>NaN</td>\n",
       "      <td>NaN</td>\n",
       "      <td>0.271878</td>\n",
       "    </tr>\n",
       "    <tr>\n",
       "      <th>8</th>\n",
       "      <td>NaN</td>\n",
       "      <td>black</td>\n",
       "      <td>NaN</td>\n",
       "      <td>NaN</td>\n",
       "      <td>0.925644</td>\n",
       "      <td>NaN</td>\n",
       "    </tr>\n",
       "  </tbody>\n",
       "</table>\n",
       "</div>"
      ],
      "text/plain": [
       "      color                   value                    \n",
       "item   ball    mug    pen      ball       mug       pen\n",
       "0     white    NaN    NaN  0.707344       NaN       NaN\n",
       "1       NaN    NaN  white       NaN       NaN  0.476416\n",
       "2       NaN  white    NaN       NaN  0.766438       NaN\n",
       "3       red    NaN    NaN  0.167292       NaN       NaN\n",
       "4       NaN    NaN    red       NaN       NaN  0.423779\n",
       "5       NaN    red    NaN       NaN  0.722793       NaN\n",
       "6     black    NaN    NaN  0.887541       NaN       NaN\n",
       "7       NaN    NaN  black       NaN       NaN  0.271878\n",
       "8       NaN  black    NaN       NaN  0.925644       NaN"
      ]
     },
     "execution_count": 431,
     "metadata": {},
     "output_type": "execute_result"
    }
   ],
   "source": [
    "wideframe"
   ]
  },
  {
   "cell_type": "code",
   "execution_count": 432,
   "id": "a911c3c1-4084-4b20-bde1-4f3a76e85bd0",
   "metadata": {},
   "outputs": [
    {
     "data": {
      "text/html": [
       "<div>\n",
       "<style scoped>\n",
       "    .dataframe tbody tr th:only-of-type {\n",
       "        vertical-align: middle;\n",
       "    }\n",
       "\n",
       "    .dataframe tbody tr th {\n",
       "        vertical-align: top;\n",
       "    }\n",
       "\n",
       "    .dataframe thead tr th {\n",
       "        text-align: left;\n",
       "    }\n",
       "</style>\n",
       "<table border=\"1\" class=\"dataframe\">\n",
       "  <thead>\n",
       "    <tr>\n",
       "      <th></th>\n",
       "      <th colspan=\"3\" halign=\"left\">color</th>\n",
       "      <th colspan=\"3\" halign=\"left\">value</th>\n",
       "    </tr>\n",
       "    <tr>\n",
       "      <th>item</th>\n",
       "      <th>ball</th>\n",
       "      <th>mug</th>\n",
       "      <th>pen</th>\n",
       "      <th>ball</th>\n",
       "      <th>mug</th>\n",
       "      <th>pen</th>\n",
       "    </tr>\n",
       "  </thead>\n",
       "  <tbody>\n",
       "    <tr>\n",
       "      <th>0</th>\n",
       "      <td>white</td>\n",
       "      <td>0.0</td>\n",
       "      <td>0.0</td>\n",
       "      <td>0.707344</td>\n",
       "      <td>0.000000</td>\n",
       "      <td>0.000000</td>\n",
       "    </tr>\n",
       "    <tr>\n",
       "      <th>1</th>\n",
       "      <td>0.0</td>\n",
       "      <td>0.0</td>\n",
       "      <td>white</td>\n",
       "      <td>0.000000</td>\n",
       "      <td>0.000000</td>\n",
       "      <td>0.476416</td>\n",
       "    </tr>\n",
       "    <tr>\n",
       "      <th>2</th>\n",
       "      <td>0.0</td>\n",
       "      <td>white</td>\n",
       "      <td>0.0</td>\n",
       "      <td>0.000000</td>\n",
       "      <td>0.766438</td>\n",
       "      <td>0.000000</td>\n",
       "    </tr>\n",
       "    <tr>\n",
       "      <th>3</th>\n",
       "      <td>red</td>\n",
       "      <td>0.0</td>\n",
       "      <td>0.0</td>\n",
       "      <td>0.167292</td>\n",
       "      <td>0.000000</td>\n",
       "      <td>0.000000</td>\n",
       "    </tr>\n",
       "    <tr>\n",
       "      <th>4</th>\n",
       "      <td>0.0</td>\n",
       "      <td>0.0</td>\n",
       "      <td>red</td>\n",
       "      <td>0.000000</td>\n",
       "      <td>0.000000</td>\n",
       "      <td>0.423779</td>\n",
       "    </tr>\n",
       "    <tr>\n",
       "      <th>5</th>\n",
       "      <td>0.0</td>\n",
       "      <td>red</td>\n",
       "      <td>0.0</td>\n",
       "      <td>0.000000</td>\n",
       "      <td>0.722793</td>\n",
       "      <td>0.000000</td>\n",
       "    </tr>\n",
       "    <tr>\n",
       "      <th>6</th>\n",
       "      <td>black</td>\n",
       "      <td>0.0</td>\n",
       "      <td>0.0</td>\n",
       "      <td>0.887541</td>\n",
       "      <td>0.000000</td>\n",
       "      <td>0.000000</td>\n",
       "    </tr>\n",
       "    <tr>\n",
       "      <th>7</th>\n",
       "      <td>0.0</td>\n",
       "      <td>0.0</td>\n",
       "      <td>black</td>\n",
       "      <td>0.000000</td>\n",
       "      <td>0.000000</td>\n",
       "      <td>0.271878</td>\n",
       "    </tr>\n",
       "    <tr>\n",
       "      <th>8</th>\n",
       "      <td>0.0</td>\n",
       "      <td>black</td>\n",
       "      <td>0.0</td>\n",
       "      <td>0.000000</td>\n",
       "      <td>0.925644</td>\n",
       "      <td>0.000000</td>\n",
       "    </tr>\n",
       "  </tbody>\n",
       "</table>\n",
       "</div>"
      ],
      "text/plain": [
       "      color                   value                    \n",
       "item   ball    mug    pen      ball       mug       pen\n",
       "0     white    0.0    0.0  0.707344  0.000000  0.000000\n",
       "1       0.0    0.0  white  0.000000  0.000000  0.476416\n",
       "2       0.0  white    0.0  0.000000  0.766438  0.000000\n",
       "3       red    0.0    0.0  0.167292  0.000000  0.000000\n",
       "4       0.0    0.0    red  0.000000  0.000000  0.423779\n",
       "5       0.0    red    0.0  0.000000  0.722793  0.000000\n",
       "6     black    0.0    0.0  0.887541  0.000000  0.000000\n",
       "7       0.0    0.0  black  0.000000  0.000000  0.271878\n",
       "8       0.0  black    0.0  0.000000  0.925644  0.000000"
      ]
     },
     "execution_count": 432,
     "metadata": {},
     "output_type": "execute_result"
    }
   ],
   "source": [
    "wideframe.replace(np.nan, 0.0)"
   ]
  },
  {
   "cell_type": "markdown",
   "id": "1c9f1dc4-97d9-4568-805c-df691e303840",
   "metadata": {},
   "source": [
    "### Adding values via Mapping\n",
    "In the previous section you have seen the case of the substitution of values through a mapping of correspondences. In this case you continue to ecploit the mapping of values with another example. In this case you are expoliting mapping to add values in a column depending on the values contained in another.   \n",
    "The mapping will always be defined separately."
   ]
  },
  {
   "cell_type": "code",
   "execution_count": 433,
   "id": "f028df05-e37a-4749-9b8e-908f08635284",
   "metadata": {},
   "outputs": [],
   "source": [
    "frame = pd.DataFrame({ 'item':['ball','mug','pen','pencil','ashtray'],\n",
    "... 'color':['white','red','green','black','yellow']})"
   ]
  },
  {
   "cell_type": "code",
   "execution_count": 434,
   "id": "39525dd6-4ab2-414f-b8ff-7d791c91e2a7",
   "metadata": {},
   "outputs": [
    {
     "data": {
      "text/html": [
       "<div>\n",
       "<style scoped>\n",
       "    .dataframe tbody tr th:only-of-type {\n",
       "        vertical-align: middle;\n",
       "    }\n",
       "\n",
       "    .dataframe tbody tr th {\n",
       "        vertical-align: top;\n",
       "    }\n",
       "\n",
       "    .dataframe thead th {\n",
       "        text-align: right;\n",
       "    }\n",
       "</style>\n",
       "<table border=\"1\" class=\"dataframe\">\n",
       "  <thead>\n",
       "    <tr style=\"text-align: right;\">\n",
       "      <th></th>\n",
       "      <th>item</th>\n",
       "      <th>color</th>\n",
       "    </tr>\n",
       "  </thead>\n",
       "  <tbody>\n",
       "    <tr>\n",
       "      <th>0</th>\n",
       "      <td>ball</td>\n",
       "      <td>white</td>\n",
       "    </tr>\n",
       "    <tr>\n",
       "      <th>1</th>\n",
       "      <td>mug</td>\n",
       "      <td>red</td>\n",
       "    </tr>\n",
       "    <tr>\n",
       "      <th>2</th>\n",
       "      <td>pen</td>\n",
       "      <td>green</td>\n",
       "    </tr>\n",
       "    <tr>\n",
       "      <th>3</th>\n",
       "      <td>pencil</td>\n",
       "      <td>black</td>\n",
       "    </tr>\n",
       "    <tr>\n",
       "      <th>4</th>\n",
       "      <td>ashtray</td>\n",
       "      <td>yellow</td>\n",
       "    </tr>\n",
       "  </tbody>\n",
       "</table>\n",
       "</div>"
      ],
      "text/plain": [
       "      item   color\n",
       "0     ball   white\n",
       "1      mug     red\n",
       "2      pen   green\n",
       "3   pencil   black\n",
       "4  ashtray  yellow"
      ]
     },
     "execution_count": 434,
     "metadata": {},
     "output_type": "execute_result"
    }
   ],
   "source": [
    "frame"
   ]
  },
  {
   "cell_type": "markdown",
   "id": "19c3fef2-53f9-46cd-8983-59f47b78f54f",
   "metadata": {},
   "source": [
    "Let's suppose you want to add a column to indicate the price of the item shown in the DataFrame.   \n",
    "Before you do this, it is a suumed that you have a price list avaliable somewhere, in which the price for each type of item is described. Define then a dect object that contains a list of prices for each type of them.   "
   ]
  },
  {
   "cell_type": "code",
   "execution_count": 435,
   "id": "ef3eb21e-4643-4b85-895e-724cbe8262f8",
   "metadata": {},
   "outputs": [],
   "source": [
    "price = {\n",
    "... 'ball' : 5.56,\n",
    "... 'mug' : 4.20,\n",
    "... 'bottle' : 1.30,\n",
    "... 'scissors' : 3.41,\n",
    "... 'pen' : 1.30,\n",
    "... 'pencil' : 0.56,\n",
    "... 'ashtray' : 2.75\n",
    "... }\n",
    "# adding column to a DataFrame"
   ]
  },
  {
   "cell_type": "markdown",
   "id": "2ef52d07-7944-405e-972e-dff77988d408",
   "metadata": {},
   "source": [
    "The __map()__ function applied to a Series or to a column of DataFrame accepts a function or an object containing a dict with mapping. So in your case you can apply the mapping of the prices on the column item, making sure to add a column to the price DataFrame"
   ]
  },
  {
   "cell_type": "code",
   "execution_count": 436,
   "id": "36f1b3f8-3743-498f-8922-676f790384b5",
   "metadata": {},
   "outputs": [],
   "source": [
    "frame['price'] = frame['item'].map(price)"
   ]
  },
  {
   "cell_type": "code",
   "execution_count": 437,
   "id": "32460774-c448-4b55-910f-4539d286dda0",
   "metadata": {},
   "outputs": [
    {
     "data": {
      "text/html": [
       "<div>\n",
       "<style scoped>\n",
       "    .dataframe tbody tr th:only-of-type {\n",
       "        vertical-align: middle;\n",
       "    }\n",
       "\n",
       "    .dataframe tbody tr th {\n",
       "        vertical-align: top;\n",
       "    }\n",
       "\n",
       "    .dataframe thead th {\n",
       "        text-align: right;\n",
       "    }\n",
       "</style>\n",
       "<table border=\"1\" class=\"dataframe\">\n",
       "  <thead>\n",
       "    <tr style=\"text-align: right;\">\n",
       "      <th></th>\n",
       "      <th>item</th>\n",
       "      <th>color</th>\n",
       "      <th>price</th>\n",
       "    </tr>\n",
       "  </thead>\n",
       "  <tbody>\n",
       "    <tr>\n",
       "      <th>0</th>\n",
       "      <td>ball</td>\n",
       "      <td>white</td>\n",
       "      <td>5.56</td>\n",
       "    </tr>\n",
       "    <tr>\n",
       "      <th>1</th>\n",
       "      <td>mug</td>\n",
       "      <td>red</td>\n",
       "      <td>4.20</td>\n",
       "    </tr>\n",
       "    <tr>\n",
       "      <th>2</th>\n",
       "      <td>pen</td>\n",
       "      <td>green</td>\n",
       "      <td>1.30</td>\n",
       "    </tr>\n",
       "    <tr>\n",
       "      <th>3</th>\n",
       "      <td>pencil</td>\n",
       "      <td>black</td>\n",
       "      <td>0.56</td>\n",
       "    </tr>\n",
       "    <tr>\n",
       "      <th>4</th>\n",
       "      <td>ashtray</td>\n",
       "      <td>yellow</td>\n",
       "      <td>2.75</td>\n",
       "    </tr>\n",
       "  </tbody>\n",
       "</table>\n",
       "</div>"
      ],
      "text/plain": [
       "      item   color  price\n",
       "0     ball   white   5.56\n",
       "1      mug     red   4.20\n",
       "2      pen   green   1.30\n",
       "3   pencil   black   0.56\n",
       "4  ashtray  yellow   2.75"
      ]
     },
     "execution_count": 437,
     "metadata": {},
     "output_type": "execute_result"
    }
   ],
   "source": [
    "frame # price column added "
   ]
  },
  {
   "cell_type": "code",
   "execution_count": 438,
   "id": "3231388d-b04f-42fd-8117-b4daf8ab2771",
   "metadata": {},
   "outputs": [
    {
     "ename": "KeyError",
     "evalue": "\"['prices'] not found in axis\"",
     "output_type": "error",
     "traceback": [
      "\u001b[0;31m---------------------------------------------------------------------------\u001b[0m",
      "\u001b[0;31mKeyError\u001b[0m                                  Traceback (most recent call last)",
      "Cell \u001b[0;32mIn[438], line 1\u001b[0m\n\u001b[0;32m----> 1\u001b[0m \u001b[43mframe\u001b[49m\u001b[38;5;241;43m.\u001b[39;49m\u001b[43mdrop\u001b[49m\u001b[43m(\u001b[49m\u001b[38;5;124;43m'\u001b[39;49m\u001b[38;5;124;43mprices\u001b[39;49m\u001b[38;5;124;43m'\u001b[39;49m\u001b[43m,\u001b[49m\u001b[43m \u001b[49m\u001b[43maxis\u001b[49m\u001b[38;5;241;43m=\u001b[39;49m\u001b[38;5;241;43m1\u001b[39;49m\u001b[43m)\u001b[49m\n",
      "File \u001b[0;32m/opt/anaconda3/envs/myenv/lib/python3.8/site-packages/pandas/core/frame.py:5258\u001b[0m, in \u001b[0;36mDataFrame.drop\u001b[0;34m(self, labels, axis, index, columns, level, inplace, errors)\u001b[0m\n\u001b[1;32m   5110\u001b[0m \u001b[38;5;28;01mdef\u001b[39;00m \u001b[38;5;21mdrop\u001b[39m(\n\u001b[1;32m   5111\u001b[0m     \u001b[38;5;28mself\u001b[39m,\n\u001b[1;32m   5112\u001b[0m     labels: IndexLabel \u001b[38;5;241m=\u001b[39m \u001b[38;5;28;01mNone\u001b[39;00m,\n\u001b[0;32m   (...)\u001b[0m\n\u001b[1;32m   5119\u001b[0m     errors: IgnoreRaise \u001b[38;5;241m=\u001b[39m \u001b[38;5;124m\"\u001b[39m\u001b[38;5;124mraise\u001b[39m\u001b[38;5;124m\"\u001b[39m,\n\u001b[1;32m   5120\u001b[0m ) \u001b[38;5;241m-\u001b[39m\u001b[38;5;241m>\u001b[39m DataFrame \u001b[38;5;241m|\u001b[39m \u001b[38;5;28;01mNone\u001b[39;00m:\n\u001b[1;32m   5121\u001b[0m \u001b[38;5;250m    \u001b[39m\u001b[38;5;124;03m\"\"\"\u001b[39;00m\n\u001b[1;32m   5122\u001b[0m \u001b[38;5;124;03m    Drop specified labels from rows or columns.\u001b[39;00m\n\u001b[1;32m   5123\u001b[0m \n\u001b[0;32m   (...)\u001b[0m\n\u001b[1;32m   5256\u001b[0m \u001b[38;5;124;03m            weight  1.0     0.8\u001b[39;00m\n\u001b[1;32m   5257\u001b[0m \u001b[38;5;124;03m    \"\"\"\u001b[39;00m\n\u001b[0;32m-> 5258\u001b[0m     \u001b[38;5;28;01mreturn\u001b[39;00m \u001b[38;5;28;43msuper\u001b[39;49m\u001b[43m(\u001b[49m\u001b[43m)\u001b[49m\u001b[38;5;241;43m.\u001b[39;49m\u001b[43mdrop\u001b[49m\u001b[43m(\u001b[49m\n\u001b[1;32m   5259\u001b[0m \u001b[43m        \u001b[49m\u001b[43mlabels\u001b[49m\u001b[38;5;241;43m=\u001b[39;49m\u001b[43mlabels\u001b[49m\u001b[43m,\u001b[49m\n\u001b[1;32m   5260\u001b[0m \u001b[43m        \u001b[49m\u001b[43maxis\u001b[49m\u001b[38;5;241;43m=\u001b[39;49m\u001b[43maxis\u001b[49m\u001b[43m,\u001b[49m\n\u001b[1;32m   5261\u001b[0m \u001b[43m        \u001b[49m\u001b[43mindex\u001b[49m\u001b[38;5;241;43m=\u001b[39;49m\u001b[43mindex\u001b[49m\u001b[43m,\u001b[49m\n\u001b[1;32m   5262\u001b[0m \u001b[43m        \u001b[49m\u001b[43mcolumns\u001b[49m\u001b[38;5;241;43m=\u001b[39;49m\u001b[43mcolumns\u001b[49m\u001b[43m,\u001b[49m\n\u001b[1;32m   5263\u001b[0m \u001b[43m        \u001b[49m\u001b[43mlevel\u001b[49m\u001b[38;5;241;43m=\u001b[39;49m\u001b[43mlevel\u001b[49m\u001b[43m,\u001b[49m\n\u001b[1;32m   5264\u001b[0m \u001b[43m        \u001b[49m\u001b[43minplace\u001b[49m\u001b[38;5;241;43m=\u001b[39;49m\u001b[43minplace\u001b[49m\u001b[43m,\u001b[49m\n\u001b[1;32m   5265\u001b[0m \u001b[43m        \u001b[49m\u001b[43merrors\u001b[49m\u001b[38;5;241;43m=\u001b[39;49m\u001b[43merrors\u001b[49m\u001b[43m,\u001b[49m\n\u001b[1;32m   5266\u001b[0m \u001b[43m    \u001b[49m\u001b[43m)\u001b[49m\n",
      "File \u001b[0;32m/opt/anaconda3/envs/myenv/lib/python3.8/site-packages/pandas/core/generic.py:4549\u001b[0m, in \u001b[0;36mNDFrame.drop\u001b[0;34m(self, labels, axis, index, columns, level, inplace, errors)\u001b[0m\n\u001b[1;32m   4547\u001b[0m \u001b[38;5;28;01mfor\u001b[39;00m axis, labels \u001b[38;5;129;01min\u001b[39;00m axes\u001b[38;5;241m.\u001b[39mitems():\n\u001b[1;32m   4548\u001b[0m     \u001b[38;5;28;01mif\u001b[39;00m labels \u001b[38;5;129;01mis\u001b[39;00m \u001b[38;5;129;01mnot\u001b[39;00m \u001b[38;5;28;01mNone\u001b[39;00m:\n\u001b[0;32m-> 4549\u001b[0m         obj \u001b[38;5;241m=\u001b[39m \u001b[43mobj\u001b[49m\u001b[38;5;241;43m.\u001b[39;49m\u001b[43m_drop_axis\u001b[49m\u001b[43m(\u001b[49m\u001b[43mlabels\u001b[49m\u001b[43m,\u001b[49m\u001b[43m \u001b[49m\u001b[43maxis\u001b[49m\u001b[43m,\u001b[49m\u001b[43m \u001b[49m\u001b[43mlevel\u001b[49m\u001b[38;5;241;43m=\u001b[39;49m\u001b[43mlevel\u001b[49m\u001b[43m,\u001b[49m\u001b[43m \u001b[49m\u001b[43merrors\u001b[49m\u001b[38;5;241;43m=\u001b[39;49m\u001b[43merrors\u001b[49m\u001b[43m)\u001b[49m\n\u001b[1;32m   4551\u001b[0m \u001b[38;5;28;01mif\u001b[39;00m inplace:\n\u001b[1;32m   4552\u001b[0m     \u001b[38;5;28mself\u001b[39m\u001b[38;5;241m.\u001b[39m_update_inplace(obj)\n",
      "File \u001b[0;32m/opt/anaconda3/envs/myenv/lib/python3.8/site-packages/pandas/core/generic.py:4591\u001b[0m, in \u001b[0;36mNDFrame._drop_axis\u001b[0;34m(self, labels, axis, level, errors, only_slice)\u001b[0m\n\u001b[1;32m   4589\u001b[0m         new_axis \u001b[38;5;241m=\u001b[39m axis\u001b[38;5;241m.\u001b[39mdrop(labels, level\u001b[38;5;241m=\u001b[39mlevel, errors\u001b[38;5;241m=\u001b[39merrors)\n\u001b[1;32m   4590\u001b[0m     \u001b[38;5;28;01melse\u001b[39;00m:\n\u001b[0;32m-> 4591\u001b[0m         new_axis \u001b[38;5;241m=\u001b[39m \u001b[43maxis\u001b[49m\u001b[38;5;241;43m.\u001b[39;49m\u001b[43mdrop\u001b[49m\u001b[43m(\u001b[49m\u001b[43mlabels\u001b[49m\u001b[43m,\u001b[49m\u001b[43m \u001b[49m\u001b[43merrors\u001b[49m\u001b[38;5;241;43m=\u001b[39;49m\u001b[43merrors\u001b[49m\u001b[43m)\u001b[49m\n\u001b[1;32m   4592\u001b[0m     indexer \u001b[38;5;241m=\u001b[39m axis\u001b[38;5;241m.\u001b[39mget_indexer(new_axis)\n\u001b[1;32m   4594\u001b[0m \u001b[38;5;66;03m# Case for non-unique axis\u001b[39;00m\n\u001b[1;32m   4595\u001b[0m \u001b[38;5;28;01melse\u001b[39;00m:\n",
      "File \u001b[0;32m/opt/anaconda3/envs/myenv/lib/python3.8/site-packages/pandas/core/indexes/base.py:6699\u001b[0m, in \u001b[0;36mIndex.drop\u001b[0;34m(self, labels, errors)\u001b[0m\n\u001b[1;32m   6697\u001b[0m \u001b[38;5;28;01mif\u001b[39;00m mask\u001b[38;5;241m.\u001b[39many():\n\u001b[1;32m   6698\u001b[0m     \u001b[38;5;28;01mif\u001b[39;00m errors \u001b[38;5;241m!=\u001b[39m \u001b[38;5;124m\"\u001b[39m\u001b[38;5;124mignore\u001b[39m\u001b[38;5;124m\"\u001b[39m:\n\u001b[0;32m-> 6699\u001b[0m         \u001b[38;5;28;01mraise\u001b[39;00m \u001b[38;5;167;01mKeyError\u001b[39;00m(\u001b[38;5;124mf\u001b[39m\u001b[38;5;124m\"\u001b[39m\u001b[38;5;132;01m{\u001b[39;00m\u001b[38;5;28mlist\u001b[39m(labels[mask])\u001b[38;5;132;01m}\u001b[39;00m\u001b[38;5;124m not found in axis\u001b[39m\u001b[38;5;124m\"\u001b[39m)\n\u001b[1;32m   6700\u001b[0m     indexer \u001b[38;5;241m=\u001b[39m indexer[\u001b[38;5;241m~\u001b[39mmask]\n\u001b[1;32m   6701\u001b[0m \u001b[38;5;28;01mreturn\u001b[39;00m \u001b[38;5;28mself\u001b[39m\u001b[38;5;241m.\u001b[39mdelete(indexer)\n",
      "\u001b[0;31mKeyError\u001b[0m: \"['prices'] not found in axis\""
     ]
    }
   ],
   "source": [
    "frame.drop('prices', axis=1)"
   ]
  },
  {
   "cell_type": "markdown",
   "id": "cb231423-3641-44b5-bdde-f3ebc65260fe",
   "metadata": {},
   "source": [
    "### Renaming the Indexes of the Axes\n",
    "Even the axis label can be transformed in a very similar way using the mapping. So to replace the label indexes, pandas provides the __rename()__ function, which takes the mapping as argument, that is, a dict object."
   ]
  },
  {
   "cell_type": "code",
   "execution_count": 439,
   "id": "c9f96a7e-683d-457d-abc3-0a4a2049b8cd",
   "metadata": {},
   "outputs": [
    {
     "ename": "KeyError",
     "evalue": "\"['prices'] not found in axis\"",
     "output_type": "error",
     "traceback": [
      "\u001b[0;31m---------------------------------------------------------------------------\u001b[0m",
      "\u001b[0;31mKeyError\u001b[0m                                  Traceback (most recent call last)",
      "Cell \u001b[0;32mIn[439], line 1\u001b[0m\n\u001b[0;32m----> 1\u001b[0m frame1 \u001b[38;5;241m=\u001b[39m \u001b[43mframe\u001b[49m\u001b[38;5;241;43m.\u001b[39;49m\u001b[43mdrop\u001b[49m\u001b[43m(\u001b[49m\u001b[38;5;124;43m'\u001b[39;49m\u001b[38;5;124;43mprices\u001b[39;49m\u001b[38;5;124;43m'\u001b[39;49m\u001b[43m,\u001b[49m\u001b[43m \u001b[49m\u001b[43maxis\u001b[49m\u001b[38;5;241;43m=\u001b[39;49m\u001b[38;5;241;43m1\u001b[39;49m\u001b[43m)\u001b[49m\n",
      "File \u001b[0;32m/opt/anaconda3/envs/myenv/lib/python3.8/site-packages/pandas/core/frame.py:5258\u001b[0m, in \u001b[0;36mDataFrame.drop\u001b[0;34m(self, labels, axis, index, columns, level, inplace, errors)\u001b[0m\n\u001b[1;32m   5110\u001b[0m \u001b[38;5;28;01mdef\u001b[39;00m \u001b[38;5;21mdrop\u001b[39m(\n\u001b[1;32m   5111\u001b[0m     \u001b[38;5;28mself\u001b[39m,\n\u001b[1;32m   5112\u001b[0m     labels: IndexLabel \u001b[38;5;241m=\u001b[39m \u001b[38;5;28;01mNone\u001b[39;00m,\n\u001b[0;32m   (...)\u001b[0m\n\u001b[1;32m   5119\u001b[0m     errors: IgnoreRaise \u001b[38;5;241m=\u001b[39m \u001b[38;5;124m\"\u001b[39m\u001b[38;5;124mraise\u001b[39m\u001b[38;5;124m\"\u001b[39m,\n\u001b[1;32m   5120\u001b[0m ) \u001b[38;5;241m-\u001b[39m\u001b[38;5;241m>\u001b[39m DataFrame \u001b[38;5;241m|\u001b[39m \u001b[38;5;28;01mNone\u001b[39;00m:\n\u001b[1;32m   5121\u001b[0m \u001b[38;5;250m    \u001b[39m\u001b[38;5;124;03m\"\"\"\u001b[39;00m\n\u001b[1;32m   5122\u001b[0m \u001b[38;5;124;03m    Drop specified labels from rows or columns.\u001b[39;00m\n\u001b[1;32m   5123\u001b[0m \n\u001b[0;32m   (...)\u001b[0m\n\u001b[1;32m   5256\u001b[0m \u001b[38;5;124;03m            weight  1.0     0.8\u001b[39;00m\n\u001b[1;32m   5257\u001b[0m \u001b[38;5;124;03m    \"\"\"\u001b[39;00m\n\u001b[0;32m-> 5258\u001b[0m     \u001b[38;5;28;01mreturn\u001b[39;00m \u001b[38;5;28;43msuper\u001b[39;49m\u001b[43m(\u001b[49m\u001b[43m)\u001b[49m\u001b[38;5;241;43m.\u001b[39;49m\u001b[43mdrop\u001b[49m\u001b[43m(\u001b[49m\n\u001b[1;32m   5259\u001b[0m \u001b[43m        \u001b[49m\u001b[43mlabels\u001b[49m\u001b[38;5;241;43m=\u001b[39;49m\u001b[43mlabels\u001b[49m\u001b[43m,\u001b[49m\n\u001b[1;32m   5260\u001b[0m \u001b[43m        \u001b[49m\u001b[43maxis\u001b[49m\u001b[38;5;241;43m=\u001b[39;49m\u001b[43maxis\u001b[49m\u001b[43m,\u001b[49m\n\u001b[1;32m   5261\u001b[0m \u001b[43m        \u001b[49m\u001b[43mindex\u001b[49m\u001b[38;5;241;43m=\u001b[39;49m\u001b[43mindex\u001b[49m\u001b[43m,\u001b[49m\n\u001b[1;32m   5262\u001b[0m \u001b[43m        \u001b[49m\u001b[43mcolumns\u001b[49m\u001b[38;5;241;43m=\u001b[39;49m\u001b[43mcolumns\u001b[49m\u001b[43m,\u001b[49m\n\u001b[1;32m   5263\u001b[0m \u001b[43m        \u001b[49m\u001b[43mlevel\u001b[49m\u001b[38;5;241;43m=\u001b[39;49m\u001b[43mlevel\u001b[49m\u001b[43m,\u001b[49m\n\u001b[1;32m   5264\u001b[0m \u001b[43m        \u001b[49m\u001b[43minplace\u001b[49m\u001b[38;5;241;43m=\u001b[39;49m\u001b[43minplace\u001b[49m\u001b[43m,\u001b[49m\n\u001b[1;32m   5265\u001b[0m \u001b[43m        \u001b[49m\u001b[43merrors\u001b[49m\u001b[38;5;241;43m=\u001b[39;49m\u001b[43merrors\u001b[49m\u001b[43m,\u001b[49m\n\u001b[1;32m   5266\u001b[0m \u001b[43m    \u001b[49m\u001b[43m)\u001b[49m\n",
      "File \u001b[0;32m/opt/anaconda3/envs/myenv/lib/python3.8/site-packages/pandas/core/generic.py:4549\u001b[0m, in \u001b[0;36mNDFrame.drop\u001b[0;34m(self, labels, axis, index, columns, level, inplace, errors)\u001b[0m\n\u001b[1;32m   4547\u001b[0m \u001b[38;5;28;01mfor\u001b[39;00m axis, labels \u001b[38;5;129;01min\u001b[39;00m axes\u001b[38;5;241m.\u001b[39mitems():\n\u001b[1;32m   4548\u001b[0m     \u001b[38;5;28;01mif\u001b[39;00m labels \u001b[38;5;129;01mis\u001b[39;00m \u001b[38;5;129;01mnot\u001b[39;00m \u001b[38;5;28;01mNone\u001b[39;00m:\n\u001b[0;32m-> 4549\u001b[0m         obj \u001b[38;5;241m=\u001b[39m \u001b[43mobj\u001b[49m\u001b[38;5;241;43m.\u001b[39;49m\u001b[43m_drop_axis\u001b[49m\u001b[43m(\u001b[49m\u001b[43mlabels\u001b[49m\u001b[43m,\u001b[49m\u001b[43m \u001b[49m\u001b[43maxis\u001b[49m\u001b[43m,\u001b[49m\u001b[43m \u001b[49m\u001b[43mlevel\u001b[49m\u001b[38;5;241;43m=\u001b[39;49m\u001b[43mlevel\u001b[49m\u001b[43m,\u001b[49m\u001b[43m \u001b[49m\u001b[43merrors\u001b[49m\u001b[38;5;241;43m=\u001b[39;49m\u001b[43merrors\u001b[49m\u001b[43m)\u001b[49m\n\u001b[1;32m   4551\u001b[0m \u001b[38;5;28;01mif\u001b[39;00m inplace:\n\u001b[1;32m   4552\u001b[0m     \u001b[38;5;28mself\u001b[39m\u001b[38;5;241m.\u001b[39m_update_inplace(obj)\n",
      "File \u001b[0;32m/opt/anaconda3/envs/myenv/lib/python3.8/site-packages/pandas/core/generic.py:4591\u001b[0m, in \u001b[0;36mNDFrame._drop_axis\u001b[0;34m(self, labels, axis, level, errors, only_slice)\u001b[0m\n\u001b[1;32m   4589\u001b[0m         new_axis \u001b[38;5;241m=\u001b[39m axis\u001b[38;5;241m.\u001b[39mdrop(labels, level\u001b[38;5;241m=\u001b[39mlevel, errors\u001b[38;5;241m=\u001b[39merrors)\n\u001b[1;32m   4590\u001b[0m     \u001b[38;5;28;01melse\u001b[39;00m:\n\u001b[0;32m-> 4591\u001b[0m         new_axis \u001b[38;5;241m=\u001b[39m \u001b[43maxis\u001b[49m\u001b[38;5;241;43m.\u001b[39;49m\u001b[43mdrop\u001b[49m\u001b[43m(\u001b[49m\u001b[43mlabels\u001b[49m\u001b[43m,\u001b[49m\u001b[43m \u001b[49m\u001b[43merrors\u001b[49m\u001b[38;5;241;43m=\u001b[39;49m\u001b[43merrors\u001b[49m\u001b[43m)\u001b[49m\n\u001b[1;32m   4592\u001b[0m     indexer \u001b[38;5;241m=\u001b[39m axis\u001b[38;5;241m.\u001b[39mget_indexer(new_axis)\n\u001b[1;32m   4594\u001b[0m \u001b[38;5;66;03m# Case for non-unique axis\u001b[39;00m\n\u001b[1;32m   4595\u001b[0m \u001b[38;5;28;01melse\u001b[39;00m:\n",
      "File \u001b[0;32m/opt/anaconda3/envs/myenv/lib/python3.8/site-packages/pandas/core/indexes/base.py:6699\u001b[0m, in \u001b[0;36mIndex.drop\u001b[0;34m(self, labels, errors)\u001b[0m\n\u001b[1;32m   6697\u001b[0m \u001b[38;5;28;01mif\u001b[39;00m mask\u001b[38;5;241m.\u001b[39many():\n\u001b[1;32m   6698\u001b[0m     \u001b[38;5;28;01mif\u001b[39;00m errors \u001b[38;5;241m!=\u001b[39m \u001b[38;5;124m\"\u001b[39m\u001b[38;5;124mignore\u001b[39m\u001b[38;5;124m\"\u001b[39m:\n\u001b[0;32m-> 6699\u001b[0m         \u001b[38;5;28;01mraise\u001b[39;00m \u001b[38;5;167;01mKeyError\u001b[39;00m(\u001b[38;5;124mf\u001b[39m\u001b[38;5;124m\"\u001b[39m\u001b[38;5;132;01m{\u001b[39;00m\u001b[38;5;28mlist\u001b[39m(labels[mask])\u001b[38;5;132;01m}\u001b[39;00m\u001b[38;5;124m not found in axis\u001b[39m\u001b[38;5;124m\"\u001b[39m)\n\u001b[1;32m   6700\u001b[0m     indexer \u001b[38;5;241m=\u001b[39m indexer[\u001b[38;5;241m~\u001b[39mmask]\n\u001b[1;32m   6701\u001b[0m \u001b[38;5;28;01mreturn\u001b[39;00m \u001b[38;5;28mself\u001b[39m\u001b[38;5;241m.\u001b[39mdelete(indexer)\n",
      "\u001b[0;31mKeyError\u001b[0m: \"['prices'] not found in axis\""
     ]
    }
   ],
   "source": [
    "frame1 = frame.drop('prices', axis=1)"
   ]
  },
  {
   "cell_type": "code",
   "execution_count": 440,
   "id": "639ebf14-31f4-4ec2-a5e9-fb0a7b742641",
   "metadata": {},
   "outputs": [
    {
     "ename": "NameError",
     "evalue": "name 'frame1' is not defined",
     "output_type": "error",
     "traceback": [
      "\u001b[0;31m---------------------------------------------------------------------------\u001b[0m",
      "\u001b[0;31mNameError\u001b[0m                                 Traceback (most recent call last)",
      "Cell \u001b[0;32mIn[440], line 1\u001b[0m\n\u001b[0;32m----> 1\u001b[0m \u001b[43mframe1\u001b[49m\n",
      "\u001b[0;31mNameError\u001b[0m: name 'frame1' is not defined"
     ]
    }
   ],
   "source": [
    "frame1"
   ]
  },
  {
   "cell_type": "code",
   "execution_count": 441,
   "id": "c9dbd802-b6cb-4a8d-8bc2-7820265e0a1e",
   "metadata": {},
   "outputs": [],
   "source": [
    ">>> reindex = {\n",
    "... 0: 'first',\n",
    "... 1: 'second',\n",
    "... 2: 'third',\n",
    "... 3: 'fourth',\n",
    "... 4: 'fifth'}"
   ]
  },
  {
   "cell_type": "code",
   "execution_count": 442,
   "id": "76257846-4e09-4438-aab8-608e572738ef",
   "metadata": {},
   "outputs": [
    {
     "data": {
      "text/plain": [
       "{0: 'first', 1: 'second', 2: 'third', 3: 'fourth', 4: 'fifth'}"
      ]
     },
     "execution_count": 442,
     "metadata": {},
     "output_type": "execute_result"
    }
   ],
   "source": [
    "reindex"
   ]
  },
  {
   "cell_type": "code",
   "execution_count": 443,
   "id": "fe1ce647-5506-4fed-a6d1-ca1ef0e00eac",
   "metadata": {},
   "outputs": [
    {
     "ename": "NameError",
     "evalue": "name 'frame1' is not defined",
     "output_type": "error",
     "traceback": [
      "\u001b[0;31m---------------------------------------------------------------------------\u001b[0m",
      "\u001b[0;31mNameError\u001b[0m                                 Traceback (most recent call last)",
      "Cell \u001b[0;32mIn[443], line 1\u001b[0m\n\u001b[0;32m----> 1\u001b[0m \u001b[43mframe1\u001b[49m\u001b[38;5;241m.\u001b[39mrename(reindex)\n",
      "\u001b[0;31mNameError\u001b[0m: name 'frame1' is not defined"
     ]
    }
   ],
   "source": [
    "frame1.rename(reindex)\n",
    "# the indexes are renamed "
   ]
  },
  {
   "cell_type": "markdown",
   "id": "ce78a3e5-2b9e-43cd-b432-ab88304c0de3",
   "metadata": {},
   "source": [
    "If you want to rename columns you must use the __columns__ option. Thus this time you assign various mapping explicitly to the two __index__ and __columns__ options.   "
   ]
  },
  {
   "cell_type": "code",
   "execution_count": 444,
   "id": "c8259e6b-e51d-40e0-afd2-8439eb946d21",
   "metadata": {},
   "outputs": [],
   "source": [
    "recolumn = {\n",
    "    'item' : 'object',\n",
    "    'price' : 'value'\n",
    "}"
   ]
  },
  {
   "cell_type": "code",
   "execution_count": 445,
   "id": "65d960d9-bbc7-4b9d-9f51-df99159edd01",
   "metadata": {},
   "outputs": [
    {
     "ename": "NameError",
     "evalue": "name 'frame1' is not defined",
     "output_type": "error",
     "traceback": [
      "\u001b[0;31m---------------------------------------------------------------------------\u001b[0m",
      "\u001b[0;31mNameError\u001b[0m                                 Traceback (most recent call last)",
      "Cell \u001b[0;32mIn[445], line 1\u001b[0m\n\u001b[0;32m----> 1\u001b[0m \u001b[43mframe1\u001b[49m\u001b[38;5;241m.\u001b[39mrename(index\u001b[38;5;241m=\u001b[39mreindex, columns\u001b[38;5;241m=\u001b[39mrecolumn)\n",
      "\u001b[0;31mNameError\u001b[0m: name 'frame1' is not defined"
     ]
    }
   ],
   "source": [
    "frame1.rename(index=reindex, columns=recolumn)\n",
    "# item renamed to object / price renamed to value ..."
   ]
  },
  {
   "cell_type": "code",
   "execution_count": 446,
   "id": "84fb7dec-a75e-4316-9322-240bf54d0ca4",
   "metadata": {},
   "outputs": [
    {
     "ename": "NameError",
     "evalue": "name 'frame1' is not defined",
     "output_type": "error",
     "traceback": [
      "\u001b[0;31m---------------------------------------------------------------------------\u001b[0m",
      "\u001b[0;31mNameError\u001b[0m                                 Traceback (most recent call last)",
      "Cell \u001b[0;32mIn[446], line 1\u001b[0m\n\u001b[0;32m----> 1\u001b[0m \u001b[43mframe1\u001b[49m\n",
      "\u001b[0;31mNameError\u001b[0m: name 'frame1' is not defined"
     ]
    }
   ],
   "source": [
    "frame1\n",
    "# unchanged ...."
   ]
  },
  {
   "cell_type": "markdown",
   "id": "6025fb9e-311d-47f7-9e44-18bbdbfb6e75",
   "metadata": {},
   "source": [
    "So far you have seen that the __rename()__ function returns a DataFrame with the changes, leaving unchanged the original DataFrame. If you want the changes to take effect on the object on which you call the function, you will set the __inplace__ option to True.   "
   ]
  },
  {
   "cell_type": "code",
   "execution_count": 447,
   "id": "a012fa2a-5c80-4d71-bd15-3a202290f296",
   "metadata": {},
   "outputs": [
    {
     "ename": "NameError",
     "evalue": "name 'frame1' is not defined",
     "output_type": "error",
     "traceback": [
      "\u001b[0;31m---------------------------------------------------------------------------\u001b[0m",
      "\u001b[0;31mNameError\u001b[0m                                 Traceback (most recent call last)",
      "Cell \u001b[0;32mIn[447], line 1\u001b[0m\n\u001b[0;32m----> 1\u001b[0m \u001b[43mframe1\u001b[49m\u001b[38;5;241m.\u001b[39mrename(columns\u001b[38;5;241m=\u001b[39m{\u001b[38;5;124m'\u001b[39m\u001b[38;5;124mitem\u001b[39m\u001b[38;5;124m'\u001b[39m:\u001b[38;5;124m'\u001b[39m\u001b[38;5;124mobject\u001b[39m\u001b[38;5;124m'\u001b[39m}, inplace\u001b[38;5;241m=\u001b[39m\u001b[38;5;28;01mTrue\u001b[39;00m)\n",
      "\u001b[0;31mNameError\u001b[0m: name 'frame1' is not defined"
     ]
    }
   ],
   "source": [
    "frame1.rename(columns={'item':'object'}, inplace=True)"
   ]
  },
  {
   "cell_type": "code",
   "execution_count": 448,
   "id": "f70577df-35d9-4c6d-a64f-1fc3ef25e6ed",
   "metadata": {},
   "outputs": [
    {
     "ename": "NameError",
     "evalue": "name 'frame1' is not defined",
     "output_type": "error",
     "traceback": [
      "\u001b[0;31m---------------------------------------------------------------------------\u001b[0m",
      "\u001b[0;31mNameError\u001b[0m                                 Traceback (most recent call last)",
      "Cell \u001b[0;32mIn[448], line 1\u001b[0m\n\u001b[0;32m----> 1\u001b[0m \u001b[43mframe1\u001b[49m\n",
      "\u001b[0;31mNameError\u001b[0m: name 'frame1' is not defined"
     ]
    }
   ],
   "source": [
    "frame1"
   ]
  },
  {
   "cell_type": "code",
   "execution_count": 449,
   "id": "be9bb669-094b-4186-8aa7-3143309b8a8f",
   "metadata": {},
   "outputs": [
    {
     "ename": "NameError",
     "evalue": "name 'frame1' is not defined",
     "output_type": "error",
     "traceback": [
      "\u001b[0;31m---------------------------------------------------------------------------\u001b[0m",
      "\u001b[0;31mNameError\u001b[0m                                 Traceback (most recent call last)",
      "Cell \u001b[0;32mIn[449], line 1\u001b[0m\n\u001b[0;32m----> 1\u001b[0m \u001b[43mframe1\u001b[49m\n",
      "\u001b[0;31mNameError\u001b[0m: name 'frame1' is not defined"
     ]
    }
   ],
   "source": [
    "frame1 # changed ..."
   ]
  },
  {
   "cell_type": "markdown",
   "id": "bf2d3930-3584-422c-8a4c-66f7b4b2a1a7",
   "metadata": {},
   "source": [
    "# Discretization and Binning:\n",
    "A more complex process of transformation that you will see in this section is __Discretization__. Sometimes it can happen, especially in some experimental cases, to handle large quantities of data generated in sequence. To carry out an analysis of the data, however, it is necessary to transform this data into discrete categories, for example, by dividing the range of values of such readings in smaller intervals and counting the occurence or statistics within each of them.   \n",
    "Another case might be to have a huge amount of samples due to precise readings on a population. Even here, to facilitate analysis of the data it is necessary to divide the range of values into categories and then analyze the ocurrences  and statistics related to each of them.    \n",
    "In your case, for example, you may have a reading of an experimental value between 0 and 100. These data are collected in a list.\n"
   ]
  },
  {
   "cell_type": "code",
   "execution_count": 450,
   "id": "5ed952d9-0f0c-421c-8a4e-5e5acdd4b37a",
   "metadata": {},
   "outputs": [],
   "source": [
    "results = [12,34,67,55,28,90,99,12,3,56,74,44,87,23,49,89,87]"
   ]
  },
  {
   "cell_type": "markdown",
   "id": "56a2173a-1d6c-45c5-9d25-da386b5da218",
   "metadata": {},
   "source": [
    "You know that the experimental values have a range from 0 to 100; therefore you can uniformly divide this intervals, for example, into four quarters, i.e., bins.   \n",
    "The first contains the values between 0 and 25, the second between 26 to 50, the third between 51 to 75, and the fourth between 76 to 100.   \n",
    "To do this binning with pandas, first you have to define  an array containing the values of separation of bin: "
   ]
  },
  {
   "cell_type": "code",
   "execution_count": 451,
   "id": "b945f5b4-95ef-4294-be1b-c60e841f0f9e",
   "metadata": {},
   "outputs": [],
   "source": [
    "bins = [0,25,50,75,100]"
   ]
  },
  {
   "cell_type": "markdown",
   "id": "2571421d-d0b7-4c19-afcf-9d015787833d",
   "metadata": {},
   "source": [
    "Then there is a function called __cut()__ and apply it to the array of results also passing the bins.   "
   ]
  },
  {
   "cell_type": "code",
   "execution_count": 452,
   "id": "c09e30f4-1d80-4eb3-be5a-67c712707cd6",
   "metadata": {},
   "outputs": [],
   "source": [
    "import pandas as pd"
   ]
  },
  {
   "cell_type": "code",
   "execution_count": 453,
   "id": "a8540253-134e-4245-94a3-74b4cbd603ae",
   "metadata": {},
   "outputs": [],
   "source": [
    "cat = pd.cut(results, bins)"
   ]
  },
  {
   "cell_type": "code",
   "execution_count": 454,
   "id": "6c9a0099-cc5a-4c9d-af3c-de2ba327e913",
   "metadata": {},
   "outputs": [
    {
     "data": {
      "text/plain": [
       "[(0, 25], (25, 50], (50, 75], (50, 75], (25, 50], ..., (75, 100], (0, 25], (25, 50], (75, 100], (75, 100]]\n",
       "Length: 17\n",
       "Categories (4, interval[int64, right]): [(0, 25] < (25, 50] < (50, 75] < (75, 100]]"
      ]
     },
     "execution_count": 454,
     "metadata": {},
     "output_type": "execute_result"
    }
   ],
   "source": [
    "cat"
   ]
  },
  {
   "cell_type": "markdown",
   "id": "e8e816e7-c7ea-4d40-b168-60cca462a73e",
   "metadata": {},
   "source": [
    "The object returned by the __cut()__ function is a special object of Categorical type.   \n",
    "You can consider it as an array of strings indicating the name of the bin.    \n",
    "Internally it contains a __(levels)__ array indicating the names of the different internal categories and a __(labels)__ array that contains a list of numbers equal to the elements of __(results)__(i.e, the array subjected to binning).   \n",
    "The number corresponds to the bin to which the corresponding elements of the __(results)__ is assigned.  "
   ]
  },
  {
   "cell_type": "code",
   "execution_count": 455,
   "id": "c829d833-0a04-4080-92d3-106d86ba34e9",
   "metadata": {},
   "outputs": [
    {
     "data": {
      "text/plain": [
       "[(0, 25], (25, 50], (50, 75], (50, 75], (25, 50], ..., (75, 100], (0, 25], (25, 50], (75, 100], (75, 100]]\n",
       "Length: 17\n",
       "Categories (4, interval[int64, right]): [(0, 25] < (25, 50] < (50, 75] < (75, 100]]"
      ]
     },
     "execution_count": 455,
     "metadata": {},
     "output_type": "execute_result"
    }
   ],
   "source": [
    "cat"
   ]
  },
  {
   "cell_type": "code",
   "execution_count": 456,
   "id": "99de513e-a44c-42f2-929f-c9c7f4d89124",
   "metadata": {},
   "outputs": [
    {
     "data": {
      "text/plain": [
       "IntervalIndex([(0, 25], (25, 50], (50, 75], (75, 100]], dtype='interval[int64, right]')"
      ]
     },
     "execution_count": 456,
     "metadata": {},
     "output_type": "execute_result"
    }
   ],
   "source": [
    "cat.categories"
   ]
  },
  {
   "cell_type": "markdown",
   "id": "1de9e59c-4662-41fd-b538-1b5c602e281a",
   "metadata": {},
   "source": [
    "Finally to know the occurences for each bin, that is, how many results fall into each category, you have to use the __value_counts()__ function."
   ]
  },
  {
   "cell_type": "code",
   "execution_count": 457,
   "id": "b8d1008c-113d-40fb-a21a-b805d98cf8e4",
   "metadata": {},
   "outputs": [
    {
     "data": {
      "text/plain": [
       "(75, 100]    5\n",
       "(0, 25]      4\n",
       "(25, 50]     4\n",
       "(50, 75]     4\n",
       "Name: count, dtype: int64"
      ]
     },
     "execution_count": 457,
     "metadata": {},
     "output_type": "execute_result"
    }
   ],
   "source": [
    "pd.value_counts(cat)"
   ]
  },
  {
   "cell_type": "code",
   "execution_count": 458,
   "id": "d7b7bcba-dc24-40bc-8469-bdaa65eb9b53",
   "metadata": {},
   "outputs": [
    {
     "data": {
      "text/plain": [
       "0       (0, 25]\n",
       "1      (25, 50]\n",
       "2      (50, 75]\n",
       "3      (50, 75]\n",
       "4      (25, 50]\n",
       "5     (75, 100]\n",
       "6     (75, 100]\n",
       "7       (0, 25]\n",
       "8       (0, 25]\n",
       "9      (50, 75]\n",
       "10     (50, 75]\n",
       "11     (25, 50]\n",
       "12    (75, 100]\n",
       "13      (0, 25]\n",
       "14     (25, 50]\n",
       "15    (75, 100]\n",
       "16    (75, 100]\n",
       "dtype: category\n",
       "Categories (4, interval[int64, right]): [(0, 25] < (25, 50] < (50, 75] < (75, 100]]"
      ]
     },
     "execution_count": 458,
     "metadata": {},
     "output_type": "execute_result"
    }
   ],
   "source": [
    "pd.Series(cat)"
   ]
  },
  {
   "cell_type": "code",
   "execution_count": 459,
   "id": "90f2083b-3707-49bb-a382-42688aa2e533",
   "metadata": {},
   "outputs": [
    {
     "data": {
      "text/plain": [
       "IntervalIndex([(0, 25], (25, 50], (50, 75], (75, 100]], dtype='interval[int64, right]')"
      ]
     },
     "execution_count": 459,
     "metadata": {},
     "output_type": "execute_result"
    }
   ],
   "source": [
    "cat.categories"
   ]
  },
  {
   "cell_type": "markdown",
   "id": "976498db-bc9b-47d9-9a5c-a8e2c4ad468f",
   "metadata": {},
   "source": [
    "As you can see, each class has the lower limit with a bracket and the upper limit with a parenthesis.  \n",
    "This notation is consistent with amthematical notation that is used to indicate the intervals.  \n",
    "If the bracket is a square, the number belongs to the range (limit closed), and if it is round the number dose not belong to the interval (limit open).   \n",
    "You can give names to various bins by calling them first in an array of strings and then assigning to the labels options inside the __cut()__ function that you have used to create the Categorical object.  "
   ]
  },
  {
   "cell_type": "code",
   "execution_count": 460,
   "id": "d7282b30-efbd-4081-adf1-b2d1e40659c9",
   "metadata": {},
   "outputs": [],
   "source": [
    "bin_names = ['Unlikely','less likely', 'likely', 'highly likely']"
   ]
  },
  {
   "cell_type": "code",
   "execution_count": 461,
   "id": "86cdeac3-194b-481b-92ea-63dac48aee8b",
   "metadata": {},
   "outputs": [
    {
     "data": {
      "text/plain": [
       "0          Unlikely\n",
       "1       less likely\n",
       "2            likely\n",
       "3            likely\n",
       "4       less likely\n",
       "5     highly likely\n",
       "6     highly likely\n",
       "7          Unlikely\n",
       "8          Unlikely\n",
       "9            likely\n",
       "10           likely\n",
       "11      less likely\n",
       "12    highly likely\n",
       "13         Unlikely\n",
       "14      less likely\n",
       "15    highly likely\n",
       "16    highly likely\n",
       "dtype: category\n",
       "Categories (4, object): ['Unlikely' < 'less likely' < 'likely' < 'highly likely']"
      ]
     },
     "execution_count": 461,
     "metadata": {},
     "output_type": "execute_result"
    }
   ],
   "source": [
    "pd.Series(pd.cut(results, bins, labels=bin_names))"
   ]
  },
  {
   "cell_type": "markdown",
   "id": "f1756bd6-ed01-434a-8e51-e823cd97bb43",
   "metadata": {},
   "source": [
    "If the __cut()__ function is passed as an argument to an integer instead of explicating the bin edges, this will divide the range of values of the array in many intervals as specified by the number.   \n",
    "The limits of the interval will be taken by the minimum of the sample data, namely, the array subjected to binning."
   ]
  },
  {
   "cell_type": "code",
   "execution_count": 462,
   "id": "3ff76564-52cb-4ac7-83c9-10a3fbdfda74",
   "metadata": {},
   "outputs": [
    {
     "data": {
      "text/plain": [
       "0     (2.904, 22.2]\n",
       "1      (22.2, 41.4]\n",
       "2      (60.6, 79.8]\n",
       "3      (41.4, 60.6]\n",
       "4      (22.2, 41.4]\n",
       "5      (79.8, 99.0]\n",
       "6      (79.8, 99.0]\n",
       "7     (2.904, 22.2]\n",
       "8     (2.904, 22.2]\n",
       "9      (41.4, 60.6]\n",
       "10     (60.6, 79.8]\n",
       "11     (41.4, 60.6]\n",
       "12     (79.8, 99.0]\n",
       "13     (22.2, 41.4]\n",
       "14     (41.4, 60.6]\n",
       "15     (79.8, 99.0]\n",
       "16     (79.8, 99.0]\n",
       "dtype: category\n",
       "Categories (5, interval[float64, right]): [(2.904, 22.2] < (22.2, 41.4] < (41.4, 60.6] < (60.6, 79.8] < (79.8, 99.0]]"
      ]
     },
     "execution_count": 462,
     "metadata": {},
     "output_type": "execute_result"
    }
   ],
   "source": [
    "pd.Series(pd.cut(results, 5))"
   ]
  },
  {
   "cell_type": "markdown",
   "id": "e3e5b3d1-82fc-4c25-a945-7ff38cada8c0",
   "metadata": {},
   "source": [
    "In addition to __cut()__ function, pandas provides another method for binning: __qcut()__ .   \n",
    "This function divides the sample directly into quintiles.  \n",
    "In fact, depending on the distribution of the data sample, using __cut()__ rightly you will have a different number of ocuurences for each bin.  \n",
    "Instead __qcut()__ will ensure that the number of occurences for each bin is equal, but the edges of each bin to vary.  "
   ]
  },
  {
   "cell_type": "code",
   "execution_count": 463,
   "id": "1ba5acb1-da12-42e0-99f8-61a982d1e69e",
   "metadata": {},
   "outputs": [],
   "source": [
    "quintiles = pd.qcut(results, 5)"
   ]
  },
  {
   "cell_type": "code",
   "execution_count": 464,
   "id": "59d2cdd4-ee12-424d-bd48-9b8420ceaf6c",
   "metadata": {},
   "outputs": [
    {
     "data": {
      "text/plain": [
       "0     (2.999, 24.0]\n",
       "1      (24.0, 46.0]\n",
       "2      (62.6, 87.0]\n",
       "3      (46.0, 62.6]\n",
       "4      (24.0, 46.0]\n",
       "5      (87.0, 99.0]\n",
       "6      (87.0, 99.0]\n",
       "7     (2.999, 24.0]\n",
       "8     (2.999, 24.0]\n",
       "9      (46.0, 62.6]\n",
       "10     (62.6, 87.0]\n",
       "11     (24.0, 46.0]\n",
       "12     (62.6, 87.0]\n",
       "13    (2.999, 24.0]\n",
       "14     (46.0, 62.6]\n",
       "15     (87.0, 99.0]\n",
       "16     (62.6, 87.0]\n",
       "dtype: category\n",
       "Categories (5, interval[float64, right]): [(2.999, 24.0] < (24.0, 46.0] < (46.0, 62.6] < (62.6, 87.0] < (87.0, 99.0]]"
      ]
     },
     "execution_count": 464,
     "metadata": {},
     "output_type": "execute_result"
    }
   ],
   "source": [
    "pd.Series(quintiles)"
   ]
  },
  {
   "cell_type": "code",
   "execution_count": 465,
   "id": "b5c5727c-900f-4fa7-8ce5-ef73af7769ab",
   "metadata": {},
   "outputs": [
    {
     "data": {
      "text/plain": [
       "(2.999, 24.0]    4\n",
       "(62.6, 87.0]     4\n",
       "(24.0, 46.0]     3\n",
       "(46.0, 62.6]     3\n",
       "(87.0, 99.0]     3\n",
       "Name: count, dtype: int64"
      ]
     },
     "execution_count": 465,
     "metadata": {},
     "output_type": "execute_result"
    }
   ],
   "source": [
    "pd.value_counts(quintiles)"
   ]
  },
  {
   "cell_type": "markdown",
   "id": "12896585-19c7-4dbd-9b84-6b8f9550caa2",
   "metadata": {},
   "source": [
    "As you can see, in the case of quintiles, the intervals bounding the bin differ from those generated by the __cut()__ function.  \n",
    "Moreover, if you look at the occurences for each bin will find that __qcut()__ tried to standarize the occurences for each bin, but in the case of quintiles, the first two bins have an occurence in more because the number of results is not divisable by five."
   ]
  },
  {
   "cell_type": "code",
   "execution_count": 466,
   "id": "c1848ae0-f53e-4b06-87bc-992be9417f11",
   "metadata": {},
   "outputs": [],
   "source": [
    "import numpy as np"
   ]
  },
  {
   "cell_type": "markdown",
   "id": "8e0e5ea2-cc42-41e6-b0c4-2f1dae53814d",
   "metadata": {},
   "source": [
    "### Detecting and Filtering Outliers:\n",
    "During the data analysis, the need to detect the presence of abnormal values within a data structure often arises. By way of example, create a DataFrame with three columns from 1000 completely random values:"
   ]
  },
  {
   "cell_type": "code",
   "execution_count": 467,
   "id": "61f1eb19-a9f2-4a3d-b99d-b294d4a330c7",
   "metadata": {},
   "outputs": [],
   "source": [
    "randframe = pd.DataFrame(np.random.randn(1000,3))"
   ]
  },
  {
   "cell_type": "code",
   "execution_count": 468,
   "id": "261d6497-589d-4e25-b91e-47c16999833d",
   "metadata": {},
   "outputs": [
    {
     "data": {
      "text/html": [
       "<div>\n",
       "<style scoped>\n",
       "    .dataframe tbody tr th:only-of-type {\n",
       "        vertical-align: middle;\n",
       "    }\n",
       "\n",
       "    .dataframe tbody tr th {\n",
       "        vertical-align: top;\n",
       "    }\n",
       "\n",
       "    .dataframe thead th {\n",
       "        text-align: right;\n",
       "    }\n",
       "</style>\n",
       "<table border=\"1\" class=\"dataframe\">\n",
       "  <thead>\n",
       "    <tr style=\"text-align: right;\">\n",
       "      <th></th>\n",
       "      <th>0</th>\n",
       "      <th>1</th>\n",
       "      <th>2</th>\n",
       "    </tr>\n",
       "  </thead>\n",
       "  <tbody>\n",
       "    <tr>\n",
       "      <th>count</th>\n",
       "      <td>1000.000000</td>\n",
       "      <td>1000.000000</td>\n",
       "      <td>1000.000000</td>\n",
       "    </tr>\n",
       "    <tr>\n",
       "      <th>mean</th>\n",
       "      <td>0.036638</td>\n",
       "      <td>-0.044763</td>\n",
       "      <td>0.012700</td>\n",
       "    </tr>\n",
       "    <tr>\n",
       "      <th>std</th>\n",
       "      <td>0.990575</td>\n",
       "      <td>0.988863</td>\n",
       "      <td>1.003312</td>\n",
       "    </tr>\n",
       "    <tr>\n",
       "      <th>min</th>\n",
       "      <td>-4.078494</td>\n",
       "      <td>-3.631927</td>\n",
       "      <td>-3.172382</td>\n",
       "    </tr>\n",
       "    <tr>\n",
       "      <th>25%</th>\n",
       "      <td>-0.609516</td>\n",
       "      <td>-0.701340</td>\n",
       "      <td>-0.640271</td>\n",
       "    </tr>\n",
       "    <tr>\n",
       "      <th>50%</th>\n",
       "      <td>0.048698</td>\n",
       "      <td>-0.036497</td>\n",
       "      <td>-0.036256</td>\n",
       "    </tr>\n",
       "    <tr>\n",
       "      <th>75%</th>\n",
       "      <td>0.743592</td>\n",
       "      <td>0.604760</td>\n",
       "      <td>0.660144</td>\n",
       "    </tr>\n",
       "    <tr>\n",
       "      <th>max</th>\n",
       "      <td>2.825579</td>\n",
       "      <td>3.145205</td>\n",
       "      <td>3.574846</td>\n",
       "    </tr>\n",
       "  </tbody>\n",
       "</table>\n",
       "</div>"
      ],
      "text/plain": [
       "                 0            1            2\n",
       "count  1000.000000  1000.000000  1000.000000\n",
       "mean      0.036638    -0.044763     0.012700\n",
       "std       0.990575     0.988863     1.003312\n",
       "min      -4.078494    -3.631927    -3.172382\n",
       "25%      -0.609516    -0.701340    -0.640271\n",
       "50%       0.048698    -0.036497    -0.036256\n",
       "75%       0.743592     0.604760     0.660144\n",
       "max       2.825579     3.145205     3.574846"
      ]
     },
     "execution_count": 468,
     "metadata": {},
     "output_type": "execute_result"
    }
   ],
   "source": [
    "randframe.describe()"
   ]
  },
  {
   "cell_type": "markdown",
   "id": "b19d195e-57e3-446d-b8ad-275c58cc0ae1",
   "metadata": {},
   "source": [
    "For example, you might consider outliers those that have a _value greater than three times the standard deviation_.   \n",
    "To have only the standard deviation of each column of the DataFrame, use the __std()__ function."
   ]
  },
  {
   "cell_type": "code",
   "execution_count": 469,
   "id": "e81bc950-5400-40a5-b7aa-acf68e19c6e1",
   "metadata": {},
   "outputs": [
    {
     "data": {
      "text/plain": [
       "0    0.990575\n",
       "1    0.988863\n",
       "2    1.003312\n",
       "dtype: float64"
      ]
     },
     "execution_count": 469,
     "metadata": {},
     "output_type": "execute_result"
    }
   ],
   "source": [
    "randframe.std()"
   ]
  },
  {
   "cell_type": "markdown",
   "id": "aabba518-041e-47eb-b503-0e838db257ea",
   "metadata": {},
   "source": [
    "Now you apply the filtering of all the values of the DataFrame, applying the corresponding standard devation for each column.  \n",
    "Thanks to the __any()__ function, you can apply the filter on each column.  "
   ]
  },
  {
   "cell_type": "code",
   "execution_count": 470,
   "id": "e61460b8-eb07-4d5c-8e22-a610705bdbcd",
   "metadata": {},
   "outputs": [
    {
     "data": {
      "text/html": [
       "<div>\n",
       "<style scoped>\n",
       "    .dataframe tbody tr th:only-of-type {\n",
       "        vertical-align: middle;\n",
       "    }\n",
       "\n",
       "    .dataframe tbody tr th {\n",
       "        vertical-align: top;\n",
       "    }\n",
       "\n",
       "    .dataframe thead th {\n",
       "        text-align: right;\n",
       "    }\n",
       "</style>\n",
       "<table border=\"1\" class=\"dataframe\">\n",
       "  <thead>\n",
       "    <tr style=\"text-align: right;\">\n",
       "      <th></th>\n",
       "      <th>0</th>\n",
       "      <th>1</th>\n",
       "      <th>2</th>\n",
       "    </tr>\n",
       "  </thead>\n",
       "  <tbody>\n",
       "    <tr>\n",
       "      <th>125</th>\n",
       "      <td>-4.078494</td>\n",
       "      <td>1.592809</td>\n",
       "      <td>-1.138135</td>\n",
       "    </tr>\n",
       "    <tr>\n",
       "      <th>196</th>\n",
       "      <td>0.017394</td>\n",
       "      <td>0.061482</td>\n",
       "      <td>3.323463</td>\n",
       "    </tr>\n",
       "    <tr>\n",
       "      <th>370</th>\n",
       "      <td>-3.193333</td>\n",
       "      <td>0.990642</td>\n",
       "      <td>0.534225</td>\n",
       "    </tr>\n",
       "    <tr>\n",
       "      <th>389</th>\n",
       "      <td>-0.271316</td>\n",
       "      <td>-3.631927</td>\n",
       "      <td>1.411895</td>\n",
       "    </tr>\n",
       "    <tr>\n",
       "      <th>402</th>\n",
       "      <td>1.115299</td>\n",
       "      <td>0.174360</td>\n",
       "      <td>3.574846</td>\n",
       "    </tr>\n",
       "    <tr>\n",
       "      <th>517</th>\n",
       "      <td>-0.763522</td>\n",
       "      <td>3.145205</td>\n",
       "      <td>0.531917</td>\n",
       "    </tr>\n",
       "    <tr>\n",
       "      <th>760</th>\n",
       "      <td>-3.348310</td>\n",
       "      <td>1.175635</td>\n",
       "      <td>0.101763</td>\n",
       "    </tr>\n",
       "    <tr>\n",
       "      <th>889</th>\n",
       "      <td>-0.231595</td>\n",
       "      <td>0.649891</td>\n",
       "      <td>-3.172382</td>\n",
       "    </tr>\n",
       "  </tbody>\n",
       "</table>\n",
       "</div>"
      ],
      "text/plain": [
       "            0         1         2\n",
       "125 -4.078494  1.592809 -1.138135\n",
       "196  0.017394  0.061482  3.323463\n",
       "370 -3.193333  0.990642  0.534225\n",
       "389 -0.271316 -3.631927  1.411895\n",
       "402  1.115299  0.174360  3.574846\n",
       "517 -0.763522  3.145205  0.531917\n",
       "760 -3.348310  1.175635  0.101763\n",
       "889 -0.231595  0.649891 -3.172382"
      ]
     },
     "execution_count": 470,
     "metadata": {},
     "output_type": "execute_result"
    }
   ],
   "source": [
    "randframe[(np.abs(randframe) > (3*randframe.std())).any(axis=1)]"
   ]
  },
  {
   "cell_type": "markdown",
   "id": "1c77bb47-50f7-4986-9aa3-188fac78c0e7",
   "metadata": {},
   "source": [
    "# Permutation:\n",
    "Permutation is a process that extract a portion of DataFrame by subjecting it to a determined array.  \n",
    "The operations of permutation (random reordering) of a Series or the rows of a DataFrame are easy to do using __numpy.random.permutation()__ function."
   ]
  },
  {
   "cell_type": "code",
   "execution_count": 471,
   "id": "5cb50426-74a0-4ddb-a767-b1c6c723c85d",
   "metadata": {},
   "outputs": [],
   "source": [
    "nframe = pd.DataFrame(np.arange(25).reshape(5,5))"
   ]
  },
  {
   "cell_type": "code",
   "execution_count": 472,
   "id": "9f2f9463-0142-4426-be9c-5aaf9b4b7f85",
   "metadata": {},
   "outputs": [
    {
     "data": {
      "text/html": [
       "<div>\n",
       "<style scoped>\n",
       "    .dataframe tbody tr th:only-of-type {\n",
       "        vertical-align: middle;\n",
       "    }\n",
       "\n",
       "    .dataframe tbody tr th {\n",
       "        vertical-align: top;\n",
       "    }\n",
       "\n",
       "    .dataframe thead th {\n",
       "        text-align: right;\n",
       "    }\n",
       "</style>\n",
       "<table border=\"1\" class=\"dataframe\">\n",
       "  <thead>\n",
       "    <tr style=\"text-align: right;\">\n",
       "      <th></th>\n",
       "      <th>0</th>\n",
       "      <th>1</th>\n",
       "      <th>2</th>\n",
       "      <th>3</th>\n",
       "      <th>4</th>\n",
       "    </tr>\n",
       "  </thead>\n",
       "  <tbody>\n",
       "    <tr>\n",
       "      <th>0</th>\n",
       "      <td>0</td>\n",
       "      <td>1</td>\n",
       "      <td>2</td>\n",
       "      <td>3</td>\n",
       "      <td>4</td>\n",
       "    </tr>\n",
       "    <tr>\n",
       "      <th>1</th>\n",
       "      <td>5</td>\n",
       "      <td>6</td>\n",
       "      <td>7</td>\n",
       "      <td>8</td>\n",
       "      <td>9</td>\n",
       "    </tr>\n",
       "    <tr>\n",
       "      <th>2</th>\n",
       "      <td>10</td>\n",
       "      <td>11</td>\n",
       "      <td>12</td>\n",
       "      <td>13</td>\n",
       "      <td>14</td>\n",
       "    </tr>\n",
       "    <tr>\n",
       "      <th>3</th>\n",
       "      <td>15</td>\n",
       "      <td>16</td>\n",
       "      <td>17</td>\n",
       "      <td>18</td>\n",
       "      <td>19</td>\n",
       "    </tr>\n",
       "    <tr>\n",
       "      <th>4</th>\n",
       "      <td>20</td>\n",
       "      <td>21</td>\n",
       "      <td>22</td>\n",
       "      <td>23</td>\n",
       "      <td>24</td>\n",
       "    </tr>\n",
       "  </tbody>\n",
       "</table>\n",
       "</div>"
      ],
      "text/plain": [
       "    0   1   2   3   4\n",
       "0   0   1   2   3   4\n",
       "1   5   6   7   8   9\n",
       "2  10  11  12  13  14\n",
       "3  15  16  17  18  19\n",
       "4  20  21  22  23  24"
      ]
     },
     "execution_count": 472,
     "metadata": {},
     "output_type": "execute_result"
    }
   ],
   "source": [
    "nframe"
   ]
  },
  {
   "cell_type": "markdown",
   "id": "18d1bbf8-87f5-4307-9d48-775e2dc7d476",
   "metadata": {},
   "source": [
    "Now create an array of five integers from 0 to 4 arranged in random order with the __permutation()__ function. This will be the new order in which to set the values of a row of DataFrame ..."
   ]
  },
  {
   "cell_type": "code",
   "execution_count": 473,
   "id": "c98f7895-89b2-4dfa-af41-172508011ba9",
   "metadata": {},
   "outputs": [],
   "source": [
    "new_order = np.random.permutation(5)"
   ]
  },
  {
   "cell_type": "code",
   "execution_count": 474,
   "id": "7657d8e6-4594-45c2-91c1-508f52f16b78",
   "metadata": {},
   "outputs": [
    {
     "data": {
      "text/plain": [
       "array([2, 3, 4, 1, 0])"
      ]
     },
     "execution_count": 474,
     "metadata": {},
     "output_type": "execute_result"
    }
   ],
   "source": [
    "new_order"
   ]
  },
  {
   "cell_type": "markdown",
   "id": "b3e2608a-f4ff-4cfb-9bbb-a78da3224306",
   "metadata": {},
   "source": [
    "Now apply it to the DataFrame on all lines, using the __take()__ function."
   ]
  },
  {
   "cell_type": "code",
   "execution_count": 475,
   "id": "903ba371-6dde-4144-af26-4610cdb61b12",
   "metadata": {},
   "outputs": [
    {
     "data": {
      "text/html": [
       "<div>\n",
       "<style scoped>\n",
       "    .dataframe tbody tr th:only-of-type {\n",
       "        vertical-align: middle;\n",
       "    }\n",
       "\n",
       "    .dataframe tbody tr th {\n",
       "        vertical-align: top;\n",
       "    }\n",
       "\n",
       "    .dataframe thead th {\n",
       "        text-align: right;\n",
       "    }\n",
       "</style>\n",
       "<table border=\"1\" class=\"dataframe\">\n",
       "  <thead>\n",
       "    <tr style=\"text-align: right;\">\n",
       "      <th></th>\n",
       "      <th>0</th>\n",
       "      <th>1</th>\n",
       "      <th>2</th>\n",
       "      <th>3</th>\n",
       "      <th>4</th>\n",
       "    </tr>\n",
       "  </thead>\n",
       "  <tbody>\n",
       "    <tr>\n",
       "      <th>2</th>\n",
       "      <td>10</td>\n",
       "      <td>11</td>\n",
       "      <td>12</td>\n",
       "      <td>13</td>\n",
       "      <td>14</td>\n",
       "    </tr>\n",
       "    <tr>\n",
       "      <th>3</th>\n",
       "      <td>15</td>\n",
       "      <td>16</td>\n",
       "      <td>17</td>\n",
       "      <td>18</td>\n",
       "      <td>19</td>\n",
       "    </tr>\n",
       "    <tr>\n",
       "      <th>4</th>\n",
       "      <td>20</td>\n",
       "      <td>21</td>\n",
       "      <td>22</td>\n",
       "      <td>23</td>\n",
       "      <td>24</td>\n",
       "    </tr>\n",
       "    <tr>\n",
       "      <th>1</th>\n",
       "      <td>5</td>\n",
       "      <td>6</td>\n",
       "      <td>7</td>\n",
       "      <td>8</td>\n",
       "      <td>9</td>\n",
       "    </tr>\n",
       "    <tr>\n",
       "      <th>0</th>\n",
       "      <td>0</td>\n",
       "      <td>1</td>\n",
       "      <td>2</td>\n",
       "      <td>3</td>\n",
       "      <td>4</td>\n",
       "    </tr>\n",
       "  </tbody>\n",
       "</table>\n",
       "</div>"
      ],
      "text/plain": [
       "    0   1   2   3   4\n",
       "2  10  11  12  13  14\n",
       "3  15  16  17  18  19\n",
       "4  20  21  22  23  24\n",
       "1   5   6   7   8   9\n",
       "0   0   1   2   3   4"
      ]
     },
     "execution_count": 475,
     "metadata": {},
     "output_type": "execute_result"
    }
   ],
   "source": [
    "nframe.take(new_order)"
   ]
  },
  {
   "cell_type": "markdown",
   "id": "58b8f984-751c-49df-b86a-ef98ee9724aa",
   "metadata": {},
   "source": [
    "As you can see, the order of the rows has been changed; now the indices follow the same order as indicated in the __new_order__ array.   \n",
    "You can submit even a portion of the entire DataFrame to a permutation. It generates an array that has a sequence limited to a certain range, for example, in our case from 2 to 4.   "
   ]
  },
  {
   "cell_type": "code",
   "execution_count": 476,
   "id": "3a7449cc-4e36-4e92-9110-d89309c5be73",
   "metadata": {},
   "outputs": [],
   "source": [
    "new_order = [3,4,2]"
   ]
  },
  {
   "cell_type": "code",
   "execution_count": 477,
   "id": "5502e2da-16fd-4f46-ae03-bc61b84ca617",
   "metadata": {},
   "outputs": [
    {
     "data": {
      "text/html": [
       "<div>\n",
       "<style scoped>\n",
       "    .dataframe tbody tr th:only-of-type {\n",
       "        vertical-align: middle;\n",
       "    }\n",
       "\n",
       "    .dataframe tbody tr th {\n",
       "        vertical-align: top;\n",
       "    }\n",
       "\n",
       "    .dataframe thead th {\n",
       "        text-align: right;\n",
       "    }\n",
       "</style>\n",
       "<table border=\"1\" class=\"dataframe\">\n",
       "  <thead>\n",
       "    <tr style=\"text-align: right;\">\n",
       "      <th></th>\n",
       "      <th>0</th>\n",
       "      <th>1</th>\n",
       "      <th>2</th>\n",
       "      <th>3</th>\n",
       "      <th>4</th>\n",
       "    </tr>\n",
       "  </thead>\n",
       "  <tbody>\n",
       "    <tr>\n",
       "      <th>3</th>\n",
       "      <td>15</td>\n",
       "      <td>16</td>\n",
       "      <td>17</td>\n",
       "      <td>18</td>\n",
       "      <td>19</td>\n",
       "    </tr>\n",
       "    <tr>\n",
       "      <th>4</th>\n",
       "      <td>20</td>\n",
       "      <td>21</td>\n",
       "      <td>22</td>\n",
       "      <td>23</td>\n",
       "      <td>24</td>\n",
       "    </tr>\n",
       "    <tr>\n",
       "      <th>2</th>\n",
       "      <td>10</td>\n",
       "      <td>11</td>\n",
       "      <td>12</td>\n",
       "      <td>13</td>\n",
       "      <td>14</td>\n",
       "    </tr>\n",
       "  </tbody>\n",
       "</table>\n",
       "</div>"
      ],
      "text/plain": [
       "    0   1   2   3   4\n",
       "3  15  16  17  18  19\n",
       "4  20  21  22  23  24\n",
       "2  10  11  12  13  14"
      ]
     },
     "execution_count": 477,
     "metadata": {},
     "output_type": "execute_result"
    }
   ],
   "source": [
    "nframe.take(new_order)"
   ]
  },
  {
   "cell_type": "markdown",
   "id": "c093f80b-1689-46e0-93dc-d19594206598",
   "metadata": {},
   "source": [
    "### Random Sampling:\n",
    "You have just seen how to extract a portion of the DataFrame determined by subjecting it to permutation.  \n",
    "Sometimes, when you have a huge DataFrame, you may have the need to sample it randomly, and the quickest way to do this is by using the __np.random.randomint()__"
   ]
  },
  {
   "cell_type": "code",
   "execution_count": 478,
   "id": "d6111774-3146-4b45-85fc-1f3b253224ee",
   "metadata": {},
   "outputs": [],
   "source": [
    "sample =  np.random.randint(0, len(nframe), size=3)"
   ]
  },
  {
   "cell_type": "code",
   "execution_count": 479,
   "id": "759d99fb-f41a-4534-80c7-5ee94b512a8f",
   "metadata": {},
   "outputs": [
    {
     "data": {
      "text/plain": [
       "array([1, 0, 2])"
      ]
     },
     "execution_count": 479,
     "metadata": {},
     "output_type": "execute_result"
    }
   ],
   "source": [
    "sample"
   ]
  },
  {
   "cell_type": "code",
   "execution_count": 480,
   "id": "d7d4dd2a-d27a-44f1-bb4a-24898c624a46",
   "metadata": {},
   "outputs": [
    {
     "data": {
      "text/html": [
       "<div>\n",
       "<style scoped>\n",
       "    .dataframe tbody tr th:only-of-type {\n",
       "        vertical-align: middle;\n",
       "    }\n",
       "\n",
       "    .dataframe tbody tr th {\n",
       "        vertical-align: top;\n",
       "    }\n",
       "\n",
       "    .dataframe thead th {\n",
       "        text-align: right;\n",
       "    }\n",
       "</style>\n",
       "<table border=\"1\" class=\"dataframe\">\n",
       "  <thead>\n",
       "    <tr style=\"text-align: right;\">\n",
       "      <th></th>\n",
       "      <th>0</th>\n",
       "      <th>1</th>\n",
       "      <th>2</th>\n",
       "      <th>3</th>\n",
       "      <th>4</th>\n",
       "    </tr>\n",
       "  </thead>\n",
       "  <tbody>\n",
       "    <tr>\n",
       "      <th>1</th>\n",
       "      <td>5</td>\n",
       "      <td>6</td>\n",
       "      <td>7</td>\n",
       "      <td>8</td>\n",
       "      <td>9</td>\n",
       "    </tr>\n",
       "    <tr>\n",
       "      <th>0</th>\n",
       "      <td>0</td>\n",
       "      <td>1</td>\n",
       "      <td>2</td>\n",
       "      <td>3</td>\n",
       "      <td>4</td>\n",
       "    </tr>\n",
       "    <tr>\n",
       "      <th>2</th>\n",
       "      <td>10</td>\n",
       "      <td>11</td>\n",
       "      <td>12</td>\n",
       "      <td>13</td>\n",
       "      <td>14</td>\n",
       "    </tr>\n",
       "  </tbody>\n",
       "</table>\n",
       "</div>"
      ],
      "text/plain": [
       "    0   1   2   3   4\n",
       "1   5   6   7   8   9\n",
       "0   0   1   2   3   4\n",
       "2  10  11  12  13  14"
      ]
     },
     "execution_count": 480,
     "metadata": {},
     "output_type": "execute_result"
    }
   ],
   "source": [
    "nframe.take(sample)"
   ]
  },
  {
   "cell_type": "markdown",
   "id": "366fb05b-4fd2-4011-b19c-4b9a76fdaf4e",
   "metadata": {},
   "source": [
    "As you can see from this random sampling you can get the same sample even more times"
   ]
  },
  {
   "cell_type": "markdown",
   "id": "6d9ce715-79d2-4db8-aca8-ad60233233b0",
   "metadata": {},
   "source": [
    "# String Manipulation:\n",
    "Python is a popular language thanks to its ease of use in the processing of strings and text. Most operations can easily be made by using built-in functions provided by Python.  \n",
    "For more complex cases of matching and manipulating, it is necessary the use of regular expressions.  \n",
    "### Built-in Methods for Manipulation of Strings:\n",
    "In many cases you have composite strings in which you would like to separate the various parts  and then assign them to the correct variables.  \n",
    "The __split()__ function allows us to separate parts of a text, taking as reference point a separator, for example comma."
   ]
  },
  {
   "cell_type": "code",
   "execution_count": 481,
   "id": "e4c0458c-34a9-41a5-8c71-baacb16b6cf8",
   "metadata": {},
   "outputs": [
    {
     "data": {
      "text/plain": [
       "['16 Bolton Avenue ', ' Boston']"
      ]
     },
     "execution_count": 481,
     "metadata": {},
     "output_type": "execute_result"
    }
   ],
   "source": [
    "text = '16 Bolton Avenue , Boston'\n",
    "text.split(',')\n",
    "# there is a space after 'Avenue'"
   ]
  },
  {
   "cell_type": "markdown",
   "id": "7e43c10c-da49-4ebb-a1cb-773f684a762d",
   "metadata": {},
   "source": [
    "As we can see in the first element, you have a string with a space character at the end. To overcome this problem and often a frequent problem, you have to use the __split()__ function along with the __strip()__ function that takes care of doing the trim of whitespace (including newlines) "
   ]
  },
  {
   "cell_type": "code",
   "execution_count": 482,
   "id": "9fff186f-acf4-4ae0-a7c4-f26d444f75bd",
   "metadata": {},
   "outputs": [
    {
     "data": {
      "text/plain": [
       "['16 Bolton Avenue', 'Boston']"
      ]
     },
     "execution_count": 482,
     "metadata": {},
     "output_type": "execute_result"
    }
   ],
   "source": [
    "tokens = [s.strip() for s in text.split(',')]\n",
    "tokens\n",
    "# List comprehension ...\n",
    "# this is a list comprehension that iterates over each \n",
    "# substring (s) generated by  text.split(',')\n",
    "# for each substring (s), the strip() function\n",
    "# removes any leading or trailing whitespaces from the string ...\n",
    "# the space after 'Avenue' has been removed ..."
   ]
  },
  {
   "cell_type": "markdown",
   "id": "47656c15-222f-496c-b4af-3b4c48032283",
   "metadata": {},
   "source": [
    "The result is an array of strings. If the number of elements is small and always the same, a very interesting way to make assignments may be this."
   ]
  },
  {
   "cell_type": "code",
   "execution_count": 483,
   "id": "cf8de6e4-3015-4b0b-8986-89ed01a0f6b8",
   "metadata": {},
   "outputs": [],
   "source": [
    "address, city = [s.strip() for s in text.split(',')]"
   ]
  },
  {
   "cell_type": "code",
   "execution_count": 484,
   "id": "d873e535-a11f-4124-bfe4-eae773a4b938",
   "metadata": {},
   "outputs": [
    {
     "data": {
      "text/plain": [
       "'16 Bolton Avenue'"
      ]
     },
     "execution_count": 484,
     "metadata": {},
     "output_type": "execute_result"
    }
   ],
   "source": [
    "address"
   ]
  },
  {
   "cell_type": "code",
   "execution_count": 485,
   "id": "4cc270dc-f652-449a-84a7-c6f6d2469676",
   "metadata": {},
   "outputs": [
    {
     "data": {
      "text/plain": [
       "'Boston'"
      ]
     },
     "execution_count": 485,
     "metadata": {},
     "output_type": "execute_result"
    }
   ],
   "source": [
    "city"
   ]
  },
  {
   "cell_type": "markdown",
   "id": "e3402b97-874a-491d-9dbf-c56790fec03d",
   "metadata": {},
   "source": [
    "So far you have seen how to split a text into parts, but often you also need the opposite, namely concatenating various strings between them to form extended text.   \n",
    "The most intuative and simple way is to concatenate the various text with the operatoe '+'."
   ]
  },
  {
   "cell_type": "code",
   "execution_count": 486,
   "id": "b973739f-124e-4a09-b4a0-fb19ee7ac5cf",
   "metadata": {},
   "outputs": [
    {
     "data": {
      "text/plain": [
       "'16 Bolton Avenue, Boston'"
      ]
     },
     "execution_count": 486,
     "metadata": {},
     "output_type": "execute_result"
    }
   ],
   "source": [
    "address + ', ' + city"
   ]
  },
  {
   "cell_type": "markdown",
   "id": "98563f5d-bee7-4e04-8535-2797b2df92a9",
   "metadata": {},
   "source": [
    "This can be useful when you have only two or three strings to be concatenated. If the parts to be concatenated are much more, a more practical approach in this case will be to use the __join()__ function assigned to the separator character, with which you want to join the various strings between them."
   ]
  },
  {
   "cell_type": "code",
   "execution_count": 487,
   "id": "644a3b76-d578-49c9-8a26-21944a134b44",
   "metadata": {},
   "outputs": [
    {
     "data": {
      "text/plain": [
       "'A+ ; A ; A- ; B ; BB ; BBB ; C+'"
      ]
     },
     "execution_count": 487,
     "metadata": {},
     "output_type": "execute_result"
    }
   ],
   "source": [
    "strings = ['A+','A','A-','B','BB','BBB','C+']\n",
    "' ; '.join(strings)"
   ]
  },
  {
   "cell_type": "markdown",
   "id": "36bb9bd9-cdd4-4a08-94fe-2b521cf11368",
   "metadata": {},
   "source": [
    "Another category of operations that can be performed on the string is the search for pieces of text in them, i.e, substrings. Python provides, in the respect, the keyword which represents the best way of detecting substrings. "
   ]
  },
  {
   "cell_type": "code",
   "execution_count": 488,
   "id": "b9508d78-d4e0-4d12-9025-506aec813c7d",
   "metadata": {},
   "outputs": [
    {
     "data": {
      "text/plain": [
       "True"
      ]
     },
     "execution_count": 488,
     "metadata": {},
     "output_type": "execute_result"
    }
   ],
   "source": [
    "'Boston' in text"
   ]
  },
  {
   "cell_type": "markdown",
   "id": "61a0f0ba-ce52-4d6a-b813-d379ec83a6fd",
   "metadata": {},
   "source": [
    "However, there are two functions that could serve to this purpose : __index()__ and __find()__"
   ]
  },
  {
   "cell_type": "code",
   "execution_count": 489,
   "id": "57b86ff0-86e3-4429-ac6d-4783f53670cd",
   "metadata": {},
   "outputs": [
    {
     "data": {
      "text/plain": [
       "19"
      ]
     },
     "execution_count": 489,
     "metadata": {},
     "output_type": "execute_result"
    }
   ],
   "source": [
    "text.index('Boston')"
   ]
  },
  {
   "cell_type": "code",
   "execution_count": 490,
   "id": "823bfdc4-fc7a-4bfa-981b-39984ce09107",
   "metadata": {},
   "outputs": [
    {
     "data": {
      "text/plain": [
       "3"
      ]
     },
     "execution_count": 490,
     "metadata": {},
     "output_type": "execute_result"
    }
   ],
   "source": [
    "text.find('Bolton')"
   ]
  },
  {
   "cell_type": "markdown",
   "id": "937c6e29-ffcd-41bf-89ca-4159fe14ef16",
   "metadata": {},
   "source": [
    "In both cases, it returns the number of the corresponding character in the text where you have the substring. The difference in the behavior of these two functions can be seen, however, when the substring is not found:"
   ]
  },
  {
   "cell_type": "code",
   "execution_count": 1,
   "id": "f86593a8-998c-43ba-8614-1535dcb7aa51",
   "metadata": {},
   "outputs": [
    {
     "ename": "NameError",
     "evalue": "name 'text' is not defined",
     "output_type": "error",
     "traceback": [
      "\u001b[0;31m---------------------------------------------------------------------------\u001b[0m",
      "\u001b[0;31mNameError\u001b[0m                                 Traceback (most recent call last)",
      "Cell \u001b[0;32mIn[1], line 1\u001b[0m\n\u001b[0;32m----> 1\u001b[0m \u001b[43mtext\u001b[49m\u001b[38;5;241m.\u001b[39mindex(\u001b[38;5;124m'\u001b[39m\u001b[38;5;124mNew York\u001b[39m\u001b[38;5;124m'\u001b[39m)\n",
      "\u001b[0;31mNameError\u001b[0m: name 'text' is not defined"
     ]
    }
   ],
   "source": [
    "text.index('New York')"
   ]
  },
  {
   "cell_type": "code",
   "execution_count": 492,
   "id": "f1bd2bf7-8bb5-4508-b8fd-febdc7cf1453",
   "metadata": {},
   "outputs": [
    {
     "data": {
      "text/plain": [
       "-1"
      ]
     },
     "execution_count": 492,
     "metadata": {},
     "output_type": "execute_result"
    }
   ],
   "source": [
    "text.find('New York')"
   ]
  },
  {
   "cell_type": "markdown",
   "id": "76563e3f-9474-4322-9849-19745105aac1",
   "metadata": {},
   "source": [
    "In fact, the __index()__ function returns an error message, and __find()__ returns -1 if the substring is not found. In the same area you can know how many times a character or a combination of characters (substring) occurs within a text.   \n",
    "The __count()__ function provides you with this number. "
   ]
  },
  {
   "cell_type": "code",
   "execution_count": 493,
   "id": "847e167d-fed4-49a2-9587-04bd225ac223",
   "metadata": {},
   "outputs": [
    {
     "data": {
      "text/plain": [
       "4"
      ]
     },
     "execution_count": 493,
     "metadata": {},
     "output_type": "execute_result"
    }
   ],
   "source": [
    "text.count('o')"
   ]
  },
  {
   "cell_type": "code",
   "execution_count": 494,
   "id": "d5fcce86-cc63-4bb8-a820-d31c13c996fc",
   "metadata": {},
   "outputs": [
    {
     "data": {
      "text/plain": [
       "1"
      ]
     },
     "execution_count": 494,
     "metadata": {},
     "output_type": "execute_result"
    }
   ],
   "source": [
    "text.count('Avenue')"
   ]
  },
  {
   "cell_type": "markdown",
   "id": "193c7fef-f1f7-4f40-a42b-edf118683f51",
   "metadata": {},
   "source": [
    "Another operation that can be performed on strings is the replacement or elimination of substring (or a single character). In both cases you will use the __replace()__ function, where if you are prompted to replace a substring with a balnk character, the operation will be equivalent to the elimination of the substring from the text. "
   ]
  },
  {
   "cell_type": "code",
   "execution_count": 495,
   "id": "e66bccaf-a331-4bf4-9e09-51557ef6f636",
   "metadata": {},
   "outputs": [
    {
     "data": {
      "text/plain": [
       "'16 Bolton Avenue , Boston'"
      ]
     },
     "execution_count": 495,
     "metadata": {},
     "output_type": "execute_result"
    }
   ],
   "source": [
    "text"
   ]
  },
  {
   "cell_type": "code",
   "execution_count": 496,
   "id": "0a0724e8-4ec8-4fa8-bb8d-89e34e69c369",
   "metadata": {},
   "outputs": [
    {
     "data": {
      "text/plain": [
       "'16 Bolton Plaza , Boston'"
      ]
     },
     "execution_count": 496,
     "metadata": {},
     "output_type": "execute_result"
    }
   ],
   "source": [
    "text.replace('Avenue', 'Plaza')"
   ]
  },
  {
   "cell_type": "code",
   "execution_count": 497,
   "id": "73b1a3de-8b7b-498e-a4e6-8c73ca821fd3",
   "metadata": {},
   "outputs": [
    {
     "data": {
      "text/plain": [
       "' Bolton Avenue , Boston'"
      ]
     },
     "execution_count": 497,
     "metadata": {},
     "output_type": "execute_result"
    }
   ],
   "source": [
    "text.replace('16', '')"
   ]
  },
  {
   "cell_type": "markdown",
   "id": "1ae4d476-0ccc-41a1-83c5-7db32c4db17b",
   "metadata": {},
   "source": [
    "### Regular Expressions:\n",
    "The regular expressions provide a very flexible way to search and match string patterns within a text. A single expressions, generally called __regex__, is a string formed according to the regular expression language. There is a built-in Python module called __re__, which is responsible for the operation of the __regex__.  \n",
    "First you need to import the module."
   ]
  },
  {
   "cell_type": "code",
   "execution_count": 498,
   "id": "7bf4a875-6e59-4808-9178-cc295637cb11",
   "metadata": {},
   "outputs": [],
   "source": [
    "import re"
   ]
  },
  {
   "cell_type": "markdown",
   "id": "1f9be1b3-571c-494b-9c05-0f743c755b5c",
   "metadata": {},
   "source": [
    "The __re__ module provides a set of functions that can be divided into three different categories.    \n",
    "• pattern matching  \n",
    "• substitution  \n",
    "• splitting  \n",
    "\n",
    "\\s+ : expressing the sequence of one or more whitespaces characters.  \n",
    "\n",
    "As you saw in the previous section, to split a text into parts through a separator character you can use the __split()__ function.  \n",
    "there is a __split()__ function even for the __re__ module that performs the same operations, only it is able to accept a regex pattern as the criterion of separation, which makes it considerably more flexible.  "
   ]
  },
  {
   "cell_type": "code",
   "execution_count": 499,
   "id": "2adc3f57-97fe-4f77-b350-d6cc8d9f727a",
   "metadata": {},
   "outputs": [],
   "source": [
    "text = \"This is an odd  text!\""
   ]
  },
  {
   "cell_type": "code",
   "execution_count": 500,
   "id": "9b4fc3b1-15df-4798-b380-f5e6782a28e8",
   "metadata": {},
   "outputs": [
    {
     "data": {
      "text/plain": [
       "'This is an odd  text!'"
      ]
     },
     "execution_count": 500,
     "metadata": {},
     "output_type": "execute_result"
    }
   ],
   "source": [
    "text"
   ]
  },
  {
   "cell_type": "code",
   "execution_count": 501,
   "id": "8dd3bae9-fe89-4688-be94-49debe60a64e",
   "metadata": {},
   "outputs": [
    {
     "data": {
      "text/plain": [
       "['This', 'is', 'an', 'odd', 'text!']"
      ]
     },
     "execution_count": 501,
     "metadata": {},
     "output_type": "execute_result"
    }
   ],
   "source": [
    "re.split('\\s+', text)"
   ]
  },
  {
   "cell_type": "markdown",
   "id": "3e3d11f5-9481-4bb5-991d-e0f1f26b30a3",
   "metadata": {},
   "source": [
    "But analyze more deeply the mechnism of the __re__ module. When you call the __re.split()__ function, the regular expression is first compiled, then subsequntly calls the __split()__ function on the text argument. You can compile the regex function with the __re.compile()__ function, thus obtaining a reusable object regex and so gaining in term of CPU cycles.  \n",
    "This is specially true in the operations of iterative search of a substring in a set or an array of strings."
   ]
  },
  {
   "cell_type": "code",
   "execution_count": 502,
   "id": "9c72dbc1-3c0e-48bd-997d-34f1b1163781",
   "metadata": {},
   "outputs": [],
   "source": [
    "regex = re.compile('\\s+')"
   ]
  },
  {
   "cell_type": "markdown",
   "id": "6714290b-564a-47d6-9e15-0bf7aec17db5",
   "metadata": {},
   "source": [
    "So if you make an __regex__ object with the __compile()__ function, you can apply __split()__ directly to it in the following way.  "
   ]
  },
  {
   "cell_type": "code",
   "execution_count": 503,
   "id": "6638b689-5fc7-45d8-ae5e-1a377dfb1c6c",
   "metadata": {},
   "outputs": [
    {
     "data": {
      "text/plain": [
       "['This', 'is', 'an', 'odd', 'text!']"
      ]
     },
     "execution_count": 503,
     "metadata": {},
     "output_type": "execute_result"
    }
   ],
   "source": [
    "regex.split(text)"
   ]
  },
  {
   "cell_type": "markdown",
   "id": "c4515c53-5187-4d1e-acf1-49b98a5fbab6",
   "metadata": {},
   "source": [
    "__findall()__ function returns a list of all the substrings in the text that meet the requirements of the regex.  \n",
    "for example, if you want to find in a string all the words with \"A\" uppercase, or for example, with \"a\" regardless whether upper- or lowercase, you need to enter that follows:"
   ]
  },
  {
   "cell_type": "code",
   "execution_count": 504,
   "id": "ad7e9712-c5dc-4700-9de0-f755d7d4fb93",
   "metadata": {},
   "outputs": [],
   "source": [
    "text = \"This is my address: 16 Bolton Avenue, Boston\""
   ]
  },
  {
   "cell_type": "code",
   "execution_count": 505,
   "id": "3f05b304-c36c-443f-a3aa-d8c2e3530b12",
   "metadata": {},
   "outputs": [
    {
     "data": {
      "text/plain": [
       "['Avenue']"
      ]
     },
     "execution_count": 505,
     "metadata": {},
     "output_type": "execute_result"
    }
   ],
   "source": [
    "re.findall('A\\w+', text)"
   ]
  },
  {
   "cell_type": "code",
   "execution_count": 506,
   "id": "661f44e9-8476-4026-9d5a-fdf7ebff5b86",
   "metadata": {},
   "outputs": [
    {
     "data": {
      "text/plain": [
       "['address', 'Avenue']"
      ]
     },
     "execution_count": 506,
     "metadata": {},
     "output_type": "execute_result"
    }
   ],
   "source": [
    "re.findall('[A,a]\\w+', text)"
   ]
  },
  {
   "cell_type": "markdown",
   "id": "c6c73d8f-440d-4770-96d5-a86b9fd0cebe",
   "metadata": {},
   "source": [
    "There are two other functions related to the function __findall()__: __match()__ and __search()__.  \n",
    "while __findall()__ returns all matches within a list, the function __search()__ returns only the furst match. Furthermore, the object returned by this function is a particular object:  "
   ]
  },
  {
   "cell_type": "code",
   "execution_count": 507,
   "id": "4964657d-a923-42bf-b65c-53bc7105ce32",
   "metadata": {},
   "outputs": [
    {
     "data": {
      "text/plain": [
       "<re.Match object; span=(11, 18), match='address'>"
      ]
     },
     "execution_count": 507,
     "metadata": {},
     "output_type": "execute_result"
    }
   ],
   "source": [
    "re.search('[A,a]\\w+', text)"
   ]
  },
  {
   "cell_type": "markdown",
   "id": "67100c75-82b2-4ea8-b964-c6076dc45d55",
   "metadata": {},
   "source": [
    "This object dose not contain the value of the substring that responds to the regex pattern, but its start and end positions within the string."
   ]
  },
  {
   "cell_type": "code",
   "execution_count": 508,
   "id": "dbd0ede8-9664-4bd9-85b0-61635b07825b",
   "metadata": {},
   "outputs": [],
   "source": [
    "search = re.search('[A,a]\\w+', text)"
   ]
  },
  {
   "cell_type": "code",
   "execution_count": 509,
   "id": "ac5e8c36-e51f-4f87-8f9f-48e1dfd157a0",
   "metadata": {},
   "outputs": [
    {
     "data": {
      "text/plain": [
       "11"
      ]
     },
     "execution_count": 509,
     "metadata": {},
     "output_type": "execute_result"
    }
   ],
   "source": [
    "search.start()"
   ]
  },
  {
   "cell_type": "code",
   "execution_count": 510,
   "id": "0b4fe6be-01e6-4656-bda7-afd224cf9a39",
   "metadata": {},
   "outputs": [
    {
     "data": {
      "text/plain": [
       "18"
      ]
     },
     "execution_count": 510,
     "metadata": {},
     "output_type": "execute_result"
    }
   ],
   "source": [
    "search.end()"
   ]
  },
  {
   "cell_type": "code",
   "execution_count": 511,
   "id": "744514eb-ad89-4a0b-b054-a6c2de1f9763",
   "metadata": {},
   "outputs": [
    {
     "data": {
      "text/plain": [
       "'address'"
      ]
     },
     "execution_count": 511,
     "metadata": {},
     "output_type": "execute_result"
    }
   ],
   "source": [
    "text[search.start():search.end()]"
   ]
  },
  {
   "cell_type": "markdown",
   "id": "e34494c1-61ea-41fb-8702-b7331581352c",
   "metadata": {},
   "source": [
    "The __match()__ function performs the matching only at the beginning of the string; if there is no match with the first character, it goes no further in search within the string. If you do not find any match then it will not return any objects. "
   ]
  },
  {
   "cell_type": "code",
   "execution_count": 512,
   "id": "cce3e181-c635-4c8f-b1fb-b58d8311e435",
   "metadata": {},
   "outputs": [],
   "source": [
    "re.match('[A,a]\\w+', text)"
   ]
  },
  {
   "cell_type": "markdown",
   "id": "b57b0796-ba4d-4417-b6f6-1846873bd622",
   "metadata": {},
   "source": [
    "If __match()__ has a response, then it returns an object identical to what you saw for the __search()__ function."
   ]
  },
  {
   "cell_type": "code",
   "execution_count": 513,
   "id": "71e4da8e-8bf5-46e8-a6ec-53130f9e1284",
   "metadata": {},
   "outputs": [
    {
     "data": {
      "text/plain": [
       "<re.Match object; span=(0, 4), match='This'>"
      ]
     },
     "execution_count": 513,
     "metadata": {},
     "output_type": "execute_result"
    }
   ],
   "source": [
    "re.match('T\\w+', text)"
   ]
  },
  {
   "cell_type": "code",
   "execution_count": 514,
   "id": "cbf71e24-aede-485b-8dcc-9108e9156dd0",
   "metadata": {},
   "outputs": [],
   "source": [
    "match = re.match('T\\w+', text)"
   ]
  },
  {
   "cell_type": "code",
   "execution_count": 515,
   "id": "567287fd-f85f-45ef-83c1-cb384014c8c9",
   "metadata": {},
   "outputs": [
    {
     "data": {
      "text/plain": [
       "'This'"
      ]
     },
     "execution_count": 515,
     "metadata": {},
     "output_type": "execute_result"
    }
   ],
   "source": [
    "atch.end()]"
   ]
  }
 ],
 "metadata": {
  "kernelspec": {
   "display_name": "Python 3 (ipykernel)",
   "language": "python",
   "name": "python3"
  },
  "language_info": {
   "codemirror_mode": {
    "name": "ipython",
    "version": 3
   },
   "file_extension": ".py",
   "mimetype": "text/x-python",
   "name": "python",
   "nbconvert_exporter": "python",
   "pygments_lexer": "ipython3",
   "version": "3.8.19"
  }
 },
 "nbformat": 4,
 "nbformat_minor": 5
}
