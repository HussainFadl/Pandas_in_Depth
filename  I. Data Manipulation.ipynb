{
 "cells": [
  {
   "cell_type": "markdown",
   "id": "ca55d0f2-25e9-4d44-9e66-2153bc86fa86",
   "metadata": {},
   "source": [
    "# Data Preparation:"
   ]
  },
  {
   "cell_type": "markdown",
   "id": "403d2d53-15e5-4088-a675-49355b056033",
   "metadata": {},
   "source": [
    "### Merging:"
   ]
  },
  {
   "cell_type": "code",
   "execution_count": 1,
   "id": "f2fad727-0cd6-4d73-8894-3e8451490afc",
   "metadata": {},
   "outputs": [],
   "source": [
    "import numpy as np"
   ]
  },
  {
   "cell_type": "code",
   "execution_count": 2,
   "id": "1fc25c18-48d9-4b57-99bd-55f31f8dd3ad",
   "metadata": {},
   "outputs": [],
   "source": [
    "import pandas as pd "
   ]
  },
  {
   "cell_type": "code",
   "execution_count": 3,
   "id": "946dacac-cfd3-4b5c-a792-88f52684e8ee",
   "metadata": {},
   "outputs": [],
   "source": [
    "frame1 = pd.DataFrame( {'id':['ball','pencil','pen','mug','ashtray'],\n",
    "... 'price': [12.33,11.44,33.21,13.23,33.62]})"
   ]
  },
  {
   "cell_type": "code",
   "execution_count": 4,
   "id": "a8e54d0b-247c-409c-bebe-bacc1afc5a98",
   "metadata": {},
   "outputs": [
    {
     "data": {
      "text/html": [
       "<div>\n",
       "<style scoped>\n",
       "    .dataframe tbody tr th:only-of-type {\n",
       "        vertical-align: middle;\n",
       "    }\n",
       "\n",
       "    .dataframe tbody tr th {\n",
       "        vertical-align: top;\n",
       "    }\n",
       "\n",
       "    .dataframe thead th {\n",
       "        text-align: right;\n",
       "    }\n",
       "</style>\n",
       "<table border=\"1\" class=\"dataframe\">\n",
       "  <thead>\n",
       "    <tr style=\"text-align: right;\">\n",
       "      <th></th>\n",
       "      <th>id</th>\n",
       "      <th>price</th>\n",
       "    </tr>\n",
       "  </thead>\n",
       "  <tbody>\n",
       "    <tr>\n",
       "      <th>0</th>\n",
       "      <td>ball</td>\n",
       "      <td>12.33</td>\n",
       "    </tr>\n",
       "    <tr>\n",
       "      <th>1</th>\n",
       "      <td>pencil</td>\n",
       "      <td>11.44</td>\n",
       "    </tr>\n",
       "    <tr>\n",
       "      <th>2</th>\n",
       "      <td>pen</td>\n",
       "      <td>33.21</td>\n",
       "    </tr>\n",
       "    <tr>\n",
       "      <th>3</th>\n",
       "      <td>mug</td>\n",
       "      <td>13.23</td>\n",
       "    </tr>\n",
       "    <tr>\n",
       "      <th>4</th>\n",
       "      <td>ashtray</td>\n",
       "      <td>33.62</td>\n",
       "    </tr>\n",
       "  </tbody>\n",
       "</table>\n",
       "</div>"
      ],
      "text/plain": [
       "        id  price\n",
       "0     ball  12.33\n",
       "1   pencil  11.44\n",
       "2      pen  33.21\n",
       "3      mug  13.23\n",
       "4  ashtray  33.62"
      ]
     },
     "execution_count": 4,
     "metadata": {},
     "output_type": "execute_result"
    }
   ],
   "source": [
    "frame1"
   ]
  },
  {
   "cell_type": "code",
   "execution_count": 6,
   "id": "ffb033c3-bb83-4326-bf7e-5b11df190a4f",
   "metadata": {},
   "outputs": [],
   "source": [
    "frame2 = pd.DataFrame( {'id':['pencil','pencil','ball','pen'],\n",
    "... 'color': ['white','red','red','black']})"
   ]
  },
  {
   "cell_type": "code",
   "execution_count": 7,
   "id": "c364f3fd-6dc6-4d4b-b00e-558dc5f8fe9d",
   "metadata": {},
   "outputs": [
    {
     "data": {
      "text/html": [
       "<div>\n",
       "<style scoped>\n",
       "    .dataframe tbody tr th:only-of-type {\n",
       "        vertical-align: middle;\n",
       "    }\n",
       "\n",
       "    .dataframe tbody tr th {\n",
       "        vertical-align: top;\n",
       "    }\n",
       "\n",
       "    .dataframe thead th {\n",
       "        text-align: right;\n",
       "    }\n",
       "</style>\n",
       "<table border=\"1\" class=\"dataframe\">\n",
       "  <thead>\n",
       "    <tr style=\"text-align: right;\">\n",
       "      <th></th>\n",
       "      <th>id</th>\n",
       "      <th>color</th>\n",
       "    </tr>\n",
       "  </thead>\n",
       "  <tbody>\n",
       "    <tr>\n",
       "      <th>0</th>\n",
       "      <td>pencil</td>\n",
       "      <td>white</td>\n",
       "    </tr>\n",
       "    <tr>\n",
       "      <th>1</th>\n",
       "      <td>pencil</td>\n",
       "      <td>red</td>\n",
       "    </tr>\n",
       "    <tr>\n",
       "      <th>2</th>\n",
       "      <td>ball</td>\n",
       "      <td>red</td>\n",
       "    </tr>\n",
       "    <tr>\n",
       "      <th>3</th>\n",
       "      <td>pen</td>\n",
       "      <td>black</td>\n",
       "    </tr>\n",
       "  </tbody>\n",
       "</table>\n",
       "</div>"
      ],
      "text/plain": [
       "       id  color\n",
       "0  pencil  white\n",
       "1  pencil    red\n",
       "2    ball    red\n",
       "3     pen  black"
      ]
     },
     "execution_count": 7,
     "metadata": {},
     "output_type": "execute_result"
    }
   ],
   "source": [
    "frame2"
   ]
  },
  {
   "cell_type": "markdown",
   "id": "de41f02d-1c97-4dcd-9d31-1b11a986a664",
   "metadata": {},
   "source": [
    "Carry out the merging applying the __merge__ function to the two DataFrame objects"
   ]
  },
  {
   "cell_type": "code",
   "execution_count": 10,
   "id": "8b566137-35a0-438b-bd9e-4f1a88b93587",
   "metadata": {},
   "outputs": [
    {
     "data": {
      "text/html": [
       "<div>\n",
       "<style scoped>\n",
       "    .dataframe tbody tr th:only-of-type {\n",
       "        vertical-align: middle;\n",
       "    }\n",
       "\n",
       "    .dataframe tbody tr th {\n",
       "        vertical-align: top;\n",
       "    }\n",
       "\n",
       "    .dataframe thead th {\n",
       "        text-align: right;\n",
       "    }\n",
       "</style>\n",
       "<table border=\"1\" class=\"dataframe\">\n",
       "  <thead>\n",
       "    <tr style=\"text-align: right;\">\n",
       "      <th></th>\n",
       "      <th>id</th>\n",
       "      <th>price</th>\n",
       "      <th>color</th>\n",
       "    </tr>\n",
       "  </thead>\n",
       "  <tbody>\n",
       "    <tr>\n",
       "      <th>0</th>\n",
       "      <td>ball</td>\n",
       "      <td>12.33</td>\n",
       "      <td>red</td>\n",
       "    </tr>\n",
       "    <tr>\n",
       "      <th>1</th>\n",
       "      <td>pencil</td>\n",
       "      <td>11.44</td>\n",
       "      <td>white</td>\n",
       "    </tr>\n",
       "    <tr>\n",
       "      <th>2</th>\n",
       "      <td>pencil</td>\n",
       "      <td>11.44</td>\n",
       "      <td>red</td>\n",
       "    </tr>\n",
       "    <tr>\n",
       "      <th>3</th>\n",
       "      <td>pen</td>\n",
       "      <td>33.21</td>\n",
       "      <td>black</td>\n",
       "    </tr>\n",
       "  </tbody>\n",
       "</table>\n",
       "</div>"
      ],
      "text/plain": [
       "       id  price  color\n",
       "0    ball  12.33    red\n",
       "1  pencil  11.44  white\n",
       "2  pencil  11.44    red\n",
       "3     pen  33.21  black"
      ]
     },
     "execution_count": 10,
     "metadata": {},
     "output_type": "execute_result"
    }
   ],
   "source": [
    "pd.merge(frame1, frame2)"
   ]
  },
  {
   "cell_type": "markdown",
   "id": "88ce5bd2-7561-4571-9beb-cdba7bcf14a8",
   "metadata": {},
   "source": [
    "The returned DataFrame consistes of all rows that have the an __ID__ in common between the two DataFrames.   \n",
    "In this case we used the the __merge()__ function without specifying any column explicitly.   \n",
    "In fact, in most cases you need to decide which is the column on which to base the merging.  \n",
    "__To do this, add the __(on)__ option with the column name as the key for the merging$__"
   ]
  },
  {
   "cell_type": "code",
   "execution_count": 24,
   "id": "d8274743-38e5-414b-b440-02aff12824c2",
   "metadata": {},
   "outputs": [],
   "source": [
    "frame1 = pd.DataFrame( {'brand': ['OMG','ABC','ABC','POD','POD'],\n",
    "... 'color': ['white','red','red','black','green'],\n",
    "... 'id':['ball','pencil','pen','mug','ashtray']})"
   ]
  },
  {
   "cell_type": "code",
   "execution_count": 25,
   "id": "539e101c-66fb-44a5-a17a-3a508567ab7b",
   "metadata": {},
   "outputs": [
    {
     "data": {
      "text/plain": [
       "Ellipsis"
      ]
     },
     "execution_count": 25,
     "metadata": {},
     "output_type": "execute_result"
    }
   ],
   "source": [
    "frame2 = pd.DataFrame( {'brand': ['OMG','POD','ABC','POD'],\n",
    "    'id':['pencil','pencil','ball','pen']})\n",
    "... "
   ]
  },
  {
   "cell_type": "code",
   "execution_count": 26,
   "id": "26ac68ae-8e41-4b1e-ad7c-2a7ce6e4aa08",
   "metadata": {},
   "outputs": [
    {
     "data": {
      "text/html": [
       "<div>\n",
       "<style scoped>\n",
       "    .dataframe tbody tr th:only-of-type {\n",
       "        vertical-align: middle;\n",
       "    }\n",
       "\n",
       "    .dataframe tbody tr th {\n",
       "        vertical-align: top;\n",
       "    }\n",
       "\n",
       "    .dataframe thead th {\n",
       "        text-align: right;\n",
       "    }\n",
       "</style>\n",
       "<table border=\"1\" class=\"dataframe\">\n",
       "  <thead>\n",
       "    <tr style=\"text-align: right;\">\n",
       "      <th></th>\n",
       "      <th>brand</th>\n",
       "      <th>color</th>\n",
       "      <th>id</th>\n",
       "    </tr>\n",
       "  </thead>\n",
       "  <tbody>\n",
       "    <tr>\n",
       "      <th>0</th>\n",
       "      <td>OMG</td>\n",
       "      <td>white</td>\n",
       "      <td>ball</td>\n",
       "    </tr>\n",
       "    <tr>\n",
       "      <th>1</th>\n",
       "      <td>ABC</td>\n",
       "      <td>red</td>\n",
       "      <td>pencil</td>\n",
       "    </tr>\n",
       "    <tr>\n",
       "      <th>2</th>\n",
       "      <td>ABC</td>\n",
       "      <td>red</td>\n",
       "      <td>pen</td>\n",
       "    </tr>\n",
       "    <tr>\n",
       "      <th>3</th>\n",
       "      <td>POD</td>\n",
       "      <td>black</td>\n",
       "      <td>mug</td>\n",
       "    </tr>\n",
       "    <tr>\n",
       "      <th>4</th>\n",
       "      <td>POD</td>\n",
       "      <td>green</td>\n",
       "      <td>ashtray</td>\n",
       "    </tr>\n",
       "  </tbody>\n",
       "</table>\n",
       "</div>"
      ],
      "text/plain": [
       "  brand  color       id\n",
       "0   OMG  white     ball\n",
       "1   ABC    red   pencil\n",
       "2   ABC    red      pen\n",
       "3   POD  black      mug\n",
       "4   POD  green  ashtray"
      ]
     },
     "execution_count": 26,
     "metadata": {},
     "output_type": "execute_result"
    }
   ],
   "source": [
    "frame1 "
   ]
  },
  {
   "cell_type": "code",
   "execution_count": 23,
   "id": "549c402f-7b6f-4384-b5a5-3585f0195949",
   "metadata": {},
   "outputs": [
    {
     "data": {
      "text/html": [
       "<div>\n",
       "<style scoped>\n",
       "    .dataframe tbody tr th:only-of-type {\n",
       "        vertical-align: middle;\n",
       "    }\n",
       "\n",
       "    .dataframe tbody tr th {\n",
       "        vertical-align: top;\n",
       "    }\n",
       "\n",
       "    .dataframe thead th {\n",
       "        text-align: right;\n",
       "    }\n",
       "</style>\n",
       "<table border=\"1\" class=\"dataframe\">\n",
       "  <thead>\n",
       "    <tr style=\"text-align: right;\">\n",
       "      <th></th>\n",
       "      <th>brand</th>\n",
       "      <th>id</th>\n",
       "    </tr>\n",
       "  </thead>\n",
       "  <tbody>\n",
       "    <tr>\n",
       "      <th>0</th>\n",
       "      <td>OMG</td>\n",
       "      <td>pencil</td>\n",
       "    </tr>\n",
       "    <tr>\n",
       "      <th>1</th>\n",
       "      <td>POD</td>\n",
       "      <td>pencil</td>\n",
       "    </tr>\n",
       "    <tr>\n",
       "      <th>2</th>\n",
       "      <td>ABC</td>\n",
       "      <td>ball</td>\n",
       "    </tr>\n",
       "    <tr>\n",
       "      <th>3</th>\n",
       "      <td>POD</td>\n",
       "      <td>pen</td>\n",
       "    </tr>\n",
       "  </tbody>\n",
       "</table>\n",
       "</div>"
      ],
      "text/plain": [
       "  brand      id\n",
       "0   OMG  pencil\n",
       "1   POD  pencil\n",
       "2   ABC    ball\n",
       "3   POD     pen"
      ]
     },
     "execution_count": 23,
     "metadata": {},
     "output_type": "execute_result"
    }
   ],
   "source": [
    "frame2"
   ]
  },
  {
   "cell_type": "markdown",
   "id": "98fc2099-c970-4b9c-83d4-9f77a2b9148d",
   "metadata": {},
   "source": [
    "Now in this case you have two DataFrame having columns with the same name. So, if you launch a merging you do not get any resulte...  "
   ]
  },
  {
   "cell_type": "code",
   "execution_count": 27,
   "id": "504a0197-f768-4eb2-b18b-3e690cf6cf80",
   "metadata": {},
   "outputs": [
    {
     "data": {
      "text/html": [
       "<div>\n",
       "<style scoped>\n",
       "    .dataframe tbody tr th:only-of-type {\n",
       "        vertical-align: middle;\n",
       "    }\n",
       "\n",
       "    .dataframe tbody tr th {\n",
       "        vertical-align: top;\n",
       "    }\n",
       "\n",
       "    .dataframe thead th {\n",
       "        text-align: right;\n",
       "    }\n",
       "</style>\n",
       "<table border=\"1\" class=\"dataframe\">\n",
       "  <thead>\n",
       "    <tr style=\"text-align: right;\">\n",
       "      <th></th>\n",
       "      <th>brand</th>\n",
       "      <th>color</th>\n",
       "      <th>id</th>\n",
       "    </tr>\n",
       "  </thead>\n",
       "  <tbody>\n",
       "  </tbody>\n",
       "</table>\n",
       "</div>"
      ],
      "text/plain": [
       "Empty DataFrame\n",
       "Columns: [brand, color, id]\n",
       "Index: []"
      ]
     },
     "execution_count": 27,
     "metadata": {},
     "output_type": "execute_result"
    }
   ],
   "source": [
    "pd.merge(frame1, frame2)"
   ]
  },
  {
   "cell_type": "markdown",
   "id": "1f61faf5-d151-4644-a75e-0e15e18aad4f",
   "metadata": {},
   "source": [
    "So it is necessary to explicitly define the criterion of merging that pandas must follow, specifying the name of the key column in the (on) option.   "
   ]
  },
  {
   "cell_type": "code",
   "execution_count": 28,
   "id": "f561ea65-3765-489a-bc1b-c928de241297",
   "metadata": {},
   "outputs": [
    {
     "data": {
      "text/html": [
       "<div>\n",
       "<style scoped>\n",
       "    .dataframe tbody tr th:only-of-type {\n",
       "        vertical-align: middle;\n",
       "    }\n",
       "\n",
       "    .dataframe tbody tr th {\n",
       "        vertical-align: top;\n",
       "    }\n",
       "\n",
       "    .dataframe thead th {\n",
       "        text-align: right;\n",
       "    }\n",
       "</style>\n",
       "<table border=\"1\" class=\"dataframe\">\n",
       "  <thead>\n",
       "    <tr style=\"text-align: right;\">\n",
       "      <th></th>\n",
       "      <th>brand_x</th>\n",
       "      <th>color</th>\n",
       "      <th>id</th>\n",
       "      <th>brand_y</th>\n",
       "    </tr>\n",
       "  </thead>\n",
       "  <tbody>\n",
       "    <tr>\n",
       "      <th>0</th>\n",
       "      <td>OMG</td>\n",
       "      <td>white</td>\n",
       "      <td>ball</td>\n",
       "      <td>ABC</td>\n",
       "    </tr>\n",
       "    <tr>\n",
       "      <th>1</th>\n",
       "      <td>ABC</td>\n",
       "      <td>red</td>\n",
       "      <td>pencil</td>\n",
       "      <td>OMG</td>\n",
       "    </tr>\n",
       "    <tr>\n",
       "      <th>2</th>\n",
       "      <td>ABC</td>\n",
       "      <td>red</td>\n",
       "      <td>pencil</td>\n",
       "      <td>POD</td>\n",
       "    </tr>\n",
       "    <tr>\n",
       "      <th>3</th>\n",
       "      <td>ABC</td>\n",
       "      <td>red</td>\n",
       "      <td>pen</td>\n",
       "      <td>POD</td>\n",
       "    </tr>\n",
       "  </tbody>\n",
       "</table>\n",
       "</div>"
      ],
      "text/plain": [
       "  brand_x  color      id brand_y\n",
       "0     OMG  white    ball     ABC\n",
       "1     ABC    red  pencil     OMG\n",
       "2     ABC    red  pencil     POD\n",
       "3     ABC    red     pen     POD"
      ]
     },
     "execution_count": 28,
     "metadata": {},
     "output_type": "execute_result"
    }
   ],
   "source": [
    "pd.merge(frame1, frame2, on = 'id')"
   ]
  },
  {
   "cell_type": "code",
   "execution_count": 29,
   "id": "ba8bd278-7813-4e8f-a83b-adc3f8d6d47f",
   "metadata": {},
   "outputs": [
    {
     "data": {
      "text/html": [
       "<div>\n",
       "<style scoped>\n",
       "    .dataframe tbody tr th:only-of-type {\n",
       "        vertical-align: middle;\n",
       "    }\n",
       "\n",
       "    .dataframe tbody tr th {\n",
       "        vertical-align: top;\n",
       "    }\n",
       "\n",
       "    .dataframe thead th {\n",
       "        text-align: right;\n",
       "    }\n",
       "</style>\n",
       "<table border=\"1\" class=\"dataframe\">\n",
       "  <thead>\n",
       "    <tr style=\"text-align: right;\">\n",
       "      <th></th>\n",
       "      <th>brand</th>\n",
       "      <th>color</th>\n",
       "      <th>id_x</th>\n",
       "      <th>id_y</th>\n",
       "    </tr>\n",
       "  </thead>\n",
       "  <tbody>\n",
       "    <tr>\n",
       "      <th>0</th>\n",
       "      <td>OMG</td>\n",
       "      <td>white</td>\n",
       "      <td>ball</td>\n",
       "      <td>pencil</td>\n",
       "    </tr>\n",
       "    <tr>\n",
       "      <th>1</th>\n",
       "      <td>ABC</td>\n",
       "      <td>red</td>\n",
       "      <td>pencil</td>\n",
       "      <td>ball</td>\n",
       "    </tr>\n",
       "    <tr>\n",
       "      <th>2</th>\n",
       "      <td>ABC</td>\n",
       "      <td>red</td>\n",
       "      <td>pen</td>\n",
       "      <td>ball</td>\n",
       "    </tr>\n",
       "    <tr>\n",
       "      <th>3</th>\n",
       "      <td>POD</td>\n",
       "      <td>black</td>\n",
       "      <td>mug</td>\n",
       "      <td>pencil</td>\n",
       "    </tr>\n",
       "    <tr>\n",
       "      <th>4</th>\n",
       "      <td>POD</td>\n",
       "      <td>black</td>\n",
       "      <td>mug</td>\n",
       "      <td>pen</td>\n",
       "    </tr>\n",
       "    <tr>\n",
       "      <th>5</th>\n",
       "      <td>POD</td>\n",
       "      <td>green</td>\n",
       "      <td>ashtray</td>\n",
       "      <td>pencil</td>\n",
       "    </tr>\n",
       "    <tr>\n",
       "      <th>6</th>\n",
       "      <td>POD</td>\n",
       "      <td>green</td>\n",
       "      <td>ashtray</td>\n",
       "      <td>pen</td>\n",
       "    </tr>\n",
       "  </tbody>\n",
       "</table>\n",
       "</div>"
      ],
      "text/plain": [
       "  brand  color     id_x    id_y\n",
       "0   OMG  white     ball  pencil\n",
       "1   ABC    red   pencil    ball\n",
       "2   ABC    red      pen    ball\n",
       "3   POD  black      mug  pencil\n",
       "4   POD  black      mug     pen\n",
       "5   POD  green  ashtray  pencil\n",
       "6   POD  green  ashtray     pen"
      ]
     },
     "execution_count": 29,
     "metadata": {},
     "output_type": "execute_result"
    }
   ],
   "source": [
    "pd.merge(frame1, frame2, on = 'brand')"
   ]
  },
  {
   "cell_type": "markdown",
   "id": "062b4f41-e391-49ad-b34e-84d75c303bb8",
   "metadata": {},
   "source": [
    "As expected the result vary considerably depending on the criteria of merging.   \n",
    "Often, however, the opposite problem arises, that is, to have two DataFrame in which the key columns do not have the same name.   \n",
    "To remedy this situation, you have to use the __left_on__ and __right_on__ options that specify the key column for the first and for the second DataFrame.   "
   ]
  },
  {
   "cell_type": "code",
   "execution_count": 30,
   "id": "0ca95ff4-2a22-40f8-9aac-b4c02a9a67ca",
   "metadata": {},
   "outputs": [],
   "source": [
    "frame2.columns = ['brand', 'sid']"
   ]
  },
  {
   "cell_type": "code",
   "execution_count": 31,
   "id": "56c28cdd-bf69-4e0c-b5a5-c938d0bddb6a",
   "metadata": {},
   "outputs": [
    {
     "data": {
      "text/html": [
       "<div>\n",
       "<style scoped>\n",
       "    .dataframe tbody tr th:only-of-type {\n",
       "        vertical-align: middle;\n",
       "    }\n",
       "\n",
       "    .dataframe tbody tr th {\n",
       "        vertical-align: top;\n",
       "    }\n",
       "\n",
       "    .dataframe thead th {\n",
       "        text-align: right;\n",
       "    }\n",
       "</style>\n",
       "<table border=\"1\" class=\"dataframe\">\n",
       "  <thead>\n",
       "    <tr style=\"text-align: right;\">\n",
       "      <th></th>\n",
       "      <th>brand</th>\n",
       "      <th>sid</th>\n",
       "    </tr>\n",
       "  </thead>\n",
       "  <tbody>\n",
       "    <tr>\n",
       "      <th>0</th>\n",
       "      <td>OMG</td>\n",
       "      <td>pencil</td>\n",
       "    </tr>\n",
       "    <tr>\n",
       "      <th>1</th>\n",
       "      <td>POD</td>\n",
       "      <td>pencil</td>\n",
       "    </tr>\n",
       "    <tr>\n",
       "      <th>2</th>\n",
       "      <td>ABC</td>\n",
       "      <td>ball</td>\n",
       "    </tr>\n",
       "    <tr>\n",
       "      <th>3</th>\n",
       "      <td>POD</td>\n",
       "      <td>pen</td>\n",
       "    </tr>\n",
       "  </tbody>\n",
       "</table>\n",
       "</div>"
      ],
      "text/plain": [
       "  brand     sid\n",
       "0   OMG  pencil\n",
       "1   POD  pencil\n",
       "2   ABC    ball\n",
       "3   POD     pen"
      ]
     },
     "execution_count": 31,
     "metadata": {},
     "output_type": "execute_result"
    }
   ],
   "source": [
    "frame2"
   ]
  },
  {
   "cell_type": "code",
   "execution_count": 32,
   "id": "d6e56c7f-63f5-4023-ba57-a29747ad04f2",
   "metadata": {},
   "outputs": [
    {
     "data": {
      "text/html": [
       "<div>\n",
       "<style scoped>\n",
       "    .dataframe tbody tr th:only-of-type {\n",
       "        vertical-align: middle;\n",
       "    }\n",
       "\n",
       "    .dataframe tbody tr th {\n",
       "        vertical-align: top;\n",
       "    }\n",
       "\n",
       "    .dataframe thead th {\n",
       "        text-align: right;\n",
       "    }\n",
       "</style>\n",
       "<table border=\"1\" class=\"dataframe\">\n",
       "  <thead>\n",
       "    <tr style=\"text-align: right;\">\n",
       "      <th></th>\n",
       "      <th>brand</th>\n",
       "      <th>color</th>\n",
       "      <th>id</th>\n",
       "    </tr>\n",
       "  </thead>\n",
       "  <tbody>\n",
       "    <tr>\n",
       "      <th>0</th>\n",
       "      <td>OMG</td>\n",
       "      <td>white</td>\n",
       "      <td>ball</td>\n",
       "    </tr>\n",
       "    <tr>\n",
       "      <th>1</th>\n",
       "      <td>ABC</td>\n",
       "      <td>red</td>\n",
       "      <td>pencil</td>\n",
       "    </tr>\n",
       "    <tr>\n",
       "      <th>2</th>\n",
       "      <td>ABC</td>\n",
       "      <td>red</td>\n",
       "      <td>pen</td>\n",
       "    </tr>\n",
       "    <tr>\n",
       "      <th>3</th>\n",
       "      <td>POD</td>\n",
       "      <td>black</td>\n",
       "      <td>mug</td>\n",
       "    </tr>\n",
       "    <tr>\n",
       "      <th>4</th>\n",
       "      <td>POD</td>\n",
       "      <td>green</td>\n",
       "      <td>ashtray</td>\n",
       "    </tr>\n",
       "  </tbody>\n",
       "</table>\n",
       "</div>"
      ],
      "text/plain": [
       "  brand  color       id\n",
       "0   OMG  white     ball\n",
       "1   ABC    red   pencil\n",
       "2   ABC    red      pen\n",
       "3   POD  black      mug\n",
       "4   POD  green  ashtray"
      ]
     },
     "execution_count": 32,
     "metadata": {},
     "output_type": "execute_result"
    }
   ],
   "source": [
    "frame1"
   ]
  },
  {
   "cell_type": "code",
   "execution_count": 35,
   "id": "04f7889c-b8aa-4697-824d-e62ea1e1bd52",
   "metadata": {},
   "outputs": [
    {
     "data": {
      "text/html": [
       "<div>\n",
       "<style scoped>\n",
       "    .dataframe tbody tr th:only-of-type {\n",
       "        vertical-align: middle;\n",
       "    }\n",
       "\n",
       "    .dataframe tbody tr th {\n",
       "        vertical-align: top;\n",
       "    }\n",
       "\n",
       "    .dataframe thead th {\n",
       "        text-align: right;\n",
       "    }\n",
       "</style>\n",
       "<table border=\"1\" class=\"dataframe\">\n",
       "  <thead>\n",
       "    <tr style=\"text-align: right;\">\n",
       "      <th></th>\n",
       "      <th>brand_x</th>\n",
       "      <th>color</th>\n",
       "      <th>id</th>\n",
       "      <th>brand_y</th>\n",
       "      <th>sid</th>\n",
       "    </tr>\n",
       "  </thead>\n",
       "  <tbody>\n",
       "    <tr>\n",
       "      <th>0</th>\n",
       "      <td>OMG</td>\n",
       "      <td>white</td>\n",
       "      <td>ball</td>\n",
       "      <td>ABC</td>\n",
       "      <td>ball</td>\n",
       "    </tr>\n",
       "    <tr>\n",
       "      <th>1</th>\n",
       "      <td>ABC</td>\n",
       "      <td>red</td>\n",
       "      <td>pencil</td>\n",
       "      <td>OMG</td>\n",
       "      <td>pencil</td>\n",
       "    </tr>\n",
       "    <tr>\n",
       "      <th>2</th>\n",
       "      <td>ABC</td>\n",
       "      <td>red</td>\n",
       "      <td>pencil</td>\n",
       "      <td>POD</td>\n",
       "      <td>pencil</td>\n",
       "    </tr>\n",
       "    <tr>\n",
       "      <th>3</th>\n",
       "      <td>ABC</td>\n",
       "      <td>red</td>\n",
       "      <td>pen</td>\n",
       "      <td>POD</td>\n",
       "      <td>pen</td>\n",
       "    </tr>\n",
       "  </tbody>\n",
       "</table>\n",
       "</div>"
      ],
      "text/plain": [
       "  brand_x  color      id brand_y     sid\n",
       "0     OMG  white    ball     ABC    ball\n",
       "1     ABC    red  pencil     OMG  pencil\n",
       "2     ABC    red  pencil     POD  pencil\n",
       "3     ABC    red     pen     POD     pen"
      ]
     },
     "execution_count": 35,
     "metadata": {},
     "output_type": "execute_result"
    }
   ],
   "source": [
    "pd.merge(frame1, frame2, left_on = 'id', right_on = 'sid')"
   ]
  },
  {
   "cell_type": "markdown",
   "id": "c830b070-7984-428f-b5e2-c8196f309319",
   "metadata": {},
   "source": [
    "By default, the __merge()__ function performs an __inner join__, the keys in the result are the result of an intersection.   \n",
    "\n",
    "Other possible options are the __left join__, the __right join__. The outer join produces the union of all keys, combining the effect of a left join with a right join. To select the type of join you have to use the __how__ option.   "
   ]
  },
  {
   "cell_type": "code",
   "execution_count": 46,
   "id": "46216599-0c79-4605-bfb5-8ba5501ceb03",
   "metadata": {},
   "outputs": [
    {
     "data": {
      "text/html": [
       "<div>\n",
       "<style scoped>\n",
       "    .dataframe tbody tr th:only-of-type {\n",
       "        vertical-align: middle;\n",
       "    }\n",
       "\n",
       "    .dataframe tbody tr th {\n",
       "        vertical-align: top;\n",
       "    }\n",
       "\n",
       "    .dataframe thead th {\n",
       "        text-align: right;\n",
       "    }\n",
       "</style>\n",
       "<table border=\"1\" class=\"dataframe\">\n",
       "  <thead>\n",
       "    <tr style=\"text-align: right;\">\n",
       "      <th></th>\n",
       "      <th>brand</th>\n",
       "      <th>sid</th>\n",
       "    </tr>\n",
       "  </thead>\n",
       "  <tbody>\n",
       "    <tr>\n",
       "      <th>0</th>\n",
       "      <td>OMG</td>\n",
       "      <td>pencil</td>\n",
       "    </tr>\n",
       "    <tr>\n",
       "      <th>1</th>\n",
       "      <td>POD</td>\n",
       "      <td>pencil</td>\n",
       "    </tr>\n",
       "    <tr>\n",
       "      <th>2</th>\n",
       "      <td>ABC</td>\n",
       "      <td>ball</td>\n",
       "    </tr>\n",
       "    <tr>\n",
       "      <th>3</th>\n",
       "      <td>POD</td>\n",
       "      <td>pen</td>\n",
       "    </tr>\n",
       "  </tbody>\n",
       "</table>\n",
       "</div>"
      ],
      "text/plain": [
       "  brand     sid\n",
       "0   OMG  pencil\n",
       "1   POD  pencil\n",
       "2   ABC    ball\n",
       "3   POD     pen"
      ]
     },
     "execution_count": 46,
     "metadata": {},
     "output_type": "execute_result"
    }
   ],
   "source": [
    "frame2"
   ]
  },
  {
   "cell_type": "code",
   "execution_count": 48,
   "id": "a2c18333-4c03-4a5b-aa88-57e17a2b1980",
   "metadata": {},
   "outputs": [],
   "source": [
    "frame2.columns =['brand', 'id']"
   ]
  },
  {
   "cell_type": "code",
   "execution_count": 49,
   "id": "6ec5a702-9464-4934-8a39-68d972bf7ef5",
   "metadata": {},
   "outputs": [
    {
     "data": {
      "text/html": [
       "<div>\n",
       "<style scoped>\n",
       "    .dataframe tbody tr th:only-of-type {\n",
       "        vertical-align: middle;\n",
       "    }\n",
       "\n",
       "    .dataframe tbody tr th {\n",
       "        vertical-align: top;\n",
       "    }\n",
       "\n",
       "    .dataframe thead th {\n",
       "        text-align: right;\n",
       "    }\n",
       "</style>\n",
       "<table border=\"1\" class=\"dataframe\">\n",
       "  <thead>\n",
       "    <tr style=\"text-align: right;\">\n",
       "      <th></th>\n",
       "      <th>brand</th>\n",
       "      <th>id</th>\n",
       "    </tr>\n",
       "  </thead>\n",
       "  <tbody>\n",
       "    <tr>\n",
       "      <th>0</th>\n",
       "      <td>OMG</td>\n",
       "      <td>pencil</td>\n",
       "    </tr>\n",
       "    <tr>\n",
       "      <th>1</th>\n",
       "      <td>POD</td>\n",
       "      <td>pencil</td>\n",
       "    </tr>\n",
       "    <tr>\n",
       "      <th>2</th>\n",
       "      <td>ABC</td>\n",
       "      <td>ball</td>\n",
       "    </tr>\n",
       "    <tr>\n",
       "      <th>3</th>\n",
       "      <td>POD</td>\n",
       "      <td>pen</td>\n",
       "    </tr>\n",
       "  </tbody>\n",
       "</table>\n",
       "</div>"
      ],
      "text/plain": [
       "  brand      id\n",
       "0   OMG  pencil\n",
       "1   POD  pencil\n",
       "2   ABC    ball\n",
       "3   POD     pen"
      ]
     },
     "execution_count": 49,
     "metadata": {},
     "output_type": "execute_result"
    }
   ],
   "source": [
    "frame2"
   ]
  },
  {
   "cell_type": "code",
   "execution_count": 42,
   "id": "593ad7f3-fa18-4975-afdd-ea44414d02a3",
   "metadata": {},
   "outputs": [
    {
     "data": {
      "text/html": [
       "<div>\n",
       "<style scoped>\n",
       "    .dataframe tbody tr th:only-of-type {\n",
       "        vertical-align: middle;\n",
       "    }\n",
       "\n",
       "    .dataframe tbody tr th {\n",
       "        vertical-align: top;\n",
       "    }\n",
       "\n",
       "    .dataframe thead th {\n",
       "        text-align: right;\n",
       "    }\n",
       "</style>\n",
       "<table border=\"1\" class=\"dataframe\">\n",
       "  <thead>\n",
       "    <tr style=\"text-align: right;\">\n",
       "      <th></th>\n",
       "      <th>brand</th>\n",
       "      <th>color</th>\n",
       "      <th>id</th>\n",
       "    </tr>\n",
       "  </thead>\n",
       "  <tbody>\n",
       "    <tr>\n",
       "      <th>0</th>\n",
       "      <td>OMG</td>\n",
       "      <td>white</td>\n",
       "      <td>ball</td>\n",
       "    </tr>\n",
       "    <tr>\n",
       "      <th>1</th>\n",
       "      <td>ABC</td>\n",
       "      <td>red</td>\n",
       "      <td>pencil</td>\n",
       "    </tr>\n",
       "    <tr>\n",
       "      <th>2</th>\n",
       "      <td>ABC</td>\n",
       "      <td>red</td>\n",
       "      <td>pen</td>\n",
       "    </tr>\n",
       "    <tr>\n",
       "      <th>3</th>\n",
       "      <td>POD</td>\n",
       "      <td>black</td>\n",
       "      <td>mug</td>\n",
       "    </tr>\n",
       "    <tr>\n",
       "      <th>4</th>\n",
       "      <td>POD</td>\n",
       "      <td>green</td>\n",
       "      <td>ashtray</td>\n",
       "    </tr>\n",
       "  </tbody>\n",
       "</table>\n",
       "</div>"
      ],
      "text/plain": [
       "  brand  color       id\n",
       "0   OMG  white     ball\n",
       "1   ABC    red   pencil\n",
       "2   ABC    red      pen\n",
       "3   POD  black      mug\n",
       "4   POD  green  ashtray"
      ]
     },
     "execution_count": 42,
     "metadata": {},
     "output_type": "execute_result"
    }
   ],
   "source": [
    "frame1"
   ]
  },
  {
   "cell_type": "markdown",
   "id": "bd7a402e-7403-4d88-b64e-29b2a403a1d2",
   "metadata": {},
   "source": [
    "Other possible options are the __left join__, the __right join__. The outer join produces the union of all keys, combining the effect of a left join with a right join. To select the type of join you have to use the __how__ option. "
   ]
  },
  {
   "cell_type": "code",
   "execution_count": 51,
   "id": "1b83c338-8e6a-4a1e-815c-beca6e9c1821",
   "metadata": {},
   "outputs": [
    {
     "data": {
      "text/html": [
       "<div>\n",
       "<style scoped>\n",
       "    .dataframe tbody tr th:only-of-type {\n",
       "        vertical-align: middle;\n",
       "    }\n",
       "\n",
       "    .dataframe tbody tr th {\n",
       "        vertical-align: top;\n",
       "    }\n",
       "\n",
       "    .dataframe thead th {\n",
       "        text-align: right;\n",
       "    }\n",
       "</style>\n",
       "<table border=\"1\" class=\"dataframe\">\n",
       "  <thead>\n",
       "    <tr style=\"text-align: right;\">\n",
       "      <th></th>\n",
       "      <th>brand_x</th>\n",
       "      <th>color</th>\n",
       "      <th>id</th>\n",
       "      <th>brand_y</th>\n",
       "    </tr>\n",
       "  </thead>\n",
       "  <tbody>\n",
       "    <tr>\n",
       "      <th>0</th>\n",
       "      <td>OMG</td>\n",
       "      <td>white</td>\n",
       "      <td>ball</td>\n",
       "      <td>ABC</td>\n",
       "    </tr>\n",
       "    <tr>\n",
       "      <th>1</th>\n",
       "      <td>ABC</td>\n",
       "      <td>red</td>\n",
       "      <td>pencil</td>\n",
       "      <td>OMG</td>\n",
       "    </tr>\n",
       "    <tr>\n",
       "      <th>2</th>\n",
       "      <td>ABC</td>\n",
       "      <td>red</td>\n",
       "      <td>pencil</td>\n",
       "      <td>POD</td>\n",
       "    </tr>\n",
       "    <tr>\n",
       "      <th>3</th>\n",
       "      <td>ABC</td>\n",
       "      <td>red</td>\n",
       "      <td>pen</td>\n",
       "      <td>POD</td>\n",
       "    </tr>\n",
       "  </tbody>\n",
       "</table>\n",
       "</div>"
      ],
      "text/plain": [
       "  brand_x  color      id brand_y\n",
       "0     OMG  white    ball     ABC\n",
       "1     ABC    red  pencil     OMG\n",
       "2     ABC    red  pencil     POD\n",
       "3     ABC    red     pen     POD"
      ]
     },
     "execution_count": 51,
     "metadata": {},
     "output_type": "execute_result"
    }
   ],
   "source": [
    "pd.merge(frame1, frame2, on='id')"
   ]
  },
  {
   "cell_type": "code",
   "execution_count": 50,
   "id": "2c62f4f8-54d0-46bd-825f-0b1ae4714278",
   "metadata": {},
   "outputs": [
    {
     "data": {
      "text/html": [
       "<div>\n",
       "<style scoped>\n",
       "    .dataframe tbody tr th:only-of-type {\n",
       "        vertical-align: middle;\n",
       "    }\n",
       "\n",
       "    .dataframe tbody tr th {\n",
       "        vertical-align: top;\n",
       "    }\n",
       "\n",
       "    .dataframe thead th {\n",
       "        text-align: right;\n",
       "    }\n",
       "</style>\n",
       "<table border=\"1\" class=\"dataframe\">\n",
       "  <thead>\n",
       "    <tr style=\"text-align: right;\">\n",
       "      <th></th>\n",
       "      <th>brand_x</th>\n",
       "      <th>color</th>\n",
       "      <th>id</th>\n",
       "      <th>brand_y</th>\n",
       "    </tr>\n",
       "  </thead>\n",
       "  <tbody>\n",
       "    <tr>\n",
       "      <th>0</th>\n",
       "      <td>POD</td>\n",
       "      <td>green</td>\n",
       "      <td>ashtray</td>\n",
       "      <td>NaN</td>\n",
       "    </tr>\n",
       "    <tr>\n",
       "      <th>1</th>\n",
       "      <td>OMG</td>\n",
       "      <td>white</td>\n",
       "      <td>ball</td>\n",
       "      <td>ABC</td>\n",
       "    </tr>\n",
       "    <tr>\n",
       "      <th>2</th>\n",
       "      <td>POD</td>\n",
       "      <td>black</td>\n",
       "      <td>mug</td>\n",
       "      <td>NaN</td>\n",
       "    </tr>\n",
       "    <tr>\n",
       "      <th>3</th>\n",
       "      <td>ABC</td>\n",
       "      <td>red</td>\n",
       "      <td>pen</td>\n",
       "      <td>POD</td>\n",
       "    </tr>\n",
       "    <tr>\n",
       "      <th>4</th>\n",
       "      <td>ABC</td>\n",
       "      <td>red</td>\n",
       "      <td>pencil</td>\n",
       "      <td>OMG</td>\n",
       "    </tr>\n",
       "    <tr>\n",
       "      <th>5</th>\n",
       "      <td>ABC</td>\n",
       "      <td>red</td>\n",
       "      <td>pencil</td>\n",
       "      <td>POD</td>\n",
       "    </tr>\n",
       "  </tbody>\n",
       "</table>\n",
       "</div>"
      ],
      "text/plain": [
       "  brand_x  color       id brand_y\n",
       "0     POD  green  ashtray     NaN\n",
       "1     OMG  white     ball     ABC\n",
       "2     POD  black      mug     NaN\n",
       "3     ABC    red      pen     POD\n",
       "4     ABC    red   pencil     OMG\n",
       "5     ABC    red   pencil     POD"
      ]
     },
     "execution_count": 50,
     "metadata": {},
     "output_type": "execute_result"
    }
   ],
   "source": [
    "pd.merge(frame1, frame2, on='id', how='outer')"
   ]
  },
  {
   "cell_type": "code",
   "execution_count": 52,
   "id": "fc9881b8-6201-4e29-935d-28ef8e3fa31e",
   "metadata": {},
   "outputs": [
    {
     "data": {
      "text/html": [
       "<div>\n",
       "<style scoped>\n",
       "    .dataframe tbody tr th:only-of-type {\n",
       "        vertical-align: middle;\n",
       "    }\n",
       "\n",
       "    .dataframe tbody tr th {\n",
       "        vertical-align: top;\n",
       "    }\n",
       "\n",
       "    .dataframe thead th {\n",
       "        text-align: right;\n",
       "    }\n",
       "</style>\n",
       "<table border=\"1\" class=\"dataframe\">\n",
       "  <thead>\n",
       "    <tr style=\"text-align: right;\">\n",
       "      <th></th>\n",
       "      <th>brand_x</th>\n",
       "      <th>color</th>\n",
       "      <th>id</th>\n",
       "      <th>brand_y</th>\n",
       "    </tr>\n",
       "  </thead>\n",
       "  <tbody>\n",
       "    <tr>\n",
       "      <th>0</th>\n",
       "      <td>OMG</td>\n",
       "      <td>white</td>\n",
       "      <td>ball</td>\n",
       "      <td>ABC</td>\n",
       "    </tr>\n",
       "    <tr>\n",
       "      <th>1</th>\n",
       "      <td>ABC</td>\n",
       "      <td>red</td>\n",
       "      <td>pencil</td>\n",
       "      <td>OMG</td>\n",
       "    </tr>\n",
       "    <tr>\n",
       "      <th>2</th>\n",
       "      <td>ABC</td>\n",
       "      <td>red</td>\n",
       "      <td>pencil</td>\n",
       "      <td>POD</td>\n",
       "    </tr>\n",
       "    <tr>\n",
       "      <th>3</th>\n",
       "      <td>ABC</td>\n",
       "      <td>red</td>\n",
       "      <td>pen</td>\n",
       "      <td>POD</td>\n",
       "    </tr>\n",
       "    <tr>\n",
       "      <th>4</th>\n",
       "      <td>POD</td>\n",
       "      <td>black</td>\n",
       "      <td>mug</td>\n",
       "      <td>NaN</td>\n",
       "    </tr>\n",
       "    <tr>\n",
       "      <th>5</th>\n",
       "      <td>POD</td>\n",
       "      <td>green</td>\n",
       "      <td>ashtray</td>\n",
       "      <td>NaN</td>\n",
       "    </tr>\n",
       "  </tbody>\n",
       "</table>\n",
       "</div>"
      ],
      "text/plain": [
       "  brand_x  color       id brand_y\n",
       "0     OMG  white     ball     ABC\n",
       "1     ABC    red   pencil     OMG\n",
       "2     ABC    red   pencil     POD\n",
       "3     ABC    red      pen     POD\n",
       "4     POD  black      mug     NaN\n",
       "5     POD  green  ashtray     NaN"
      ]
     },
     "execution_count": 52,
     "metadata": {},
     "output_type": "execute_result"
    }
   ],
   "source": [
    "pd.merge(frame1, frame2, on='id', how='left')"
   ]
  },
  {
   "cell_type": "code",
   "execution_count": 53,
   "id": "9e2a8009-55f4-46f1-bfc2-c70ba0c59c93",
   "metadata": {},
   "outputs": [
    {
     "data": {
      "text/html": [
       "<div>\n",
       "<style scoped>\n",
       "    .dataframe tbody tr th:only-of-type {\n",
       "        vertical-align: middle;\n",
       "    }\n",
       "\n",
       "    .dataframe tbody tr th {\n",
       "        vertical-align: top;\n",
       "    }\n",
       "\n",
       "    .dataframe thead th {\n",
       "        text-align: right;\n",
       "    }\n",
       "</style>\n",
       "<table border=\"1\" class=\"dataframe\">\n",
       "  <thead>\n",
       "    <tr style=\"text-align: right;\">\n",
       "      <th></th>\n",
       "      <th>brand_x</th>\n",
       "      <th>color</th>\n",
       "      <th>id</th>\n",
       "      <th>brand_y</th>\n",
       "    </tr>\n",
       "  </thead>\n",
       "  <tbody>\n",
       "    <tr>\n",
       "      <th>0</th>\n",
       "      <td>ABC</td>\n",
       "      <td>red</td>\n",
       "      <td>pencil</td>\n",
       "      <td>OMG</td>\n",
       "    </tr>\n",
       "    <tr>\n",
       "      <th>1</th>\n",
       "      <td>ABC</td>\n",
       "      <td>red</td>\n",
       "      <td>pencil</td>\n",
       "      <td>POD</td>\n",
       "    </tr>\n",
       "    <tr>\n",
       "      <th>2</th>\n",
       "      <td>OMG</td>\n",
       "      <td>white</td>\n",
       "      <td>ball</td>\n",
       "      <td>ABC</td>\n",
       "    </tr>\n",
       "    <tr>\n",
       "      <th>3</th>\n",
       "      <td>ABC</td>\n",
       "      <td>red</td>\n",
       "      <td>pen</td>\n",
       "      <td>POD</td>\n",
       "    </tr>\n",
       "  </tbody>\n",
       "</table>\n",
       "</div>"
      ],
      "text/plain": [
       "  brand_x  color      id brand_y\n",
       "0     ABC    red  pencil     OMG\n",
       "1     ABC    red  pencil     POD\n",
       "2     OMG  white    ball     ABC\n",
       "3     ABC    red     pen     POD"
      ]
     },
     "execution_count": 53,
     "metadata": {},
     "output_type": "execute_result"
    }
   ],
   "source": [
    "pd.merge(frame1, frame2, on='id', how='right')"
   ]
  },
  {
   "cell_type": "markdown",
   "id": "9d9f1ebc-dc45-4d40-b58d-32f9aeef1cc3",
   "metadata": {},
   "source": [
    "To make the merge of multiple keys, you simply just add a list to the __on__ option"
   ]
  },
  {
   "cell_type": "code",
   "execution_count": 55,
   "id": "efc5717f-c415-4edc-b308-3f0139ad14b6",
   "metadata": {},
   "outputs": [
    {
     "data": {
      "text/html": [
       "<div>\n",
       "<style scoped>\n",
       "    .dataframe tbody tr th:only-of-type {\n",
       "        vertical-align: middle;\n",
       "    }\n",
       "\n",
       "    .dataframe tbody tr th {\n",
       "        vertical-align: top;\n",
       "    }\n",
       "\n",
       "    .dataframe thead th {\n",
       "        text-align: right;\n",
       "    }\n",
       "</style>\n",
       "<table border=\"1\" class=\"dataframe\">\n",
       "  <thead>\n",
       "    <tr style=\"text-align: right;\">\n",
       "      <th></th>\n",
       "      <th>brand</th>\n",
       "      <th>color</th>\n",
       "      <th>id</th>\n",
       "    </tr>\n",
       "  </thead>\n",
       "  <tbody>\n",
       "    <tr>\n",
       "      <th>0</th>\n",
       "      <td>POD</td>\n",
       "      <td>green</td>\n",
       "      <td>ashtray</td>\n",
       "    </tr>\n",
       "    <tr>\n",
       "      <th>1</th>\n",
       "      <td>ABC</td>\n",
       "      <td>NaN</td>\n",
       "      <td>ball</td>\n",
       "    </tr>\n",
       "    <tr>\n",
       "      <th>2</th>\n",
       "      <td>OMG</td>\n",
       "      <td>white</td>\n",
       "      <td>ball</td>\n",
       "    </tr>\n",
       "    <tr>\n",
       "      <th>3</th>\n",
       "      <td>POD</td>\n",
       "      <td>black</td>\n",
       "      <td>mug</td>\n",
       "    </tr>\n",
       "    <tr>\n",
       "      <th>4</th>\n",
       "      <td>ABC</td>\n",
       "      <td>red</td>\n",
       "      <td>pen</td>\n",
       "    </tr>\n",
       "    <tr>\n",
       "      <th>5</th>\n",
       "      <td>POD</td>\n",
       "      <td>NaN</td>\n",
       "      <td>pen</td>\n",
       "    </tr>\n",
       "    <tr>\n",
       "      <th>6</th>\n",
       "      <td>ABC</td>\n",
       "      <td>red</td>\n",
       "      <td>pencil</td>\n",
       "    </tr>\n",
       "    <tr>\n",
       "      <th>7</th>\n",
       "      <td>OMG</td>\n",
       "      <td>NaN</td>\n",
       "      <td>pencil</td>\n",
       "    </tr>\n",
       "    <tr>\n",
       "      <th>8</th>\n",
       "      <td>POD</td>\n",
       "      <td>NaN</td>\n",
       "      <td>pencil</td>\n",
       "    </tr>\n",
       "  </tbody>\n",
       "</table>\n",
       "</div>"
      ],
      "text/plain": [
       "  brand  color       id\n",
       "0   POD  green  ashtray\n",
       "1   ABC    NaN     ball\n",
       "2   OMG  white     ball\n",
       "3   POD  black      mug\n",
       "4   ABC    red      pen\n",
       "5   POD    NaN      pen\n",
       "6   ABC    red   pencil\n",
       "7   OMG    NaN   pencil\n",
       "8   POD    NaN   pencil"
      ]
     },
     "execution_count": 55,
     "metadata": {},
     "output_type": "execute_result"
    }
   ],
   "source": [
    "pd.merge(frame1, frame2, on=['id', 'brand'], how='outer')"
   ]
  },
  {
   "cell_type": "markdown",
   "id": "740654d8-690c-44e9-86d2-03b993ed1fcf",
   "metadata": {},
   "source": [
    "### Merging on Index\n",
    "In some cases, instead of considering the columns of a DataFrame as Keys, the indexes could be used as keys on which to make the criteria for merging. Then in order to decide which indexes to consider, set the __left_index__ or __right_index__ options to True to activate them, with the ability to activate them both. "
   ]
  },
  {
   "cell_type": "code",
   "execution_count": 56,
   "id": "bb24593b-8b4c-4449-8cf1-1afaf9dc4801",
   "metadata": {},
   "outputs": [
    {
     "data": {
      "text/html": [
       "<div>\n",
       "<style scoped>\n",
       "    .dataframe tbody tr th:only-of-type {\n",
       "        vertical-align: middle;\n",
       "    }\n",
       "\n",
       "    .dataframe tbody tr th {\n",
       "        vertical-align: top;\n",
       "    }\n",
       "\n",
       "    .dataframe thead th {\n",
       "        text-align: right;\n",
       "    }\n",
       "</style>\n",
       "<table border=\"1\" class=\"dataframe\">\n",
       "  <thead>\n",
       "    <tr style=\"text-align: right;\">\n",
       "      <th></th>\n",
       "      <th>brand_x</th>\n",
       "      <th>color</th>\n",
       "      <th>id_x</th>\n",
       "      <th>brand_y</th>\n",
       "      <th>id_y</th>\n",
       "    </tr>\n",
       "  </thead>\n",
       "  <tbody>\n",
       "    <tr>\n",
       "      <th>0</th>\n",
       "      <td>OMG</td>\n",
       "      <td>white</td>\n",
       "      <td>ball</td>\n",
       "      <td>OMG</td>\n",
       "      <td>pencil</td>\n",
       "    </tr>\n",
       "    <tr>\n",
       "      <th>1</th>\n",
       "      <td>ABC</td>\n",
       "      <td>red</td>\n",
       "      <td>pencil</td>\n",
       "      <td>POD</td>\n",
       "      <td>pencil</td>\n",
       "    </tr>\n",
       "    <tr>\n",
       "      <th>2</th>\n",
       "      <td>ABC</td>\n",
       "      <td>red</td>\n",
       "      <td>pen</td>\n",
       "      <td>ABC</td>\n",
       "      <td>ball</td>\n",
       "    </tr>\n",
       "    <tr>\n",
       "      <th>3</th>\n",
       "      <td>POD</td>\n",
       "      <td>black</td>\n",
       "      <td>mug</td>\n",
       "      <td>POD</td>\n",
       "      <td>pen</td>\n",
       "    </tr>\n",
       "  </tbody>\n",
       "</table>\n",
       "</div>"
      ],
      "text/plain": [
       "  brand_x  color    id_x brand_y    id_y\n",
       "0     OMG  white    ball     OMG  pencil\n",
       "1     ABC    red  pencil     POD  pencil\n",
       "2     ABC    red     pen     ABC    ball\n",
       "3     POD  black     mug     POD     pen"
      ]
     },
     "execution_count": 56,
     "metadata": {},
     "output_type": "execute_result"
    }
   ],
   "source": [
    "pd.merge(frame1, frame2, right_index=True, left_index=True)"
   ]
  },
  {
   "cell_type": "markdown",
   "id": "e0586bd9-8654-4725-9f9d-4ee69ed4e08a",
   "metadata": {},
   "source": [
    "But the DataFrame objects have a __join()__ function which is much more convenient when you want to do the merging by indexes. It also be used to combine many DataFrame objects having the same or the same indexes but with columns not overlapping.   \n",
    "In fact, if you launch $frame1.join(fram2)$ you will get an error because some columns of the frame1 have the same name of frame2. Then rename the columns of frame2 before launching the $join()$ function."
   ]
  },
  {
   "cell_type": "code",
   "execution_count": 58,
   "id": "ce856971-7034-4680-9dd7-d8cf95fd45d0",
   "metadata": {},
   "outputs": [],
   "source": [
    "frame2.columns=['brand2','id2']"
   ]
  },
  {
   "cell_type": "code",
   "execution_count": 59,
   "id": "2537f25e-b703-461f-8d2b-4faefcaab98f",
   "metadata": {},
   "outputs": [
    {
     "data": {
      "text/html": [
       "<div>\n",
       "<style scoped>\n",
       "    .dataframe tbody tr th:only-of-type {\n",
       "        vertical-align: middle;\n",
       "    }\n",
       "\n",
       "    .dataframe tbody tr th {\n",
       "        vertical-align: top;\n",
       "    }\n",
       "\n",
       "    .dataframe thead th {\n",
       "        text-align: right;\n",
       "    }\n",
       "</style>\n",
       "<table border=\"1\" class=\"dataframe\">\n",
       "  <thead>\n",
       "    <tr style=\"text-align: right;\">\n",
       "      <th></th>\n",
       "      <th>brand2</th>\n",
       "      <th>id2</th>\n",
       "    </tr>\n",
       "  </thead>\n",
       "  <tbody>\n",
       "    <tr>\n",
       "      <th>0</th>\n",
       "      <td>OMG</td>\n",
       "      <td>pencil</td>\n",
       "    </tr>\n",
       "    <tr>\n",
       "      <th>1</th>\n",
       "      <td>POD</td>\n",
       "      <td>pencil</td>\n",
       "    </tr>\n",
       "    <tr>\n",
       "      <th>2</th>\n",
       "      <td>ABC</td>\n",
       "      <td>ball</td>\n",
       "    </tr>\n",
       "    <tr>\n",
       "      <th>3</th>\n",
       "      <td>POD</td>\n",
       "      <td>pen</td>\n",
       "    </tr>\n",
       "  </tbody>\n",
       "</table>\n",
       "</div>"
      ],
      "text/plain": [
       "  brand2     id2\n",
       "0    OMG  pencil\n",
       "1    POD  pencil\n",
       "2    ABC    ball\n",
       "3    POD     pen"
      ]
     },
     "execution_count": 59,
     "metadata": {},
     "output_type": "execute_result"
    }
   ],
   "source": [
    "frame2"
   ]
  },
  {
   "cell_type": "code",
   "execution_count": 60,
   "id": "4ec0f60b-f5f7-4e06-96ca-e2bc04a917f4",
   "metadata": {},
   "outputs": [
    {
     "data": {
      "text/html": [
       "<div>\n",
       "<style scoped>\n",
       "    .dataframe tbody tr th:only-of-type {\n",
       "        vertical-align: middle;\n",
       "    }\n",
       "\n",
       "    .dataframe tbody tr th {\n",
       "        vertical-align: top;\n",
       "    }\n",
       "\n",
       "    .dataframe thead th {\n",
       "        text-align: right;\n",
       "    }\n",
       "</style>\n",
       "<table border=\"1\" class=\"dataframe\">\n",
       "  <thead>\n",
       "    <tr style=\"text-align: right;\">\n",
       "      <th></th>\n",
       "      <th>brand</th>\n",
       "      <th>color</th>\n",
       "      <th>id</th>\n",
       "    </tr>\n",
       "  </thead>\n",
       "  <tbody>\n",
       "    <tr>\n",
       "      <th>0</th>\n",
       "      <td>OMG</td>\n",
       "      <td>white</td>\n",
       "      <td>ball</td>\n",
       "    </tr>\n",
       "    <tr>\n",
       "      <th>1</th>\n",
       "      <td>ABC</td>\n",
       "      <td>red</td>\n",
       "      <td>pencil</td>\n",
       "    </tr>\n",
       "    <tr>\n",
       "      <th>2</th>\n",
       "      <td>ABC</td>\n",
       "      <td>red</td>\n",
       "      <td>pen</td>\n",
       "    </tr>\n",
       "    <tr>\n",
       "      <th>3</th>\n",
       "      <td>POD</td>\n",
       "      <td>black</td>\n",
       "      <td>mug</td>\n",
       "    </tr>\n",
       "    <tr>\n",
       "      <th>4</th>\n",
       "      <td>POD</td>\n",
       "      <td>green</td>\n",
       "      <td>ashtray</td>\n",
       "    </tr>\n",
       "  </tbody>\n",
       "</table>\n",
       "</div>"
      ],
      "text/plain": [
       "  brand  color       id\n",
       "0   OMG  white     ball\n",
       "1   ABC    red   pencil\n",
       "2   ABC    red      pen\n",
       "3   POD  black      mug\n",
       "4   POD  green  ashtray"
      ]
     },
     "execution_count": 60,
     "metadata": {},
     "output_type": "execute_result"
    }
   ],
   "source": [
    "frame1"
   ]
  },
  {
   "cell_type": "code",
   "execution_count": 61,
   "id": "cda28d32-b87e-45e6-9b6a-271dc19fb3a7",
   "metadata": {},
   "outputs": [
    {
     "data": {
      "text/html": [
       "<div>\n",
       "<style scoped>\n",
       "    .dataframe tbody tr th:only-of-type {\n",
       "        vertical-align: middle;\n",
       "    }\n",
       "\n",
       "    .dataframe tbody tr th {\n",
       "        vertical-align: top;\n",
       "    }\n",
       "\n",
       "    .dataframe thead th {\n",
       "        text-align: right;\n",
       "    }\n",
       "</style>\n",
       "<table border=\"1\" class=\"dataframe\">\n",
       "  <thead>\n",
       "    <tr style=\"text-align: right;\">\n",
       "      <th></th>\n",
       "      <th>brand</th>\n",
       "      <th>color</th>\n",
       "      <th>id</th>\n",
       "      <th>brand2</th>\n",
       "      <th>id2</th>\n",
       "    </tr>\n",
       "  </thead>\n",
       "  <tbody>\n",
       "    <tr>\n",
       "      <th>0</th>\n",
       "      <td>OMG</td>\n",
       "      <td>white</td>\n",
       "      <td>ball</td>\n",
       "      <td>OMG</td>\n",
       "      <td>pencil</td>\n",
       "    </tr>\n",
       "    <tr>\n",
       "      <th>1</th>\n",
       "      <td>ABC</td>\n",
       "      <td>red</td>\n",
       "      <td>pencil</td>\n",
       "      <td>POD</td>\n",
       "      <td>pencil</td>\n",
       "    </tr>\n",
       "    <tr>\n",
       "      <th>2</th>\n",
       "      <td>ABC</td>\n",
       "      <td>red</td>\n",
       "      <td>pen</td>\n",
       "      <td>ABC</td>\n",
       "      <td>ball</td>\n",
       "    </tr>\n",
       "    <tr>\n",
       "      <th>3</th>\n",
       "      <td>POD</td>\n",
       "      <td>black</td>\n",
       "      <td>mug</td>\n",
       "      <td>POD</td>\n",
       "      <td>pen</td>\n",
       "    </tr>\n",
       "    <tr>\n",
       "      <th>4</th>\n",
       "      <td>POD</td>\n",
       "      <td>green</td>\n",
       "      <td>ashtray</td>\n",
       "      <td>NaN</td>\n",
       "      <td>NaN</td>\n",
       "    </tr>\n",
       "  </tbody>\n",
       "</table>\n",
       "</div>"
      ],
      "text/plain": [
       "  brand  color       id brand2     id2\n",
       "0   OMG  white     ball    OMG  pencil\n",
       "1   ABC    red   pencil    POD  pencil\n",
       "2   ABC    red      pen    ABC    ball\n",
       "3   POD  black      mug    POD     pen\n",
       "4   POD  green  ashtray    NaN     NaN"
      ]
     },
     "execution_count": 61,
     "metadata": {},
     "output_type": "execute_result"
    }
   ],
   "source": [
    "frame1.join(frame2)"
   ]
  },
  {
   "cell_type": "markdown",
   "id": "a89271a6-8aa6-4bdd-9ce9-c1560e3f4ffa",
   "metadata": {},
   "source": [
    "### Concatinating:\n",
    "Another type of Data combination is referred as __Concatenation__. NumPy provides a __concatenate()__ function to do this kind of operation with arrays."
   ]
  },
  {
   "cell_type": "code",
   "execution_count": 63,
   "id": "ff307373-903a-49f9-af7f-0a2a6a9dd7c9",
   "metadata": {},
   "outputs": [],
   "source": [
    "import numpy as np"
   ]
  },
  {
   "cell_type": "code",
   "execution_count": 65,
   "id": "4ebd67ca-2bd9-4884-94f4-958bddfe33df",
   "metadata": {},
   "outputs": [],
   "source": [
    "array1 = np.array([[0,1,2],[3,4,5],[6,7,8]])"
   ]
  },
  {
   "cell_type": "code",
   "execution_count": 66,
   "id": "545607c3-4fc6-458d-a056-aef42f901006",
   "metadata": {},
   "outputs": [
    {
     "data": {
      "text/plain": [
       "array([[0, 1, 2],\n",
       "       [3, 4, 5],\n",
       "       [6, 7, 8]])"
      ]
     },
     "execution_count": 66,
     "metadata": {},
     "output_type": "execute_result"
    }
   ],
   "source": [
    "array1"
   ]
  },
  {
   "cell_type": "code",
   "execution_count": 67,
   "id": "f4b6f5ac-8951-4ee6-b9f2-76f829c53158",
   "metadata": {},
   "outputs": [],
   "source": [
    "array2 = np.arange(9).reshape((3,3))+6"
   ]
  },
  {
   "cell_type": "code",
   "execution_count": 68,
   "id": "2fae20fb-5226-4fbf-b5b2-524c59aac381",
   "metadata": {},
   "outputs": [
    {
     "data": {
      "text/plain": [
       "array([[ 6,  7,  8],\n",
       "       [ 9, 10, 11],\n",
       "       [12, 13, 14]])"
      ]
     },
     "execution_count": 68,
     "metadata": {},
     "output_type": "execute_result"
    }
   ],
   "source": [
    "array2"
   ]
  },
  {
   "cell_type": "code",
   "execution_count": 69,
   "id": "b2041424-367d-4067-9fa6-0c8913fa887a",
   "metadata": {},
   "outputs": [
    {
     "data": {
      "text/plain": [
       "array([[ 0,  1,  2,  6,  7,  8],\n",
       "       [ 3,  4,  5,  9, 10, 11],\n",
       "       [ 6,  7,  8, 12, 13, 14]])"
      ]
     },
     "execution_count": 69,
     "metadata": {},
     "output_type": "execute_result"
    }
   ],
   "source": [
    "np.concatenate([array1, array2], axis=1) # horizontal"
   ]
  },
  {
   "cell_type": "code",
   "execution_count": 70,
   "id": "eae46ced-b31b-4145-9a54-c8ffe09ae82f",
   "metadata": {},
   "outputs": [
    {
     "data": {
      "text/plain": [
       "array([[ 0,  1,  2],\n",
       "       [ 3,  4,  5],\n",
       "       [ 6,  7,  8],\n",
       "       [ 6,  7,  8],\n",
       "       [ 9, 10, 11],\n",
       "       [12, 13, 14]])"
      ]
     },
     "execution_count": 70,
     "metadata": {},
     "output_type": "execute_result"
    }
   ],
   "source": [
    "np.concatenate([array1,array2], axis=0) # vertical"
   ]
  },
  {
   "cell_type": "markdown",
   "id": "c5b12164-dc21-4df5-872d-aed2252ab3d0",
   "metadata": {},
   "source": [
    "As regards the pandas liberary and its data structures like Series, and DataFrame, the fact of having labeled axes allows you to further generalize the concatenation of arrays. The __concat()__ function is provided by pandas for this kind of operations.  "
   ]
  },
  {
   "cell_type": "code",
   "execution_count": 74,
   "id": "dcde5e61-987b-4903-9a72-7832bfd0be6a",
   "metadata": {},
   "outputs": [],
   "source": [
    "ser1 = pd.Series(np.random.rand(4), index=[1,2,3,4])\n",
    "ser2 = pd.Series(np.random.rand(4), index=[5,6,7,8])"
   ]
  },
  {
   "cell_type": "code",
   "execution_count": 75,
   "id": "c4f95cb4-9dea-46a8-bcb6-47396d0dca7d",
   "metadata": {},
   "outputs": [
    {
     "data": {
      "text/plain": [
       "1    0.595462\n",
       "2    0.387115\n",
       "3    0.816738\n",
       "4    0.697786\n",
       "dtype: float64"
      ]
     },
     "execution_count": 75,
     "metadata": {},
     "output_type": "execute_result"
    }
   ],
   "source": [
    "ser1"
   ]
  },
  {
   "cell_type": "code",
   "execution_count": 76,
   "id": "4a5cd252-f08a-459f-97fa-f59132558895",
   "metadata": {},
   "outputs": [
    {
     "data": {
      "text/plain": [
       "5    0.246560\n",
       "6    0.378661\n",
       "7    0.431663\n",
       "8    0.416904\n",
       "dtype: float64"
      ]
     },
     "execution_count": 76,
     "metadata": {},
     "output_type": "execute_result"
    }
   ],
   "source": [
    "ser2"
   ]
  },
  {
   "cell_type": "code",
   "execution_count": 82,
   "id": "dc2fbe51-6640-43eb-be8a-2dde5414fee8",
   "metadata": {},
   "outputs": [
    {
     "data": {
      "text/plain": [
       "1    0.595462\n",
       "2    0.387115\n",
       "3    0.816738\n",
       "4    0.697786\n",
       "5    0.246560\n",
       "6    0.378661\n",
       "7    0.431663\n",
       "8    0.416904\n",
       "dtype: float64"
      ]
     },
     "execution_count": 82,
     "metadata": {},
     "output_type": "execute_result"
    }
   ],
   "source": [
    "pd.concat([ser1,ser2])"
   ]
  },
  {
   "cell_type": "markdown",
   "id": "0e86e2f1-7d6d-46e0-9ba3-d64a61ba5108",
   "metadata": {},
   "source": [
    "By default, the concat() function works on axis=0, having as returned object a Series.If you set the axis=1, then the result will be a DataFram"
   ]
  },
  {
   "cell_type": "code",
   "execution_count": 83,
   "id": "9d4ee129-af6f-4268-918b-1a8c6b69189a",
   "metadata": {},
   "outputs": [
    {
     "data": {
      "text/html": [
       "<div>\n",
       "<style scoped>\n",
       "    .dataframe tbody tr th:only-of-type {\n",
       "        vertical-align: middle;\n",
       "    }\n",
       "\n",
       "    .dataframe tbody tr th {\n",
       "        vertical-align: top;\n",
       "    }\n",
       "\n",
       "    .dataframe thead th {\n",
       "        text-align: right;\n",
       "    }\n",
       "</style>\n",
       "<table border=\"1\" class=\"dataframe\">\n",
       "  <thead>\n",
       "    <tr style=\"text-align: right;\">\n",
       "      <th></th>\n",
       "      <th>0</th>\n",
       "      <th>1</th>\n",
       "    </tr>\n",
       "  </thead>\n",
       "  <tbody>\n",
       "    <tr>\n",
       "      <th>1</th>\n",
       "      <td>0.595462</td>\n",
       "      <td>NaN</td>\n",
       "    </tr>\n",
       "    <tr>\n",
       "      <th>2</th>\n",
       "      <td>0.387115</td>\n",
       "      <td>NaN</td>\n",
       "    </tr>\n",
       "    <tr>\n",
       "      <th>3</th>\n",
       "      <td>0.816738</td>\n",
       "      <td>NaN</td>\n",
       "    </tr>\n",
       "    <tr>\n",
       "      <th>4</th>\n",
       "      <td>0.697786</td>\n",
       "      <td>NaN</td>\n",
       "    </tr>\n",
       "    <tr>\n",
       "      <th>5</th>\n",
       "      <td>NaN</td>\n",
       "      <td>0.246560</td>\n",
       "    </tr>\n",
       "    <tr>\n",
       "      <th>6</th>\n",
       "      <td>NaN</td>\n",
       "      <td>0.378661</td>\n",
       "    </tr>\n",
       "    <tr>\n",
       "      <th>7</th>\n",
       "      <td>NaN</td>\n",
       "      <td>0.431663</td>\n",
       "    </tr>\n",
       "    <tr>\n",
       "      <th>8</th>\n",
       "      <td>NaN</td>\n",
       "      <td>0.416904</td>\n",
       "    </tr>\n",
       "  </tbody>\n",
       "</table>\n",
       "</div>"
      ],
      "text/plain": [
       "          0         1\n",
       "1  0.595462       NaN\n",
       "2  0.387115       NaN\n",
       "3  0.816738       NaN\n",
       "4  0.697786       NaN\n",
       "5       NaN  0.246560\n",
       "6       NaN  0.378661\n",
       "7       NaN  0.431663\n",
       "8       NaN  0.416904"
      ]
     },
     "execution_count": 83,
     "metadata": {},
     "output_type": "execute_result"
    }
   ],
   "source": [
    "pd.concat([ser1,ser2], axis=1)"
   ]
  },
  {
   "cell_type": "markdown",
   "id": "954b92a6-e003-4e9c-8914-0eee7c8970a4",
   "metadata": {},
   "source": [
    "From the result you can see that there is no overlap of data, therefore what you have just done is an __outer__ join. This can be changed by setting the __join__ option to __inner__"
   ]
  },
  {
   "cell_type": "code",
   "execution_count": 86,
   "id": "f7231e11-022f-47ef-aa76-95eabfd1ce22",
   "metadata": {},
   "outputs": [
    {
     "data": {
      "text/html": [
       "<div>\n",
       "<style scoped>\n",
       "    .dataframe tbody tr th:only-of-type {\n",
       "        vertical-align: middle;\n",
       "    }\n",
       "\n",
       "    .dataframe tbody tr th {\n",
       "        vertical-align: top;\n",
       "    }\n",
       "\n",
       "    .dataframe thead th {\n",
       "        text-align: right;\n",
       "    }\n",
       "</style>\n",
       "<table border=\"1\" class=\"dataframe\">\n",
       "  <thead>\n",
       "    <tr style=\"text-align: right;\">\n",
       "      <th></th>\n",
       "      <th>1</th>\n",
       "      <th>2</th>\n",
       "    </tr>\n",
       "  </thead>\n",
       "  <tbody>\n",
       "    <tr>\n",
       "      <th>1</th>\n",
       "      <td>0.595462</td>\n",
       "      <td>NaN</td>\n",
       "    </tr>\n",
       "    <tr>\n",
       "      <th>2</th>\n",
       "      <td>0.387115</td>\n",
       "      <td>NaN</td>\n",
       "    </tr>\n",
       "    <tr>\n",
       "      <th>3</th>\n",
       "      <td>0.816738</td>\n",
       "      <td>NaN</td>\n",
       "    </tr>\n",
       "    <tr>\n",
       "      <th>4</th>\n",
       "      <td>0.697786</td>\n",
       "      <td>NaN</td>\n",
       "    </tr>\n",
       "    <tr>\n",
       "      <th>5</th>\n",
       "      <td>NaN</td>\n",
       "      <td>0.246560</td>\n",
       "    </tr>\n",
       "    <tr>\n",
       "      <th>6</th>\n",
       "      <td>NaN</td>\n",
       "      <td>0.378661</td>\n",
       "    </tr>\n",
       "    <tr>\n",
       "      <th>7</th>\n",
       "      <td>NaN</td>\n",
       "      <td>0.431663</td>\n",
       "    </tr>\n",
       "    <tr>\n",
       "      <th>8</th>\n",
       "      <td>NaN</td>\n",
       "      <td>0.416904</td>\n",
       "    </tr>\n",
       "  </tbody>\n",
       "</table>\n",
       "</div>"
      ],
      "text/plain": [
       "          1         2\n",
       "1  0.595462       NaN\n",
       "2  0.387115       NaN\n",
       "3  0.816738       NaN\n",
       "4  0.697786       NaN\n",
       "5       NaN  0.246560\n",
       "6       NaN  0.378661\n",
       "7       NaN  0.431663\n",
       "8       NaN  0.416904"
      ]
     },
     "execution_count": 86,
     "metadata": {},
     "output_type": "execute_result"
    }
   ],
   "source": [
    "pd.concat([ser1,ser2], axis=1, keys=[1,2])"
   ]
  },
  {
   "cell_type": "markdown",
   "id": "534ead2f-b98b-461f-a0fb-d4b547b3b530",
   "metadata": {},
   "source": [
    "In the case of combination between Series along the axis=1 the keys become the column headers of the DataFrame  like the cell above."
   ]
  },
  {
   "cell_type": "markdown",
   "id": "ead2a783-7d3a-4642-832d-cc68f7b3e0a3",
   "metadata": {},
   "source": [
    "So far you have seen the concatenation applied to the Series, but the same logic can be applied to the DataFrame."
   ]
  },
  {
   "cell_type": "code",
   "execution_count": 87,
   "id": "a97a7835-3b59-4888-85da-4bb9b7b5b055",
   "metadata": {},
   "outputs": [],
   "source": [
    "frame1 = pd.DataFrame(np.random.rand(9).reshape(3,3), index=[1,2,3], \n",
    "                      columns=['A', 'B', 'C'] )"
   ]
  },
  {
   "cell_type": "code",
   "execution_count": 89,
   "id": "dab6b12f-389c-4389-b2a5-5d40451bedf5",
   "metadata": {},
   "outputs": [],
   "source": [
    "frame2 = pd.DataFrame(np.random.rand(9).reshape(3,3),index=[4,5,6],\n",
    "                     columns=['A','B','C'])"
   ]
  },
  {
   "cell_type": "code",
   "execution_count": 90,
   "id": "cd97e0dd-1e72-44c3-88c7-2222f88e7719",
   "metadata": {},
   "outputs": [
    {
     "data": {
      "text/html": [
       "<div>\n",
       "<style scoped>\n",
       "    .dataframe tbody tr th:only-of-type {\n",
       "        vertical-align: middle;\n",
       "    }\n",
       "\n",
       "    .dataframe tbody tr th {\n",
       "        vertical-align: top;\n",
       "    }\n",
       "\n",
       "    .dataframe thead th {\n",
       "        text-align: right;\n",
       "    }\n",
       "</style>\n",
       "<table border=\"1\" class=\"dataframe\">\n",
       "  <thead>\n",
       "    <tr style=\"text-align: right;\">\n",
       "      <th></th>\n",
       "      <th>A</th>\n",
       "      <th>B</th>\n",
       "      <th>C</th>\n",
       "    </tr>\n",
       "  </thead>\n",
       "  <tbody>\n",
       "    <tr>\n",
       "      <th>1</th>\n",
       "      <td>0.261383</td>\n",
       "      <td>0.465485</td>\n",
       "      <td>0.668583</td>\n",
       "    </tr>\n",
       "    <tr>\n",
       "      <th>2</th>\n",
       "      <td>0.740957</td>\n",
       "      <td>0.319309</td>\n",
       "      <td>0.729763</td>\n",
       "    </tr>\n",
       "    <tr>\n",
       "      <th>3</th>\n",
       "      <td>0.627557</td>\n",
       "      <td>0.846950</td>\n",
       "      <td>0.432960</td>\n",
       "    </tr>\n",
       "  </tbody>\n",
       "</table>\n",
       "</div>"
      ],
      "text/plain": [
       "          A         B         C\n",
       "1  0.261383  0.465485  0.668583\n",
       "2  0.740957  0.319309  0.729763\n",
       "3  0.627557  0.846950  0.432960"
      ]
     },
     "execution_count": 90,
     "metadata": {},
     "output_type": "execute_result"
    }
   ],
   "source": [
    "frame1"
   ]
  },
  {
   "cell_type": "code",
   "execution_count": 91,
   "id": "5ee9d1b8-3a79-49e7-9c8e-6e57530c8d9b",
   "metadata": {},
   "outputs": [
    {
     "data": {
      "text/html": [
       "<div>\n",
       "<style scoped>\n",
       "    .dataframe tbody tr th:only-of-type {\n",
       "        vertical-align: middle;\n",
       "    }\n",
       "\n",
       "    .dataframe tbody tr th {\n",
       "        vertical-align: top;\n",
       "    }\n",
       "\n",
       "    .dataframe thead th {\n",
       "        text-align: right;\n",
       "    }\n",
       "</style>\n",
       "<table border=\"1\" class=\"dataframe\">\n",
       "  <thead>\n",
       "    <tr style=\"text-align: right;\">\n",
       "      <th></th>\n",
       "      <th>A</th>\n",
       "      <th>B</th>\n",
       "      <th>C</th>\n",
       "    </tr>\n",
       "  </thead>\n",
       "  <tbody>\n",
       "    <tr>\n",
       "      <th>4</th>\n",
       "      <td>0.856311</td>\n",
       "      <td>0.383396</td>\n",
       "      <td>0.417120</td>\n",
       "    </tr>\n",
       "    <tr>\n",
       "      <th>5</th>\n",
       "      <td>0.839470</td>\n",
       "      <td>0.418393</td>\n",
       "      <td>0.170149</td>\n",
       "    </tr>\n",
       "    <tr>\n",
       "      <th>6</th>\n",
       "      <td>0.971571</td>\n",
       "      <td>0.928921</td>\n",
       "      <td>0.086505</td>\n",
       "    </tr>\n",
       "  </tbody>\n",
       "</table>\n",
       "</div>"
      ],
      "text/plain": [
       "          A         B         C\n",
       "4  0.856311  0.383396  0.417120\n",
       "5  0.839470  0.418393  0.170149\n",
       "6  0.971571  0.928921  0.086505"
      ]
     },
     "execution_count": 91,
     "metadata": {},
     "output_type": "execute_result"
    }
   ],
   "source": [
    "frame2"
   ]
  },
  {
   "cell_type": "code",
   "execution_count": 95,
   "id": "2515ec9c-9f40-44f5-b468-21698858687c",
   "metadata": {},
   "outputs": [
    {
     "data": {
      "text/html": [
       "<div>\n",
       "<style scoped>\n",
       "    .dataframe tbody tr th:only-of-type {\n",
       "        vertical-align: middle;\n",
       "    }\n",
       "\n",
       "    .dataframe tbody tr th {\n",
       "        vertical-align: top;\n",
       "    }\n",
       "\n",
       "    .dataframe thead th {\n",
       "        text-align: right;\n",
       "    }\n",
       "</style>\n",
       "<table border=\"1\" class=\"dataframe\">\n",
       "  <thead>\n",
       "    <tr style=\"text-align: right;\">\n",
       "      <th></th>\n",
       "      <th>A</th>\n",
       "      <th>B</th>\n",
       "      <th>C</th>\n",
       "    </tr>\n",
       "  </thead>\n",
       "  <tbody>\n",
       "    <tr>\n",
       "      <th>1</th>\n",
       "      <td>0.261383</td>\n",
       "      <td>0.465485</td>\n",
       "      <td>0.668583</td>\n",
       "    </tr>\n",
       "    <tr>\n",
       "      <th>2</th>\n",
       "      <td>0.740957</td>\n",
       "      <td>0.319309</td>\n",
       "      <td>0.729763</td>\n",
       "    </tr>\n",
       "    <tr>\n",
       "      <th>3</th>\n",
       "      <td>0.627557</td>\n",
       "      <td>0.846950</td>\n",
       "      <td>0.432960</td>\n",
       "    </tr>\n",
       "    <tr>\n",
       "      <th>4</th>\n",
       "      <td>0.856311</td>\n",
       "      <td>0.383396</td>\n",
       "      <td>0.417120</td>\n",
       "    </tr>\n",
       "    <tr>\n",
       "      <th>5</th>\n",
       "      <td>0.839470</td>\n",
       "      <td>0.418393</td>\n",
       "      <td>0.170149</td>\n",
       "    </tr>\n",
       "    <tr>\n",
       "      <th>6</th>\n",
       "      <td>0.971571</td>\n",
       "      <td>0.928921</td>\n",
       "      <td>0.086505</td>\n",
       "    </tr>\n",
       "  </tbody>\n",
       "</table>\n",
       "</div>"
      ],
      "text/plain": [
       "          A         B         C\n",
       "1  0.261383  0.465485  0.668583\n",
       "2  0.740957  0.319309  0.729763\n",
       "3  0.627557  0.846950  0.432960\n",
       "4  0.856311  0.383396  0.417120\n",
       "5  0.839470  0.418393  0.170149\n",
       "6  0.971571  0.928921  0.086505"
      ]
     },
     "execution_count": 95,
     "metadata": {},
     "output_type": "execute_result"
    }
   ],
   "source": [
    "pd.concat([frame1, frame2]) # vertical"
   ]
  },
  {
   "cell_type": "code",
   "execution_count": 97,
   "id": "fb829812-b705-4088-8280-041358f910d5",
   "metadata": {},
   "outputs": [
    {
     "data": {
      "text/html": [
       "<div>\n",
       "<style scoped>\n",
       "    .dataframe tbody tr th:only-of-type {\n",
       "        vertical-align: middle;\n",
       "    }\n",
       "\n",
       "    .dataframe tbody tr th {\n",
       "        vertical-align: top;\n",
       "    }\n",
       "\n",
       "    .dataframe thead th {\n",
       "        text-align: right;\n",
       "    }\n",
       "</style>\n",
       "<table border=\"1\" class=\"dataframe\">\n",
       "  <thead>\n",
       "    <tr style=\"text-align: right;\">\n",
       "      <th></th>\n",
       "      <th>A</th>\n",
       "      <th>B</th>\n",
       "      <th>C</th>\n",
       "      <th>A</th>\n",
       "      <th>B</th>\n",
       "      <th>C</th>\n",
       "    </tr>\n",
       "  </thead>\n",
       "  <tbody>\n",
       "    <tr>\n",
       "      <th>1</th>\n",
       "      <td>0.261383</td>\n",
       "      <td>0.465485</td>\n",
       "      <td>0.668583</td>\n",
       "      <td>NaN</td>\n",
       "      <td>NaN</td>\n",
       "      <td>NaN</td>\n",
       "    </tr>\n",
       "    <tr>\n",
       "      <th>2</th>\n",
       "      <td>0.740957</td>\n",
       "      <td>0.319309</td>\n",
       "      <td>0.729763</td>\n",
       "      <td>NaN</td>\n",
       "      <td>NaN</td>\n",
       "      <td>NaN</td>\n",
       "    </tr>\n",
       "    <tr>\n",
       "      <th>3</th>\n",
       "      <td>0.627557</td>\n",
       "      <td>0.846950</td>\n",
       "      <td>0.432960</td>\n",
       "      <td>NaN</td>\n",
       "      <td>NaN</td>\n",
       "      <td>NaN</td>\n",
       "    </tr>\n",
       "    <tr>\n",
       "      <th>4</th>\n",
       "      <td>NaN</td>\n",
       "      <td>NaN</td>\n",
       "      <td>NaN</td>\n",
       "      <td>0.856311</td>\n",
       "      <td>0.383396</td>\n",
       "      <td>0.417120</td>\n",
       "    </tr>\n",
       "    <tr>\n",
       "      <th>5</th>\n",
       "      <td>NaN</td>\n",
       "      <td>NaN</td>\n",
       "      <td>NaN</td>\n",
       "      <td>0.839470</td>\n",
       "      <td>0.418393</td>\n",
       "      <td>0.170149</td>\n",
       "    </tr>\n",
       "    <tr>\n",
       "      <th>6</th>\n",
       "      <td>NaN</td>\n",
       "      <td>NaN</td>\n",
       "      <td>NaN</td>\n",
       "      <td>0.971571</td>\n",
       "      <td>0.928921</td>\n",
       "      <td>0.086505</td>\n",
       "    </tr>\n",
       "  </tbody>\n",
       "</table>\n",
       "</div>"
      ],
      "text/plain": [
       "          A         B         C         A         B         C\n",
       "1  0.261383  0.465485  0.668583       NaN       NaN       NaN\n",
       "2  0.740957  0.319309  0.729763       NaN       NaN       NaN\n",
       "3  0.627557  0.846950  0.432960       NaN       NaN       NaN\n",
       "4       NaN       NaN       NaN  0.856311  0.383396  0.417120\n",
       "5       NaN       NaN       NaN  0.839470  0.418393  0.170149\n",
       "6       NaN       NaN       NaN  0.971571  0.928921  0.086505"
      ]
     },
     "execution_count": 97,
     "metadata": {},
     "output_type": "execute_result"
    }
   ],
   "source": [
    "pd.concat([frame1,frame2], axis=1) # horizontal"
   ]
  },
  {
   "cell_type": "markdown",
   "id": "94d01bb1-312b-41d2-b65b-462c406a7d9f",
   "metadata": {},
   "source": [
    "### Combining\n",
    "There is another situation in which there is combination of data that can not be obtained either with merging or with concatenation. Take the case in which you want two datasets to have indexes that overlap in their entirety or at least partially.  \n",
    "One applicable function to Series is __combine_first()__, function which performs this kind of operation along with an data alignment."
   ]
  },
  {
   "cell_type": "code",
   "execution_count": 98,
   "id": "dbcb9fc5-5523-467c-8392-d57d92a30391",
   "metadata": {},
   "outputs": [],
   "source": [
    "ser1 = pd.Series(np.random.rand(5),index=[1,2,3,4,5])"
   ]
  },
  {
   "cell_type": "code",
   "execution_count": 99,
   "id": "c4b81b65-87b6-4d7b-bbbe-1f1e0160ef6b",
   "metadata": {},
   "outputs": [],
   "source": [
    "ser2 = pd.Series(np.random.rand(4),index=[2,4,5,6])"
   ]
  },
  {
   "cell_type": "code",
   "execution_count": 100,
   "id": "d8352e29-3dfc-41c0-94aa-ebe6ef86973e",
   "metadata": {},
   "outputs": [
    {
     "data": {
      "text/plain": [
       "1    0.798706\n",
       "2    0.014931\n",
       "3    0.212070\n",
       "4    0.178498\n",
       "5    0.851400\n",
       "dtype: float64"
      ]
     },
     "execution_count": 100,
     "metadata": {},
     "output_type": "execute_result"
    }
   ],
   "source": [
    "ser1"
   ]
  },
  {
   "cell_type": "code",
   "execution_count": 101,
   "id": "f59eb541-a27f-4643-b597-b3d7339dcf3c",
   "metadata": {},
   "outputs": [
    {
     "data": {
      "text/plain": [
       "2    0.166745\n",
       "4    0.606091\n",
       "5    0.803013\n",
       "6    0.751883\n",
       "dtype: float64"
      ]
     },
     "execution_count": 101,
     "metadata": {},
     "output_type": "execute_result"
    }
   ],
   "source": [
    "ser2"
   ]
  },
  {
   "cell_type": "code",
   "execution_count": 102,
   "id": "f94cdf5c-262e-4580-96a8-54d29b169179",
   "metadata": {},
   "outputs": [
    {
     "data": {
      "text/plain": [
       "1    0.798706\n",
       "2    0.014931\n",
       "3    0.212070\n",
       "4    0.178498\n",
       "5    0.851400\n",
       "6    0.751883\n",
       "dtype: float64"
      ]
     },
     "execution_count": 102,
     "metadata": {},
     "output_type": "execute_result"
    }
   ],
   "source": [
    "ser1.combine_first(ser2)"
   ]
  },
  {
   "cell_type": "code",
   "execution_count": 103,
   "id": "c5e66ef7-d067-4d3a-8706-cfcfbbc6d3b8",
   "metadata": {},
   "outputs": [
    {
     "data": {
      "text/plain": [
       "1    0.798706\n",
       "2    0.166745\n",
       "3    0.212070\n",
       "4    0.606091\n",
       "5    0.803013\n",
       "6    0.751883\n",
       "dtype: float64"
      ]
     },
     "execution_count": 103,
     "metadata": {},
     "output_type": "execute_result"
    }
   ],
   "source": [
    "ser2.combine_first(ser1)"
   ]
  },
  {
   "cell_type": "markdown",
   "id": "5d263cc6-4775-4502-a1c5-b71c77b8a13d",
   "metadata": {},
   "source": [
    "Here the function combined the both Series and compensate each index by its corresponding value based on the (index) parameters given in the creation code line ...   "
   ]
  },
  {
   "cell_type": "markdown",
   "id": "a0de0cfe-c019-45cb-aaba-473a5323970c",
   "metadata": {},
   "source": [
    "Instead, if you want a partial overlap, you can specify only the portion of the Series you want to overlap.   "
   ]
  },
  {
   "cell_type": "code",
   "execution_count": 104,
   "id": "4235973b-037a-4004-8dbe-92cb3fd2dd57",
   "metadata": {},
   "outputs": [
    {
     "data": {
      "text/plain": [
       "1    0.798706\n",
       "2    0.014931\n",
       "3    0.212070\n",
       "4    0.606091\n",
       "5    0.803013\n",
       "dtype: float64"
      ]
     },
     "execution_count": 104,
     "metadata": {},
     "output_type": "execute_result"
    }
   ],
   "source": [
    "ser1[:3].combine_first(ser2[:3])"
   ]
  },
  {
   "cell_type": "markdown",
   "id": "1f942aa8-0bf5-4111-bd11-2f8c47eac0c9",
   "metadata": {},
   "source": [
    "### Pivoting\n",
    "In addittion to assembling data in order to unify the values collecting from different sources, another fairly common operation is __pivoting__.   \n",
    "In fact, arrangement of the values by row or by column is not always suited to your goals.   \n",
    "Sometimes you would like to rearrange the data carrying column values on rows or vice versa.  \n",
    "### Pivoting with Hierarical Indexing:\n",
    "You have already seen that DataFrame can support hierarical indexing. This feature can be exploited to rearrange the data in DataFrame. In the context of pivoting you have two basic operations.   \n",
    "  • stacking: columns to rows  \n",
    "  • unstacking: rows to columns"
   ]
  },
  {
   "cell_type": "code",
   "execution_count": 105,
   "id": "3490d4ef-1d6c-4fe0-a846-73a3b8ac18d8",
   "metadata": {},
   "outputs": [],
   "source": [
    "import os "
   ]
  },
  {
   "cell_type": "code",
   "execution_count": 107,
   "id": "bff2acb4-8530-4e37-ad8e-30d3a4aad5e4",
   "metadata": {},
   "outputs": [],
   "source": [
    "from pandas import ExcelWriter"
   ]
  },
  {
   "cell_type": "code",
   "execution_count": 109,
   "id": "c20e085e-c5ce-4f53-87fa-9f7228596acc",
   "metadata": {},
   "outputs": [],
   "source": [
    "import seaborn as sns"
   ]
  },
  {
   "cell_type": "code",
   "execution_count": 120,
   "id": "5fbb160b-2095-4ca8-b924-58ee1e7cb01f",
   "metadata": {},
   "outputs": [
    {
     "data": {
      "text/plain": [
       "True"
      ]
     },
     "execution_count": 120,
     "metadata": {},
     "output_type": "execute_result"
    }
   ],
   "source": [
    "os.path.isfile('worldcities.csv')"
   ]
  },
  {
   "cell_type": "code",
   "execution_count": 123,
   "id": "20ba37dc-e44a-482a-b7df-dc76f3249b16",
   "metadata": {},
   "outputs": [],
   "source": [
    "my_file = pd.read_csv('worldcities.csv')"
   ]
  },
  {
   "cell_type": "code",
   "execution_count": 124,
   "id": "2c6a5e5d-4edc-45de-a5a4-013de2118a97",
   "metadata": {},
   "outputs": [
    {
     "data": {
      "text/html": [
       "<div>\n",
       "<style scoped>\n",
       "    .dataframe tbody tr th:only-of-type {\n",
       "        vertical-align: middle;\n",
       "    }\n",
       "\n",
       "    .dataframe tbody tr th {\n",
       "        vertical-align: top;\n",
       "    }\n",
       "\n",
       "    .dataframe thead th {\n",
       "        text-align: right;\n",
       "    }\n",
       "</style>\n",
       "<table border=\"1\" class=\"dataframe\">\n",
       "  <thead>\n",
       "    <tr style=\"text-align: right;\">\n",
       "      <th></th>\n",
       "      <th>City</th>\n",
       "      <th>Country</th>\n",
       "    </tr>\n",
       "  </thead>\n",
       "  <tbody>\n",
       "    <tr>\n",
       "      <th>0</th>\n",
       "      <td>Rovaniemi</td>\n",
       "      <td>Finland</td>\n",
       "    </tr>\n",
       "    <tr>\n",
       "      <th>1</th>\n",
       "      <td>Steinkjer</td>\n",
       "      <td>Norway</td>\n",
       "    </tr>\n",
       "    <tr>\n",
       "      <th>2</th>\n",
       "      <td>Monterey</td>\n",
       "      <td>United States of America</td>\n",
       "    </tr>\n",
       "    <tr>\n",
       "      <th>3</th>\n",
       "      <td>Kuta</td>\n",
       "      <td>Indonesia</td>\n",
       "    </tr>\n",
       "    <tr>\n",
       "      <th>4</th>\n",
       "      <td>Lovec</td>\n",
       "      <td>Bulgaria</td>\n",
       "    </tr>\n",
       "    <tr>\n",
       "      <th>...</th>\n",
       "      <td>...</td>\n",
       "      <td>...</td>\n",
       "    </tr>\n",
       "    <tr>\n",
       "      <th>7317</th>\n",
       "      <td>De Aar</td>\n",
       "      <td>South Africa</td>\n",
       "    </tr>\n",
       "    <tr>\n",
       "      <th>7318</th>\n",
       "      <td>Kamensk Shakhtinskiy</td>\n",
       "      <td>Russia</td>\n",
       "    </tr>\n",
       "    <tr>\n",
       "      <th>7319</th>\n",
       "      <td>Sinop</td>\n",
       "      <td>Turkey</td>\n",
       "    </tr>\n",
       "    <tr>\n",
       "      <th>7320</th>\n",
       "      <td>Tirupati</td>\n",
       "      <td>India</td>\n",
       "    </tr>\n",
       "    <tr>\n",
       "      <th>7321</th>\n",
       "      <td>Huangshi</td>\n",
       "      <td>China</td>\n",
       "    </tr>\n",
       "  </tbody>\n",
       "</table>\n",
       "<p>7322 rows × 2 columns</p>\n",
       "</div>"
      ],
      "text/plain": [
       "                      City                   Country\n",
       "0                Rovaniemi                   Finland\n",
       "1                Steinkjer                    Norway\n",
       "2                 Monterey  United States of America\n",
       "3                     Kuta                 Indonesia\n",
       "4                    Lovec                  Bulgaria\n",
       "...                    ...                       ...\n",
       "7317                De Aar              South Africa\n",
       "7318  Kamensk Shakhtinskiy                    Russia\n",
       "7319                 Sinop                    Turkey\n",
       "7320              Tirupati                     India\n",
       "7321              Huangshi                     China\n",
       "\n",
       "[7322 rows x 2 columns]"
      ]
     },
     "execution_count": 124,
     "metadata": {},
     "output_type": "execute_result"
    }
   ],
   "source": [
    "my_file"
   ]
  },
  {
   "cell_type": "code",
   "execution_count": 126,
   "id": "a7f28b70-7ce9-4e5c-ac98-ff6440f4d04b",
   "metadata": {},
   "outputs": [
    {
     "data": {
      "text/plain": [
       "0     City       Rovaniemi\n",
       "      Country      Finland\n",
       "1     City       Steinkjer\n",
       "      Country       Norway\n",
       "2     City        Monterey\n",
       "                   ...    \n",
       "7319  Country       Turkey\n",
       "7320  City        Tirupati\n",
       "      Country        India\n",
       "7321  City        Huangshi\n",
       "      Country        China\n",
       "Length: 14644, dtype: object"
      ]
     },
     "execution_count": 126,
     "metadata": {},
     "output_type": "execute_result"
    }
   ],
   "source": [
    "my_file.stack() #pivoting the columns in rows producing Series"
   ]
  },
  {
   "cell_type": "markdown",
   "id": "32617cb5-e9c1-4663-853d-5fa6ac11d409",
   "metadata": {},
   "source": [
    "From this hierarically indexed series, you can reassemble the DataFrame into a pivoted table by use  __unstack()__ function.   "
   ]
  },
  {
   "cell_type": "code",
   "execution_count": 127,
   "id": "343316d3-ff4f-4126-9498-b980be42579c",
   "metadata": {},
   "outputs": [
    {
     "data": {
      "text/plain": [
       "City     0          Rovaniemi\n",
       "         1          Steinkjer\n",
       "         2           Monterey\n",
       "         3               Kuta\n",
       "         4              Lovec\n",
       "                     ...     \n",
       "Country  7317    South Africa\n",
       "         7318          Russia\n",
       "         7319          Turkey\n",
       "         7320           India\n",
       "         7321           China\n",
       "Length: 14644, dtype: object"
      ]
     },
     "execution_count": 127,
     "metadata": {},
     "output_type": "execute_result"
    }
   ],
   "source": [
    "my_file.unstack() "
   ]
  },
  {
   "cell_type": "markdown",
   "id": "b0278d29-cbf0-480b-9dcf-309e13481527",
   "metadata": {},
   "source": [
    "You can also do the unstack on a different level, specifying the number of the levels or its name as the argument of the function.   "
   ]
  },
  {
   "cell_type": "code",
   "execution_count": 130,
   "id": "6b5bf62a-9696-4949-93a7-eef8fe1a9b06",
   "metadata": {},
   "outputs": [
    {
     "data": {
      "text/plain": [
       "City     0          Rovaniemi\n",
       "         1          Steinkjer\n",
       "         2           Monterey\n",
       "         3               Kuta\n",
       "         4              Lovec\n",
       "                     ...     \n",
       "Country  7317    South Africa\n",
       "         7318          Russia\n",
       "         7319          Turkey\n",
       "         7320           India\n",
       "         7321           China\n",
       "Length: 14644, dtype: object"
      ]
     },
     "execution_count": 130,
     "metadata": {},
     "output_type": "execute_result"
    }
   ],
   "source": [
    "my_file.unstack(0)"
   ]
  },
  {
   "cell_type": "markdown",
   "id": "0f03f741-5d70-4f3a-abb5-4267f259aa6c",
   "metadata": {},
   "source": [
    "### Pivoting from \"Long\" to \"Wide\" Format:\n",
    "The most common way to store data sets is produced by the punctual registration of data that will fill a line of the text file, for example, CSV, or a table of a database. This happens especially when you have instrumental readings, calculation results iterated overtime, or the simple manual input of a series of values.  \n",
    "A similar case of these files is for example the logs file, which is filled line by line by accumulating data in it.   \n",
    "\n",
    "The peculiar characteristic of this type of dataset is to have entries on various columns, often duplicated in subsequent lines.   \n",
    "\n",
    "Always remaining in tabular format of data, when you are in such cases you can refer them to as __long__ or __stack__ format.  \n",
    "\n"
   ]
  },
  {
   "cell_type": "code",
   "execution_count": 150,
   "id": "55133440-bd89-4db1-80b1-e848e0597423",
   "metadata": {},
   "outputs": [
    {
     "data": {
      "text/html": [
       "<div>\n",
       "<style scoped>\n",
       "    .dataframe tbody tr th:only-of-type {\n",
       "        vertical-align: middle;\n",
       "    }\n",
       "\n",
       "    .dataframe tbody tr th {\n",
       "        vertical-align: top;\n",
       "    }\n",
       "\n",
       "    .dataframe thead th {\n",
       "        text-align: right;\n",
       "    }\n",
       "</style>\n",
       "<table border=\"1\" class=\"dataframe\">\n",
       "  <thead>\n",
       "    <tr style=\"text-align: right;\">\n",
       "      <th></th>\n",
       "      <th>City</th>\n",
       "      <th>Country</th>\n",
       "    </tr>\n",
       "  </thead>\n",
       "  <tbody>\n",
       "    <tr>\n",
       "      <th>0</th>\n",
       "      <td>Rovaniemi</td>\n",
       "      <td>Finland</td>\n",
       "    </tr>\n",
       "    <tr>\n",
       "      <th>1</th>\n",
       "      <td>Steinkjer</td>\n",
       "      <td>Norway</td>\n",
       "    </tr>\n",
       "    <tr>\n",
       "      <th>2</th>\n",
       "      <td>Monterey</td>\n",
       "      <td>United States of America</td>\n",
       "    </tr>\n",
       "    <tr>\n",
       "      <th>3</th>\n",
       "      <td>Kuta</td>\n",
       "      <td>Indonesia</td>\n",
       "    </tr>\n",
       "    <tr>\n",
       "      <th>4</th>\n",
       "      <td>Lovec</td>\n",
       "      <td>Bulgaria</td>\n",
       "    </tr>\n",
       "    <tr>\n",
       "      <th>...</th>\n",
       "      <td>...</td>\n",
       "      <td>...</td>\n",
       "    </tr>\n",
       "    <tr>\n",
       "      <th>7317</th>\n",
       "      <td>De Aar</td>\n",
       "      <td>South Africa</td>\n",
       "    </tr>\n",
       "    <tr>\n",
       "      <th>7318</th>\n",
       "      <td>Kamensk Shakhtinskiy</td>\n",
       "      <td>Russia</td>\n",
       "    </tr>\n",
       "    <tr>\n",
       "      <th>7319</th>\n",
       "      <td>Sinop</td>\n",
       "      <td>Turkey</td>\n",
       "    </tr>\n",
       "    <tr>\n",
       "      <th>7320</th>\n",
       "      <td>Tirupati</td>\n",
       "      <td>India</td>\n",
       "    </tr>\n",
       "    <tr>\n",
       "      <th>7321</th>\n",
       "      <td>Huangshi</td>\n",
       "      <td>China</td>\n",
       "    </tr>\n",
       "  </tbody>\n",
       "</table>\n",
       "<p>7322 rows × 2 columns</p>\n",
       "</div>"
      ],
      "text/plain": [
       "                      City                   Country\n",
       "0                Rovaniemi                   Finland\n",
       "1                Steinkjer                    Norway\n",
       "2                 Monterey  United States of America\n",
       "3                     Kuta                 Indonesia\n",
       "4                    Lovec                  Bulgaria\n",
       "...                    ...                       ...\n",
       "7317                De Aar              South Africa\n",
       "7318  Kamensk Shakhtinskiy                    Russia\n",
       "7319                 Sinop                    Turkey\n",
       "7320              Tirupati                     India\n",
       "7321              Huangshi                     China\n",
       "\n",
       "[7322 rows x 2 columns]"
      ]
     },
     "execution_count": 150,
     "metadata": {},
     "output_type": "execute_result"
    }
   ],
   "source": [
    "my_file"
   ]
  },
  {
   "cell_type": "code",
   "execution_count": 157,
   "id": "f41d6594-a3d8-4629-8453-b40651d03001",
   "metadata": {},
   "outputs": [],
   "source": [
    "wideframe = my_file.pivot(columns = 'Country')"
   ]
  },
  {
   "cell_type": "code",
   "execution_count": 158,
   "id": "58be7e9b-5d85-4765-9577-2b7dc1aaedea",
   "metadata": {},
   "outputs": [
    {
     "data": {
      "text/html": [
       "<div>\n",
       "<style scoped>\n",
       "    .dataframe tbody tr th:only-of-type {\n",
       "        vertical-align: middle;\n",
       "    }\n",
       "\n",
       "    .dataframe tbody tr th {\n",
       "        vertical-align: top;\n",
       "    }\n",
       "\n",
       "    .dataframe thead tr th {\n",
       "        text-align: left;\n",
       "    }\n",
       "</style>\n",
       "<table border=\"1\" class=\"dataframe\">\n",
       "  <thead>\n",
       "    <tr>\n",
       "      <th></th>\n",
       "      <th colspan=\"21\" halign=\"left\">City</th>\n",
       "    </tr>\n",
       "    <tr>\n",
       "      <th>Country</th>\n",
       "      <th>Afghanistan</th>\n",
       "      <th>Aland</th>\n",
       "      <th>Albania</th>\n",
       "      <th>Algeria</th>\n",
       "      <th>American Samoa</th>\n",
       "      <th>Andorra</th>\n",
       "      <th>Angola</th>\n",
       "      <th>Antarctica</th>\n",
       "      <th>Antigua and Barbuda</th>\n",
       "      <th>Argentina</th>\n",
       "      <th>...</th>\n",
       "      <th>Uruguay</th>\n",
       "      <th>Uzbekistan</th>\n",
       "      <th>Vanuatu</th>\n",
       "      <th>Vatican (Holy Sea)</th>\n",
       "      <th>Venezuela</th>\n",
       "      <th>Vietnam</th>\n",
       "      <th>Western Sahara</th>\n",
       "      <th>Yemen</th>\n",
       "      <th>Zambia</th>\n",
       "      <th>Zimbabwe</th>\n",
       "    </tr>\n",
       "  </thead>\n",
       "  <tbody>\n",
       "    <tr>\n",
       "      <th>0</th>\n",
       "      <td>NaN</td>\n",
       "      <td>NaN</td>\n",
       "      <td>NaN</td>\n",
       "      <td>NaN</td>\n",
       "      <td>NaN</td>\n",
       "      <td>NaN</td>\n",
       "      <td>NaN</td>\n",
       "      <td>NaN</td>\n",
       "      <td>NaN</td>\n",
       "      <td>NaN</td>\n",
       "      <td>...</td>\n",
       "      <td>NaN</td>\n",
       "      <td>NaN</td>\n",
       "      <td>NaN</td>\n",
       "      <td>NaN</td>\n",
       "      <td>NaN</td>\n",
       "      <td>NaN</td>\n",
       "      <td>NaN</td>\n",
       "      <td>NaN</td>\n",
       "      <td>NaN</td>\n",
       "      <td>NaN</td>\n",
       "    </tr>\n",
       "    <tr>\n",
       "      <th>1</th>\n",
       "      <td>NaN</td>\n",
       "      <td>NaN</td>\n",
       "      <td>NaN</td>\n",
       "      <td>NaN</td>\n",
       "      <td>NaN</td>\n",
       "      <td>NaN</td>\n",
       "      <td>NaN</td>\n",
       "      <td>NaN</td>\n",
       "      <td>NaN</td>\n",
       "      <td>NaN</td>\n",
       "      <td>...</td>\n",
       "      <td>NaN</td>\n",
       "      <td>NaN</td>\n",
       "      <td>NaN</td>\n",
       "      <td>NaN</td>\n",
       "      <td>NaN</td>\n",
       "      <td>NaN</td>\n",
       "      <td>NaN</td>\n",
       "      <td>NaN</td>\n",
       "      <td>NaN</td>\n",
       "      <td>NaN</td>\n",
       "    </tr>\n",
       "    <tr>\n",
       "      <th>2</th>\n",
       "      <td>NaN</td>\n",
       "      <td>NaN</td>\n",
       "      <td>NaN</td>\n",
       "      <td>NaN</td>\n",
       "      <td>NaN</td>\n",
       "      <td>NaN</td>\n",
       "      <td>NaN</td>\n",
       "      <td>NaN</td>\n",
       "      <td>NaN</td>\n",
       "      <td>NaN</td>\n",
       "      <td>...</td>\n",
       "      <td>NaN</td>\n",
       "      <td>NaN</td>\n",
       "      <td>NaN</td>\n",
       "      <td>NaN</td>\n",
       "      <td>NaN</td>\n",
       "      <td>NaN</td>\n",
       "      <td>NaN</td>\n",
       "      <td>NaN</td>\n",
       "      <td>NaN</td>\n",
       "      <td>NaN</td>\n",
       "    </tr>\n",
       "    <tr>\n",
       "      <th>3</th>\n",
       "      <td>NaN</td>\n",
       "      <td>NaN</td>\n",
       "      <td>NaN</td>\n",
       "      <td>NaN</td>\n",
       "      <td>NaN</td>\n",
       "      <td>NaN</td>\n",
       "      <td>NaN</td>\n",
       "      <td>NaN</td>\n",
       "      <td>NaN</td>\n",
       "      <td>NaN</td>\n",
       "      <td>...</td>\n",
       "      <td>NaN</td>\n",
       "      <td>NaN</td>\n",
       "      <td>NaN</td>\n",
       "      <td>NaN</td>\n",
       "      <td>NaN</td>\n",
       "      <td>NaN</td>\n",
       "      <td>NaN</td>\n",
       "      <td>NaN</td>\n",
       "      <td>NaN</td>\n",
       "      <td>NaN</td>\n",
       "    </tr>\n",
       "    <tr>\n",
       "      <th>4</th>\n",
       "      <td>NaN</td>\n",
       "      <td>NaN</td>\n",
       "      <td>NaN</td>\n",
       "      <td>NaN</td>\n",
       "      <td>NaN</td>\n",
       "      <td>NaN</td>\n",
       "      <td>NaN</td>\n",
       "      <td>NaN</td>\n",
       "      <td>NaN</td>\n",
       "      <td>NaN</td>\n",
       "      <td>...</td>\n",
       "      <td>NaN</td>\n",
       "      <td>NaN</td>\n",
       "      <td>NaN</td>\n",
       "      <td>NaN</td>\n",
       "      <td>NaN</td>\n",
       "      <td>NaN</td>\n",
       "      <td>NaN</td>\n",
       "      <td>NaN</td>\n",
       "      <td>NaN</td>\n",
       "      <td>NaN</td>\n",
       "    </tr>\n",
       "    <tr>\n",
       "      <th>...</th>\n",
       "      <td>...</td>\n",
       "      <td>...</td>\n",
       "      <td>...</td>\n",
       "      <td>...</td>\n",
       "      <td>...</td>\n",
       "      <td>...</td>\n",
       "      <td>...</td>\n",
       "      <td>...</td>\n",
       "      <td>...</td>\n",
       "      <td>...</td>\n",
       "      <td>...</td>\n",
       "      <td>...</td>\n",
       "      <td>...</td>\n",
       "      <td>...</td>\n",
       "      <td>...</td>\n",
       "      <td>...</td>\n",
       "      <td>...</td>\n",
       "      <td>...</td>\n",
       "      <td>...</td>\n",
       "      <td>...</td>\n",
       "      <td>...</td>\n",
       "    </tr>\n",
       "    <tr>\n",
       "      <th>7317</th>\n",
       "      <td>NaN</td>\n",
       "      <td>NaN</td>\n",
       "      <td>NaN</td>\n",
       "      <td>NaN</td>\n",
       "      <td>NaN</td>\n",
       "      <td>NaN</td>\n",
       "      <td>NaN</td>\n",
       "      <td>NaN</td>\n",
       "      <td>NaN</td>\n",
       "      <td>NaN</td>\n",
       "      <td>...</td>\n",
       "      <td>NaN</td>\n",
       "      <td>NaN</td>\n",
       "      <td>NaN</td>\n",
       "      <td>NaN</td>\n",
       "      <td>NaN</td>\n",
       "      <td>NaN</td>\n",
       "      <td>NaN</td>\n",
       "      <td>NaN</td>\n",
       "      <td>NaN</td>\n",
       "      <td>NaN</td>\n",
       "    </tr>\n",
       "    <tr>\n",
       "      <th>7318</th>\n",
       "      <td>NaN</td>\n",
       "      <td>NaN</td>\n",
       "      <td>NaN</td>\n",
       "      <td>NaN</td>\n",
       "      <td>NaN</td>\n",
       "      <td>NaN</td>\n",
       "      <td>NaN</td>\n",
       "      <td>NaN</td>\n",
       "      <td>NaN</td>\n",
       "      <td>NaN</td>\n",
       "      <td>...</td>\n",
       "      <td>NaN</td>\n",
       "      <td>NaN</td>\n",
       "      <td>NaN</td>\n",
       "      <td>NaN</td>\n",
       "      <td>NaN</td>\n",
       "      <td>NaN</td>\n",
       "      <td>NaN</td>\n",
       "      <td>NaN</td>\n",
       "      <td>NaN</td>\n",
       "      <td>NaN</td>\n",
       "    </tr>\n",
       "    <tr>\n",
       "      <th>7319</th>\n",
       "      <td>NaN</td>\n",
       "      <td>NaN</td>\n",
       "      <td>NaN</td>\n",
       "      <td>NaN</td>\n",
       "      <td>NaN</td>\n",
       "      <td>NaN</td>\n",
       "      <td>NaN</td>\n",
       "      <td>NaN</td>\n",
       "      <td>NaN</td>\n",
       "      <td>NaN</td>\n",
       "      <td>...</td>\n",
       "      <td>NaN</td>\n",
       "      <td>NaN</td>\n",
       "      <td>NaN</td>\n",
       "      <td>NaN</td>\n",
       "      <td>NaN</td>\n",
       "      <td>NaN</td>\n",
       "      <td>NaN</td>\n",
       "      <td>NaN</td>\n",
       "      <td>NaN</td>\n",
       "      <td>NaN</td>\n",
       "    </tr>\n",
       "    <tr>\n",
       "      <th>7320</th>\n",
       "      <td>NaN</td>\n",
       "      <td>NaN</td>\n",
       "      <td>NaN</td>\n",
       "      <td>NaN</td>\n",
       "      <td>NaN</td>\n",
       "      <td>NaN</td>\n",
       "      <td>NaN</td>\n",
       "      <td>NaN</td>\n",
       "      <td>NaN</td>\n",
       "      <td>NaN</td>\n",
       "      <td>...</td>\n",
       "      <td>NaN</td>\n",
       "      <td>NaN</td>\n",
       "      <td>NaN</td>\n",
       "      <td>NaN</td>\n",
       "      <td>NaN</td>\n",
       "      <td>NaN</td>\n",
       "      <td>NaN</td>\n",
       "      <td>NaN</td>\n",
       "      <td>NaN</td>\n",
       "      <td>NaN</td>\n",
       "    </tr>\n",
       "    <tr>\n",
       "      <th>7321</th>\n",
       "      <td>NaN</td>\n",
       "      <td>NaN</td>\n",
       "      <td>NaN</td>\n",
       "      <td>NaN</td>\n",
       "      <td>NaN</td>\n",
       "      <td>NaN</td>\n",
       "      <td>NaN</td>\n",
       "      <td>NaN</td>\n",
       "      <td>NaN</td>\n",
       "      <td>NaN</td>\n",
       "      <td>...</td>\n",
       "      <td>NaN</td>\n",
       "      <td>NaN</td>\n",
       "      <td>NaN</td>\n",
       "      <td>NaN</td>\n",
       "      <td>NaN</td>\n",
       "      <td>NaN</td>\n",
       "      <td>NaN</td>\n",
       "      <td>NaN</td>\n",
       "      <td>NaN</td>\n",
       "      <td>NaN</td>\n",
       "    </tr>\n",
       "  </tbody>\n",
       "</table>\n",
       "<p>7322 rows × 223 columns</p>\n",
       "</div>"
      ],
      "text/plain": [
       "               City                                                      \\\n",
       "Country Afghanistan Aland Albania Algeria American Samoa Andorra Angola   \n",
       "0               NaN   NaN     NaN     NaN            NaN     NaN    NaN   \n",
       "1               NaN   NaN     NaN     NaN            NaN     NaN    NaN   \n",
       "2               NaN   NaN     NaN     NaN            NaN     NaN    NaN   \n",
       "3               NaN   NaN     NaN     NaN            NaN     NaN    NaN   \n",
       "4               NaN   NaN     NaN     NaN            NaN     NaN    NaN   \n",
       "...             ...   ...     ...     ...            ...     ...    ...   \n",
       "7317            NaN   NaN     NaN     NaN            NaN     NaN    NaN   \n",
       "7318            NaN   NaN     NaN     NaN            NaN     NaN    NaN   \n",
       "7319            NaN   NaN     NaN     NaN            NaN     NaN    NaN   \n",
       "7320            NaN   NaN     NaN     NaN            NaN     NaN    NaN   \n",
       "7321            NaN   NaN     NaN     NaN            NaN     NaN    NaN   \n",
       "\n",
       "                                                  ...                     \\\n",
       "Country Antarctica Antigua and Barbuda Argentina  ... Uruguay Uzbekistan   \n",
       "0              NaN                 NaN       NaN  ...     NaN        NaN   \n",
       "1              NaN                 NaN       NaN  ...     NaN        NaN   \n",
       "2              NaN                 NaN       NaN  ...     NaN        NaN   \n",
       "3              NaN                 NaN       NaN  ...     NaN        NaN   \n",
       "4              NaN                 NaN       NaN  ...     NaN        NaN   \n",
       "...            ...                 ...       ...  ...     ...        ...   \n",
       "7317           NaN                 NaN       NaN  ...     NaN        NaN   \n",
       "7318           NaN                 NaN       NaN  ...     NaN        NaN   \n",
       "7319           NaN                 NaN       NaN  ...     NaN        NaN   \n",
       "7320           NaN                 NaN       NaN  ...     NaN        NaN   \n",
       "7321           NaN                 NaN       NaN  ...     NaN        NaN   \n",
       "\n",
       "                                                                           \\\n",
       "Country Vanuatu Vatican (Holy Sea) Venezuela Vietnam Western Sahara Yemen   \n",
       "0           NaN                NaN       NaN     NaN            NaN   NaN   \n",
       "1           NaN                NaN       NaN     NaN            NaN   NaN   \n",
       "2           NaN                NaN       NaN     NaN            NaN   NaN   \n",
       "3           NaN                NaN       NaN     NaN            NaN   NaN   \n",
       "4           NaN                NaN       NaN     NaN            NaN   NaN   \n",
       "...         ...                ...       ...     ...            ...   ...   \n",
       "7317        NaN                NaN       NaN     NaN            NaN   NaN   \n",
       "7318        NaN                NaN       NaN     NaN            NaN   NaN   \n",
       "7319        NaN                NaN       NaN     NaN            NaN   NaN   \n",
       "7320        NaN                NaN       NaN     NaN            NaN   NaN   \n",
       "7321        NaN                NaN       NaN     NaN            NaN   NaN   \n",
       "\n",
       "                         \n",
       "Country Zambia Zimbabwe  \n",
       "0          NaN      NaN  \n",
       "1          NaN      NaN  \n",
       "2          NaN      NaN  \n",
       "3          NaN      NaN  \n",
       "4          NaN      NaN  \n",
       "...        ...      ...  \n",
       "7317       NaN      NaN  \n",
       "7318       NaN      NaN  \n",
       "7319       NaN      NaN  \n",
       "7320       NaN      NaN  \n",
       "7321       NaN      NaN  \n",
       "\n",
       "[7322 rows x 223 columns]"
      ]
     },
     "execution_count": 158,
     "metadata": {},
     "output_type": "execute_result"
    }
   ],
   "source": [
    "wideframe"
   ]
  },
  {
   "cell_type": "markdown",
   "id": "69ea8d6c-32f6-4968-a64f-21d20f6c3d2d",
   "metadata": {},
   "source": [
    "This mode of data recording, however, has some disadventages.  \n",
    "One for example, is prcisely the multiplicity and repetation of some fields. considering the columns as keys, the data with this format will be difficult  to read, especially in fully understanding the relationships between the key values and the rest of the columns.   \n",
    "\n",
    "Instead of the long format, there is another way to arrange the data in a table that is called __wide__.  \n",
    "this mode is easier to read, allowing easy connection with other tables, and it occupies much less space. So in general it is more effecient way of storing data, although less practical, especially if during the filling of the data.   \n",
    "\n",
    "As a criterion, select a column, or a set of them, as the primary key; then, the values contained in it must be unique.   \n",
    "\n",
    "In this regard, pandas gives you a function that allows to make a transformation of DataFrame from the long type to the wide type. This function is __pivot()__ and it accepts as arguments the column or columns, which will assume the role of key.   \n",
    "\n",
    "Starting from the previous example you choose to create a DataFrame in wide format by choosing the\r",
    "color column as the key, and item as a second key, the values of which will form the new columns of the\r",
    "data frame.\n",
    "\n"
   ]
  },
  {
   "cell_type": "code",
   "execution_count": 140,
   "id": "698610e7-37a2-4a0b-a1e0-1ae9dbe22000",
   "metadata": {},
   "outputs": [],
   "source": [
    "longframe = pd.DataFrame({ 'color':['white','white','white',\n",
    "... 'red','red','red',\n",
    "... 'black','black','black'],\n",
    "... 'item':['ball','pen','mug',\n",
    "... 'ball','pen','mug',\n",
    "... 'ball','pen','mug'],\n",
    "... 'value': np.random.rand(9)})"
   ]
  },
  {
   "cell_type": "code",
   "execution_count": 141,
   "id": "2fc7564a-2adb-4dba-bacf-ba367f37667b",
   "metadata": {
    "scrolled": true
   },
   "outputs": [
    {
     "data": {
      "text/html": [
       "<div>\n",
       "<style scoped>\n",
       "    .dataframe tbody tr th:only-of-type {\n",
       "        vertical-align: middle;\n",
       "    }\n",
       "\n",
       "    .dataframe tbody tr th {\n",
       "        vertical-align: top;\n",
       "    }\n",
       "\n",
       "    .dataframe thead th {\n",
       "        text-align: right;\n",
       "    }\n",
       "</style>\n",
       "<table border=\"1\" class=\"dataframe\">\n",
       "  <thead>\n",
       "    <tr style=\"text-align: right;\">\n",
       "      <th></th>\n",
       "      <th>color</th>\n",
       "      <th>item</th>\n",
       "      <th>value</th>\n",
       "    </tr>\n",
       "  </thead>\n",
       "  <tbody>\n",
       "    <tr>\n",
       "      <th>0</th>\n",
       "      <td>white</td>\n",
       "      <td>ball</td>\n",
       "      <td>0.740352</td>\n",
       "    </tr>\n",
       "    <tr>\n",
       "      <th>1</th>\n",
       "      <td>white</td>\n",
       "      <td>pen</td>\n",
       "      <td>0.751723</td>\n",
       "    </tr>\n",
       "    <tr>\n",
       "      <th>2</th>\n",
       "      <td>white</td>\n",
       "      <td>mug</td>\n",
       "      <td>0.345651</td>\n",
       "    </tr>\n",
       "    <tr>\n",
       "      <th>3</th>\n",
       "      <td>red</td>\n",
       "      <td>ball</td>\n",
       "      <td>0.073299</td>\n",
       "    </tr>\n",
       "    <tr>\n",
       "      <th>4</th>\n",
       "      <td>red</td>\n",
       "      <td>pen</td>\n",
       "      <td>0.713923</td>\n",
       "    </tr>\n",
       "    <tr>\n",
       "      <th>5</th>\n",
       "      <td>red</td>\n",
       "      <td>mug</td>\n",
       "      <td>0.538910</td>\n",
       "    </tr>\n",
       "    <tr>\n",
       "      <th>6</th>\n",
       "      <td>black</td>\n",
       "      <td>ball</td>\n",
       "      <td>0.680800</td>\n",
       "    </tr>\n",
       "    <tr>\n",
       "      <th>7</th>\n",
       "      <td>black</td>\n",
       "      <td>pen</td>\n",
       "      <td>0.476723</td>\n",
       "    </tr>\n",
       "    <tr>\n",
       "      <th>8</th>\n",
       "      <td>black</td>\n",
       "      <td>mug</td>\n",
       "      <td>0.619757</td>\n",
       "    </tr>\n",
       "  </tbody>\n",
       "</table>\n",
       "</div>"
      ],
      "text/plain": [
       "   color  item     value\n",
       "0  white  ball  0.740352\n",
       "1  white   pen  0.751723\n",
       "2  white   mug  0.345651\n",
       "3    red  ball  0.073299\n",
       "4    red   pen  0.713923\n",
       "5    red   mug  0.538910\n",
       "6  black  ball  0.680800\n",
       "7  black   pen  0.476723\n",
       "8  black   mug  0.619757"
      ]
     },
     "execution_count": 141,
     "metadata": {},
     "output_type": "execute_result"
    }
   ],
   "source": [
    "longframe"
   ]
  },
  {
   "cell_type": "code",
   "execution_count": 148,
   "id": "a793f5b3-1da1-44fd-afa0-5c229f08a910",
   "metadata": {},
   "outputs": [],
   "source": [
    "wideframe = longframe.pivot(columns = 'item')"
   ]
  },
  {
   "cell_type": "code",
   "execution_count": 149,
   "id": "66dc093d-f3e6-46e8-bfe8-58ec41190d9f",
   "metadata": {},
   "outputs": [
    {
     "data": {
      "text/html": [
       "<div>\n",
       "<style scoped>\n",
       "    .dataframe tbody tr th:only-of-type {\n",
       "        vertical-align: middle;\n",
       "    }\n",
       "\n",
       "    .dataframe tbody tr th {\n",
       "        vertical-align: top;\n",
       "    }\n",
       "\n",
       "    .dataframe thead tr th {\n",
       "        text-align: left;\n",
       "    }\n",
       "</style>\n",
       "<table border=\"1\" class=\"dataframe\">\n",
       "  <thead>\n",
       "    <tr>\n",
       "      <th></th>\n",
       "      <th colspan=\"3\" halign=\"left\">color</th>\n",
       "      <th colspan=\"3\" halign=\"left\">value</th>\n",
       "    </tr>\n",
       "    <tr>\n",
       "      <th>item</th>\n",
       "      <th>ball</th>\n",
       "      <th>mug</th>\n",
       "      <th>pen</th>\n",
       "      <th>ball</th>\n",
       "      <th>mug</th>\n",
       "      <th>pen</th>\n",
       "    </tr>\n",
       "  </thead>\n",
       "  <tbody>\n",
       "    <tr>\n",
       "      <th>0</th>\n",
       "      <td>white</td>\n",
       "      <td>NaN</td>\n",
       "      <td>NaN</td>\n",
       "      <td>0.740352</td>\n",
       "      <td>NaN</td>\n",
       "      <td>NaN</td>\n",
       "    </tr>\n",
       "    <tr>\n",
       "      <th>1</th>\n",
       "      <td>NaN</td>\n",
       "      <td>NaN</td>\n",
       "      <td>white</td>\n",
       "      <td>NaN</td>\n",
       "      <td>NaN</td>\n",
       "      <td>0.751723</td>\n",
       "    </tr>\n",
       "    <tr>\n",
       "      <th>2</th>\n",
       "      <td>NaN</td>\n",
       "      <td>white</td>\n",
       "      <td>NaN</td>\n",
       "      <td>NaN</td>\n",
       "      <td>0.345651</td>\n",
       "      <td>NaN</td>\n",
       "    </tr>\n",
       "    <tr>\n",
       "      <th>3</th>\n",
       "      <td>red</td>\n",
       "      <td>NaN</td>\n",
       "      <td>NaN</td>\n",
       "      <td>0.073299</td>\n",
       "      <td>NaN</td>\n",
       "      <td>NaN</td>\n",
       "    </tr>\n",
       "    <tr>\n",
       "      <th>4</th>\n",
       "      <td>NaN</td>\n",
       "      <td>NaN</td>\n",
       "      <td>red</td>\n",
       "      <td>NaN</td>\n",
       "      <td>NaN</td>\n",
       "      <td>0.713923</td>\n",
       "    </tr>\n",
       "    <tr>\n",
       "      <th>5</th>\n",
       "      <td>NaN</td>\n",
       "      <td>red</td>\n",
       "      <td>NaN</td>\n",
       "      <td>NaN</td>\n",
       "      <td>0.538910</td>\n",
       "      <td>NaN</td>\n",
       "    </tr>\n",
       "    <tr>\n",
       "      <th>6</th>\n",
       "      <td>black</td>\n",
       "      <td>NaN</td>\n",
       "      <td>NaN</td>\n",
       "      <td>0.680800</td>\n",
       "      <td>NaN</td>\n",
       "      <td>NaN</td>\n",
       "    </tr>\n",
       "    <tr>\n",
       "      <th>7</th>\n",
       "      <td>NaN</td>\n",
       "      <td>NaN</td>\n",
       "      <td>black</td>\n",
       "      <td>NaN</td>\n",
       "      <td>NaN</td>\n",
       "      <td>0.476723</td>\n",
       "    </tr>\n",
       "    <tr>\n",
       "      <th>8</th>\n",
       "      <td>NaN</td>\n",
       "      <td>black</td>\n",
       "      <td>NaN</td>\n",
       "      <td>NaN</td>\n",
       "      <td>0.619757</td>\n",
       "      <td>NaN</td>\n",
       "    </tr>\n",
       "  </tbody>\n",
       "</table>\n",
       "</div>"
      ],
      "text/plain": [
       "      color                   value                    \n",
       "item   ball    mug    pen      ball       mug       pen\n",
       "0     white    NaN    NaN  0.740352       NaN       NaN\n",
       "1       NaN    NaN  white       NaN       NaN  0.751723\n",
       "2       NaN  white    NaN       NaN  0.345651       NaN\n",
       "3       red    NaN    NaN  0.073299       NaN       NaN\n",
       "4       NaN    NaN    red       NaN       NaN  0.713923\n",
       "5       NaN    red    NaN       NaN  0.538910       NaN\n",
       "6     black    NaN    NaN  0.680800       NaN       NaN\n",
       "7       NaN    NaN  black       NaN       NaN  0.476723\n",
       "8       NaN  black    NaN       NaN  0.619757       NaN"
      ]
     },
     "execution_count": 149,
     "metadata": {},
     "output_type": "execute_result"
    }
   ],
   "source": [
    "wideframe"
   ]
  },
  {
   "cell_type": "markdown",
   "id": "ffe3ce98-74a7-4a4c-aee6-61eddc82ef2d",
   "metadata": {},
   "source": [
    "### Removing\n",
    "The last stage of data preparation is the removal of columns and rows. you have already seen this part. However, for completeness, the describtion here. "
   ]
  },
  {
   "cell_type": "code",
   "execution_count": 168,
   "id": "3a654e23-eb44-4a7e-b765-62b3e92769e6",
   "metadata": {},
   "outputs": [],
   "source": [
    "my_file = pd.read_csv('worldcities.csv')"
   ]
  },
  {
   "cell_type": "code",
   "execution_count": 169,
   "id": "524bd2f7-3bfb-43aa-a87c-fac0363c4ee5",
   "metadata": {},
   "outputs": [
    {
     "data": {
      "text/html": [
       "<div>\n",
       "<style scoped>\n",
       "    .dataframe tbody tr th:only-of-type {\n",
       "        vertical-align: middle;\n",
       "    }\n",
       "\n",
       "    .dataframe tbody tr th {\n",
       "        vertical-align: top;\n",
       "    }\n",
       "\n",
       "    .dataframe thead th {\n",
       "        text-align: right;\n",
       "    }\n",
       "</style>\n",
       "<table border=\"1\" class=\"dataframe\">\n",
       "  <thead>\n",
       "    <tr style=\"text-align: right;\">\n",
       "      <th></th>\n",
       "      <th>City</th>\n",
       "      <th>Country</th>\n",
       "    </tr>\n",
       "  </thead>\n",
       "  <tbody>\n",
       "    <tr>\n",
       "      <th>0</th>\n",
       "      <td>Rovaniemi</td>\n",
       "      <td>Finland</td>\n",
       "    </tr>\n",
       "    <tr>\n",
       "      <th>1</th>\n",
       "      <td>Steinkjer</td>\n",
       "      <td>Norway</td>\n",
       "    </tr>\n",
       "    <tr>\n",
       "      <th>2</th>\n",
       "      <td>Monterey</td>\n",
       "      <td>United States of America</td>\n",
       "    </tr>\n",
       "    <tr>\n",
       "      <th>3</th>\n",
       "      <td>Kuta</td>\n",
       "      <td>Indonesia</td>\n",
       "    </tr>\n",
       "    <tr>\n",
       "      <th>4</th>\n",
       "      <td>Lovec</td>\n",
       "      <td>Bulgaria</td>\n",
       "    </tr>\n",
       "    <tr>\n",
       "      <th>...</th>\n",
       "      <td>...</td>\n",
       "      <td>...</td>\n",
       "    </tr>\n",
       "    <tr>\n",
       "      <th>7317</th>\n",
       "      <td>De Aar</td>\n",
       "      <td>South Africa</td>\n",
       "    </tr>\n",
       "    <tr>\n",
       "      <th>7318</th>\n",
       "      <td>Kamensk Shakhtinskiy</td>\n",
       "      <td>Russia</td>\n",
       "    </tr>\n",
       "    <tr>\n",
       "      <th>7319</th>\n",
       "      <td>Sinop</td>\n",
       "      <td>Turkey</td>\n",
       "    </tr>\n",
       "    <tr>\n",
       "      <th>7320</th>\n",
       "      <td>Tirupati</td>\n",
       "      <td>India</td>\n",
       "    </tr>\n",
       "    <tr>\n",
       "      <th>7321</th>\n",
       "      <td>Huangshi</td>\n",
       "      <td>China</td>\n",
       "    </tr>\n",
       "  </tbody>\n",
       "</table>\n",
       "<p>7322 rows × 2 columns</p>\n",
       "</div>"
      ],
      "text/plain": [
       "                      City                   Country\n",
       "0                Rovaniemi                   Finland\n",
       "1                Steinkjer                    Norway\n",
       "2                 Monterey  United States of America\n",
       "3                     Kuta                 Indonesia\n",
       "4                    Lovec                  Bulgaria\n",
       "...                    ...                       ...\n",
       "7317                De Aar              South Africa\n",
       "7318  Kamensk Shakhtinskiy                    Russia\n",
       "7319                 Sinop                    Turkey\n",
       "7320              Tirupati                     India\n",
       "7321              Huangshi                     China\n",
       "\n",
       "[7322 rows x 2 columns]"
      ]
     },
     "execution_count": 169,
     "metadata": {},
     "output_type": "execute_result"
    }
   ],
   "source": [
    "my_file"
   ]
  },
  {
   "cell_type": "markdown",
   "id": "ded5c13a-894a-4fb2-9540-0dde903686ee",
   "metadata": {},
   "source": [
    "In order to remove a column, you have to simply use the __del__ command applied to the DataFrame with the column name specified.    "
   ]
  },
  {
   "cell_type": "code",
   "execution_count": 171,
   "id": "80c2dd06-01d4-44bb-b5f1-b45b9dfec86d",
   "metadata": {},
   "outputs": [],
   "source": [
    "del my_file ['City']"
   ]
  },
  {
   "cell_type": "code",
   "execution_count": 172,
   "id": "41e13bf1-9da5-45ee-b688-d0f549a0dc19",
   "metadata": {},
   "outputs": [
    {
     "data": {
      "text/html": [
       "<div>\n",
       "<style scoped>\n",
       "    .dataframe tbody tr th:only-of-type {\n",
       "        vertical-align: middle;\n",
       "    }\n",
       "\n",
       "    .dataframe tbody tr th {\n",
       "        vertical-align: top;\n",
       "    }\n",
       "\n",
       "    .dataframe thead th {\n",
       "        text-align: right;\n",
       "    }\n",
       "</style>\n",
       "<table border=\"1\" class=\"dataframe\">\n",
       "  <thead>\n",
       "    <tr style=\"text-align: right;\">\n",
       "      <th></th>\n",
       "      <th>Country</th>\n",
       "    </tr>\n",
       "  </thead>\n",
       "  <tbody>\n",
       "    <tr>\n",
       "      <th>0</th>\n",
       "      <td>Finland</td>\n",
       "    </tr>\n",
       "    <tr>\n",
       "      <th>1</th>\n",
       "      <td>Norway</td>\n",
       "    </tr>\n",
       "    <tr>\n",
       "      <th>2</th>\n",
       "      <td>United States of America</td>\n",
       "    </tr>\n",
       "    <tr>\n",
       "      <th>3</th>\n",
       "      <td>Indonesia</td>\n",
       "    </tr>\n",
       "    <tr>\n",
       "      <th>4</th>\n",
       "      <td>Bulgaria</td>\n",
       "    </tr>\n",
       "    <tr>\n",
       "      <th>...</th>\n",
       "      <td>...</td>\n",
       "    </tr>\n",
       "    <tr>\n",
       "      <th>7317</th>\n",
       "      <td>South Africa</td>\n",
       "    </tr>\n",
       "    <tr>\n",
       "      <th>7318</th>\n",
       "      <td>Russia</td>\n",
       "    </tr>\n",
       "    <tr>\n",
       "      <th>7319</th>\n",
       "      <td>Turkey</td>\n",
       "    </tr>\n",
       "    <tr>\n",
       "      <th>7320</th>\n",
       "      <td>India</td>\n",
       "    </tr>\n",
       "    <tr>\n",
       "      <th>7321</th>\n",
       "      <td>China</td>\n",
       "    </tr>\n",
       "  </tbody>\n",
       "</table>\n",
       "<p>7322 rows × 1 columns</p>\n",
       "</div>"
      ],
      "text/plain": [
       "                       Country\n",
       "0                      Finland\n",
       "1                       Norway\n",
       "2     United States of America\n",
       "3                    Indonesia\n",
       "4                     Bulgaria\n",
       "...                        ...\n",
       "7317              South Africa\n",
       "7318                    Russia\n",
       "7319                    Turkey\n",
       "7320                     India\n",
       "7321                     China\n",
       "\n",
       "[7322 rows x 1 columns]"
      ]
     },
     "execution_count": 172,
     "metadata": {},
     "output_type": "execute_result"
    }
   ],
   "source": [
    "my_file"
   ]
  },
  {
   "cell_type": "code",
   "execution_count": 176,
   "id": "63278c7a-7a13-4cca-9632-e3ada9b8699c",
   "metadata": {},
   "outputs": [],
   "source": [
    "World_Cities = pd.read_csv('worldcities.csv')"
   ]
  },
  {
   "cell_type": "code",
   "execution_count": 177,
   "id": "0772ed66-c930-4f47-81cd-d7f727c944e5",
   "metadata": {},
   "outputs": [
    {
     "data": {
      "text/html": [
       "<div>\n",
       "<style scoped>\n",
       "    .dataframe tbody tr th:only-of-type {\n",
       "        vertical-align: middle;\n",
       "    }\n",
       "\n",
       "    .dataframe tbody tr th {\n",
       "        vertical-align: top;\n",
       "    }\n",
       "\n",
       "    .dataframe thead th {\n",
       "        text-align: right;\n",
       "    }\n",
       "</style>\n",
       "<table border=\"1\" class=\"dataframe\">\n",
       "  <thead>\n",
       "    <tr style=\"text-align: right;\">\n",
       "      <th></th>\n",
       "      <th>City</th>\n",
       "      <th>Country</th>\n",
       "    </tr>\n",
       "  </thead>\n",
       "  <tbody>\n",
       "    <tr>\n",
       "      <th>0</th>\n",
       "      <td>Rovaniemi</td>\n",
       "      <td>Finland</td>\n",
       "    </tr>\n",
       "    <tr>\n",
       "      <th>1</th>\n",
       "      <td>Steinkjer</td>\n",
       "      <td>Norway</td>\n",
       "    </tr>\n",
       "    <tr>\n",
       "      <th>2</th>\n",
       "      <td>Monterey</td>\n",
       "      <td>United States of America</td>\n",
       "    </tr>\n",
       "    <tr>\n",
       "      <th>3</th>\n",
       "      <td>Kuta</td>\n",
       "      <td>Indonesia</td>\n",
       "    </tr>\n",
       "    <tr>\n",
       "      <th>4</th>\n",
       "      <td>Lovec</td>\n",
       "      <td>Bulgaria</td>\n",
       "    </tr>\n",
       "    <tr>\n",
       "      <th>...</th>\n",
       "      <td>...</td>\n",
       "      <td>...</td>\n",
       "    </tr>\n",
       "    <tr>\n",
       "      <th>7317</th>\n",
       "      <td>De Aar</td>\n",
       "      <td>South Africa</td>\n",
       "    </tr>\n",
       "    <tr>\n",
       "      <th>7318</th>\n",
       "      <td>Kamensk Shakhtinskiy</td>\n",
       "      <td>Russia</td>\n",
       "    </tr>\n",
       "    <tr>\n",
       "      <th>7319</th>\n",
       "      <td>Sinop</td>\n",
       "      <td>Turkey</td>\n",
       "    </tr>\n",
       "    <tr>\n",
       "      <th>7320</th>\n",
       "      <td>Tirupati</td>\n",
       "      <td>India</td>\n",
       "    </tr>\n",
       "    <tr>\n",
       "      <th>7321</th>\n",
       "      <td>Huangshi</td>\n",
       "      <td>China</td>\n",
       "    </tr>\n",
       "  </tbody>\n",
       "</table>\n",
       "<p>7322 rows × 2 columns</p>\n",
       "</div>"
      ],
      "text/plain": [
       "                      City                   Country\n",
       "0                Rovaniemi                   Finland\n",
       "1                Steinkjer                    Norway\n",
       "2                 Monterey  United States of America\n",
       "3                     Kuta                 Indonesia\n",
       "4                    Lovec                  Bulgaria\n",
       "...                    ...                       ...\n",
       "7317                De Aar              South Africa\n",
       "7318  Kamensk Shakhtinskiy                    Russia\n",
       "7319                 Sinop                    Turkey\n",
       "7320              Tirupati                     India\n",
       "7321              Huangshi                     China\n",
       "\n",
       "[7322 rows x 2 columns]"
      ]
     },
     "execution_count": 177,
     "metadata": {},
     "output_type": "execute_result"
    }
   ],
   "source": [
    "World_Cities"
   ]
  },
  {
   "cell_type": "markdown",
   "id": "5dc4de93-6aee-4432-8c04-bdf820900ae1",
   "metadata": {},
   "source": [
    "Instead, to remove an unwanted row, you have to use __drop()__  function with the label of the corresponding index as argument.  "
   ]
  },
  {
   "cell_type": "code",
   "execution_count": 180,
   "id": "fdd2bdac-db93-453b-8386-dc7221e5bebf",
   "metadata": {},
   "outputs": [
    {
     "data": {
      "text/html": [
       "<div>\n",
       "<style scoped>\n",
       "    .dataframe tbody tr th:only-of-type {\n",
       "        vertical-align: middle;\n",
       "    }\n",
       "\n",
       "    .dataframe tbody tr th {\n",
       "        vertical-align: top;\n",
       "    }\n",
       "\n",
       "    .dataframe thead th {\n",
       "        text-align: right;\n",
       "    }\n",
       "</style>\n",
       "<table border=\"1\" class=\"dataframe\">\n",
       "  <thead>\n",
       "    <tr style=\"text-align: right;\">\n",
       "      <th></th>\n",
       "      <th>Country</th>\n",
       "    </tr>\n",
       "  </thead>\n",
       "  <tbody>\n",
       "    <tr>\n",
       "      <th>0</th>\n",
       "      <td>Finland</td>\n",
       "    </tr>\n",
       "    <tr>\n",
       "      <th>1</th>\n",
       "      <td>Norway</td>\n",
       "    </tr>\n",
       "    <tr>\n",
       "      <th>2</th>\n",
       "      <td>United States of America</td>\n",
       "    </tr>\n",
       "    <tr>\n",
       "      <th>3</th>\n",
       "      <td>Indonesia</td>\n",
       "    </tr>\n",
       "    <tr>\n",
       "      <th>5</th>\n",
       "      <td>Canada</td>\n",
       "    </tr>\n",
       "    <tr>\n",
       "      <th>...</th>\n",
       "      <td>...</td>\n",
       "    </tr>\n",
       "    <tr>\n",
       "      <th>7317</th>\n",
       "      <td>South Africa</td>\n",
       "    </tr>\n",
       "    <tr>\n",
       "      <th>7318</th>\n",
       "      <td>Russia</td>\n",
       "    </tr>\n",
       "    <tr>\n",
       "      <th>7319</th>\n",
       "      <td>Turkey</td>\n",
       "    </tr>\n",
       "    <tr>\n",
       "      <th>7320</th>\n",
       "      <td>India</td>\n",
       "    </tr>\n",
       "    <tr>\n",
       "      <th>7321</th>\n",
       "      <td>China</td>\n",
       "    </tr>\n",
       "  </tbody>\n",
       "</table>\n",
       "<p>7321 rows × 1 columns</p>\n",
       "</div>"
      ],
      "text/plain": [
       "                       Country\n",
       "0                      Finland\n",
       "1                       Norway\n",
       "2     United States of America\n",
       "3                    Indonesia\n",
       "5                       Canada\n",
       "...                        ...\n",
       "7317              South Africa\n",
       "7318                    Russia\n",
       "7319                    Turkey\n",
       "7320                     India\n",
       "7321                     China\n",
       "\n",
       "[7321 rows x 1 columns]"
      ]
     },
     "execution_count": 180,
     "metadata": {},
     "output_type": "execute_result"
    }
   ],
   "source": [
    "my_file.drop([4]) # removed the 'Bulgaria' indexed [4]"
   ]
  },
  {
   "cell_type": "markdown",
   "id": "7ad04554-0f2b-4495-b4ad-d0dab2bb02f4",
   "metadata": {},
   "source": [
    "\n",
    "   \n",
    "\n",
    "\n",
    "\n",
    "\n",
    "# Data Transformation\n",
    "### Removing Duplicates\n",
    "### Mapping\n",
    "### Replacing values via Mapping\n",
    "### Adding values via Mapping\n",
    "### Renaming the Indexes of the Axes\n",
    "# Discretization and Binning\n",
    "### Detecting and Filtering Outliers\n",
    "# Permutation\n",
    "### Random Sampling\n",
    "# String Manipulation\n",
    "### Built-in Methods for Manipulation of Strings\n",
    "### Regular Expressions\n",
    "# Data Aggrigation\n",
    "### GroupBy\n",
    "### Hierarical Grouping\n",
    "# Group Iteration\n",
    "### Chain of Transformation\n",
    "### Functions of Groups\n",
    "# Advanced Data Aggregation\n",
    "# Conclusions"
   ]
  },
  {
   "cell_type": "code",
   "execution_count": null,
   "id": "800b9d21-07c1-4ccb-bc63-970069ba91c3",
   "metadata": {},
   "outputs": [],
   "source": []
  }
 ],
 "metadata": {
  "kernelspec": {
   "display_name": "Python 3 (ipykernel)",
   "language": "python",
   "name": "python3"
  },
  "language_info": {
   "codemirror_mode": {
    "name": "ipython",
    "version": 3
   },
   "file_extension": ".py",
   "mimetype": "text/x-python",
   "name": "python",
   "nbconvert_exporter": "python",
   "pygments_lexer": "ipython3",
   "version": "3.8.19"
  }
 },
 "nbformat": 4,
 "nbformat_minor": 5
}
