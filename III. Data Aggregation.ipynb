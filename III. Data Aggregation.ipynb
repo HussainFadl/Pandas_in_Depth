{
 "cells": [
  {
   "cell_type": "markdown",
   "id": "73f348e7-bd8f-4bb2-98e7-05d8921ebb35",
   "metadata": {},
   "source": [
    "# Data Aggrigation:  \n",
    "The last stage of data manipulation is data aggregation you generally mean a transformation that produces a single integer from an array.  \n",
    "In fact, you have already made many operations of data aggregation, for example when we calculated the __sum()__, __mean()__ and __count()__. In fact, these functions operate on a set of data and shall perform a calculation with a consistent result consisting of a single value.  \n",
    "However, a more formal manner and the one with more control in data aggregation is that which includes the __categorization__ of a set.  \n",
    "\n",
    "The __Categorization__ of a set of data carried out for grouping is often a critical stage in the process of data analysis. It is a process of transformation since after the division into different groups, you apply a function that converts or transforms the data in some way depending on the group they belong to.  \n",
    "Very often the two phases of grouping and application of a function are performed in a single step.  \n",
    "Also for this part of data analysis, pandas provides a tool very flesxible and high performance:\n",
    "__GroupBy__.   \n",
    "\n",
    "Again, as in the case of join, those familiar with relational databases and the SQL language can find similarities. Nevertheless, languages such as SQL are quite limited when applied to operations on groups. In fact, given the flexiblity of a programming languages like Python, with all the libraries avaliable, especially pandas, you can perform very complex operations on groups.  \n"
   ]
  },
  {
   "cell_type": "markdown",
   "id": "df04ca17-a9df-485e-85e4-14190402eeb3",
   "metadata": {},
   "source": [
    "### GroupBy:\n",
    "Now you will analyze in detail what the process of __GroupBy__ is and how it works. Generally, it refers to its internal mechanism as a process called __SPLIT-APPLY-COMBINE__. So in its pattern of operation you may conceive this process as divided into three different phases expressed precisely by three operations:  \n",
    " • splitting: division into groups of data sets.  \n",
    " • applying: application of a function on each         group.  \n",
    " • combining: combination of all the resultsobtained by different groups.  \n"
   ]
  },
  {
   "cell_type": "code",
   "execution_count": 516,
   "id": "e5cf65af-9de2-40fc-ad8e-f00efdd3da92",
   "metadata": {},
   "outputs": [],
   "source": [
    "frame = pd.DataFrame({ 'color': ['white','red','green','red','green'],\n",
    "... 'object': ['pen','pencil','pencil','ashtray','pen'],\n",
    "... 'price1' : [5.56,4.20,1.30,0.56,2.75],\n",
    "... 'price2' : [4.75,4.12,1.60,0.75,3.15]})"
   ]
  },
  {
   "cell_type": "code",
   "execution_count": 517,
   "id": "9ec7bdbb-a678-4088-87d0-fc0f4c58df3e",
   "metadata": {},
   "outputs": [
    {
     "data": {
      "text/html": [
       "<div>\n",
       "<style scoped>\n",
       "    .dataframe tbody tr th:only-of-type {\n",
       "        vertical-align: middle;\n",
       "    }\n",
       "\n",
       "    .dataframe tbody tr th {\n",
       "        vertical-align: top;\n",
       "    }\n",
       "\n",
       "    .dataframe thead th {\n",
       "        text-align: right;\n",
       "    }\n",
       "</style>\n",
       "<table border=\"1\" class=\"dataframe\">\n",
       "  <thead>\n",
       "    <tr style=\"text-align: right;\">\n",
       "      <th></th>\n",
       "      <th>color</th>\n",
       "      <th>object</th>\n",
       "      <th>price1</th>\n",
       "      <th>price2</th>\n",
       "    </tr>\n",
       "  </thead>\n",
       "  <tbody>\n",
       "    <tr>\n",
       "      <th>0</th>\n",
       "      <td>white</td>\n",
       "      <td>pen</td>\n",
       "      <td>5.56</td>\n",
       "      <td>4.75</td>\n",
       "    </tr>\n",
       "    <tr>\n",
       "      <th>1</th>\n",
       "      <td>red</td>\n",
       "      <td>pencil</td>\n",
       "      <td>4.20</td>\n",
       "      <td>4.12</td>\n",
       "    </tr>\n",
       "    <tr>\n",
       "      <th>2</th>\n",
       "      <td>green</td>\n",
       "      <td>pencil</td>\n",
       "      <td>1.30</td>\n",
       "      <td>1.60</td>\n",
       "    </tr>\n",
       "    <tr>\n",
       "      <th>3</th>\n",
       "      <td>red</td>\n",
       "      <td>ashtray</td>\n",
       "      <td>0.56</td>\n",
       "      <td>0.75</td>\n",
       "    </tr>\n",
       "    <tr>\n",
       "      <th>4</th>\n",
       "      <td>green</td>\n",
       "      <td>pen</td>\n",
       "      <td>2.75</td>\n",
       "      <td>3.15</td>\n",
       "    </tr>\n",
       "  </tbody>\n",
       "</table>\n",
       "</div>"
      ],
      "text/plain": [
       "   color   object  price1  price2\n",
       "0  white      pen    5.56    4.75\n",
       "1    red   pencil    4.20    4.12\n",
       "2  green   pencil    1.30    1.60\n",
       "3    red  ashtray    0.56    0.75\n",
       "4  green      pen    2.75    3.15"
      ]
     },
     "execution_count": 517,
     "metadata": {},
     "output_type": "execute_result"
    }
   ],
   "source": [
    "frame"
   ]
  },
  {
   "cell_type": "markdown",
   "id": "cd00be91-ba73-41cf-9fab-ccc1c2b8023f",
   "metadata": {},
   "source": [
    "suppose you need to calculate the average __price1__ column using group labels listed in the column color.  \n",
    "There are several ways to do this. You can for example access the __price1__ column and call the __groupby()__ function with the column color."
   ]
  },
  {
   "cell_type": "code",
   "execution_count": 518,
   "id": "a76bcef3-2e9d-429f-93de-02301a6c4a7c",
   "metadata": {},
   "outputs": [],
   "source": [
    "group = frame['price1'].groupby(frame['color'])"
   ]
  },
  {
   "cell_type": "code",
   "execution_count": 519,
   "id": "4d9de04f-8030-4590-8a4e-367bd9e75edf",
   "metadata": {},
   "outputs": [
    {
     "data": {
      "text/plain": [
       "<pandas.core.groupby.generic.SeriesGroupBy object at 0x124a82b80>"
      ]
     },
     "execution_count": 519,
     "metadata": {},
     "output_type": "execute_result"
    }
   ],
   "source": [
    "group"
   ]
  },
  {
   "cell_type": "markdown",
   "id": "5d7cf2b8-0784-4893-baba-79ceb1605b54",
   "metadata": {},
   "source": [
    "The object that we got is a __GroupBy__  object. In the operation that you just did there was not really any calculation; there was just a collection of all the information needed to calculate to be executed. What you have done is in fact a process of grouping, in which all rows having the same value of color are grouped into a single item.\n",
    "\n",
    "To analyze in detail how the division into groups of rows of DataFrame was made, you call the attribute groups GroupBy object."
   ]
  },
  {
   "cell_type": "code",
   "execution_count": 520,
   "id": "7e086a0a-5c51-4984-babc-4e6dcfd2c76a",
   "metadata": {},
   "outputs": [
    {
     "data": {
      "text/plain": [
       "{'green': [2, 4], 'red': [1, 3], 'white': [0]}"
      ]
     },
     "execution_count": 520,
     "metadata": {},
     "output_type": "execute_result"
    }
   ],
   "source": [
    "group.groups"
   ]
  },
  {
   "cell_type": "markdown",
   "id": "08c07eea-8c33-476a-988b-a44ae44de1c3",
   "metadata": {},
   "source": [
    "As you can see, each group is listed explicitly specifying the rows of the data frame assigned to each of them. Now it is sufficient to apply the operation on the group to obtain the results for each individual group.  "
   ]
  },
  {
   "cell_type": "code",
   "execution_count": 521,
   "id": "32d022b6-bf28-4530-945d-d46c78b83e88",
   "metadata": {},
   "outputs": [
    {
     "data": {
      "text/plain": [
       "color\n",
       "green    2.025\n",
       "red      2.380\n",
       "white    5.560\n",
       "Name: price1, dtype: float64"
      ]
     },
     "execution_count": 521,
     "metadata": {},
     "output_type": "execute_result"
    }
   ],
   "source": [
    "group.mean()"
   ]
  },
  {
   "cell_type": "code",
   "execution_count": 522,
   "id": "8b1c76c7-290a-4c4d-8d0f-208d9d7f0263",
   "metadata": {},
   "outputs": [
    {
     "data": {
      "text/plain": [
       "color\n",
       "green    4.05\n",
       "red      4.76\n",
       "white    5.56\n",
       "Name: price1, dtype: float64"
      ]
     },
     "execution_count": 522,
     "metadata": {},
     "output_type": "execute_result"
    }
   ],
   "source": [
    "group.sum()"
   ]
  },
  {
   "cell_type": "markdown",
   "id": "af154b22-0de7-476d-b7c5-590fc58ea80c",
   "metadata": {},
   "source": [
    "### Hierarical Grouping:  \n",
    "You have seen how to group the data according to the values of a column as a key choice. The same thing can be extended to multiple columns,i.e, make a grouping of multiple keys hierarical."
   ]
  },
  {
   "cell_type": "code",
   "execution_count": 523,
   "id": "e0e1a94a-c1b7-49c2-b0dc-b5d69a1bdc66",
   "metadata": {},
   "outputs": [],
   "source": [
    "ggroup = frame['price1'].groupby([frame['color'], frame['object']])"
   ]
  },
  {
   "cell_type": "code",
   "execution_count": 524,
   "id": "f20918ff-2a33-4a78-8657-d42fbd39bd24",
   "metadata": {},
   "outputs": [
    {
     "data": {
      "text/plain": [
       "{('green', 'pen'): [4], ('green', 'pencil'): [2], ('red', 'ashtray'): [3], ('red', 'pencil'): [1], ('white', 'pen'): [0]}"
      ]
     },
     "execution_count": 524,
     "metadata": {},
     "output_type": "execute_result"
    }
   ],
   "source": [
    "ggroup.groups"
   ]
  },
  {
   "cell_type": "code",
   "execution_count": 525,
   "id": "0643a641-3808-4410-8fb9-171304067a5c",
   "metadata": {},
   "outputs": [
    {
     "data": {
      "text/plain": [
       "color  object \n",
       "green  pen        2.75\n",
       "       pencil     1.30\n",
       "red    ashtray    0.56\n",
       "       pencil     4.20\n",
       "white  pen        5.56\n",
       "Name: price1, dtype: float64"
      ]
     },
     "execution_count": 525,
     "metadata": {},
     "output_type": "execute_result"
    }
   ],
   "source": [
    "ggroup.sum()"
   ]
  },
  {
   "cell_type": "markdown",
   "id": "3b57a60a-57c4-40ce-ad48-f6d0a546b704",
   "metadata": {},
   "source": [
    "So far you have applied the grouping to a single column of data, but in reality it can be extended to a multiple columns or the entire data frame. Also if you do not need to reuse the object GroupBy several times, it is convenient to combine in a single passing all of the grouping and calculation to be done, without defining any intermediate variable."
   ]
  },
  {
   "cell_type": "code",
   "execution_count": 526,
   "id": "16572d63-7a80-47ea-96f0-59dae3d62970",
   "metadata": {},
   "outputs": [
    {
     "data": {
      "text/html": [
       "<div>\n",
       "<style scoped>\n",
       "    .dataframe tbody tr th:only-of-type {\n",
       "        vertical-align: middle;\n",
       "    }\n",
       "\n",
       "    .dataframe tbody tr th {\n",
       "        vertical-align: top;\n",
       "    }\n",
       "\n",
       "    .dataframe thead th {\n",
       "        text-align: right;\n",
       "    }\n",
       "</style>\n",
       "<table border=\"1\" class=\"dataframe\">\n",
       "  <thead>\n",
       "    <tr style=\"text-align: right;\">\n",
       "      <th></th>\n",
       "      <th>price1</th>\n",
       "      <th>price2</th>\n",
       "    </tr>\n",
       "    <tr>\n",
       "      <th>color</th>\n",
       "      <th></th>\n",
       "      <th></th>\n",
       "    </tr>\n",
       "  </thead>\n",
       "  <tbody>\n",
       "    <tr>\n",
       "      <th>green</th>\n",
       "      <td>2.025</td>\n",
       "      <td>2.375</td>\n",
       "    </tr>\n",
       "    <tr>\n",
       "      <th>red</th>\n",
       "      <td>2.380</td>\n",
       "      <td>2.435</td>\n",
       "    </tr>\n",
       "    <tr>\n",
       "      <th>white</th>\n",
       "      <td>5.560</td>\n",
       "      <td>4.750</td>\n",
       "    </tr>\n",
       "  </tbody>\n",
       "</table>\n",
       "</div>"
      ],
      "text/plain": [
       "       price1  price2\n",
       "color                \n",
       "green   2.025   2.375\n",
       "red     2.380   2.435\n",
       "white   5.560   4.750"
      ]
     },
     "execution_count": 526,
     "metadata": {},
     "output_type": "execute_result"
    }
   ],
   "source": [
    "frame[['price1','price2']].groupby(frame['color']).mean()"
   ]
  },
  {
   "cell_type": "code",
   "execution_count": 527,
   "id": "57a75b26-0614-41ff-8eac-5dd1da570c4c",
   "metadata": {},
   "outputs": [
    {
     "data": {
      "text/html": [
       "<div>\n",
       "<style scoped>\n",
       "    .dataframe tbody tr th:only-of-type {\n",
       "        vertical-align: middle;\n",
       "    }\n",
       "\n",
       "    .dataframe tbody tr th {\n",
       "        vertical-align: top;\n",
       "    }\n",
       "\n",
       "    .dataframe thead th {\n",
       "        text-align: right;\n",
       "    }\n",
       "</style>\n",
       "<table border=\"1\" class=\"dataframe\">\n",
       "  <thead>\n",
       "    <tr style=\"text-align: right;\">\n",
       "      <th></th>\n",
       "      <th>price1</th>\n",
       "      <th>price2</th>\n",
       "    </tr>\n",
       "    <tr>\n",
       "      <th>color</th>\n",
       "      <th></th>\n",
       "      <th></th>\n",
       "    </tr>\n",
       "  </thead>\n",
       "  <tbody>\n",
       "    <tr>\n",
       "      <th>green</th>\n",
       "      <td>2.025</td>\n",
       "      <td>2.375</td>\n",
       "    </tr>\n",
       "    <tr>\n",
       "      <th>red</th>\n",
       "      <td>2.380</td>\n",
       "      <td>2.435</td>\n",
       "    </tr>\n",
       "    <tr>\n",
       "      <th>white</th>\n",
       "      <td>5.560</td>\n",
       "      <td>4.750</td>\n",
       "    </tr>\n",
       "  </tbody>\n",
       "</table>\n",
       "</div>"
      ],
      "text/plain": [
       "       price1  price2\n",
       "color                \n",
       "green   2.025   2.375\n",
       "red     2.380   2.435\n",
       "white   5.560   4.750"
      ]
     },
     "execution_count": 527,
     "metadata": {},
     "output_type": "execute_result"
    }
   ],
   "source": [
    "frame[['price1','price2']].groupby(frame['color']).mean()"
   ]
  },
  {
   "cell_type": "markdown",
   "id": "1ad5cc07-9f42-45b3-8816-d35b329d4478",
   "metadata": {},
   "source": [
    "# Group Iteration:\n",
    "The __GroupBy__ object supports the operation of an iteration for generating a sequence of 2-tuples containing the name of the group together with the data portion."
   ]
  },
  {
   "cell_type": "code",
   "execution_count": 528,
   "id": "3ab4becb-96c6-4827-be34-6ca453db061c",
   "metadata": {},
   "outputs": [
    {
     "name": "stdout",
     "output_type": "stream",
     "text": [
      "green\n",
      "   color  object  price1  price2\n",
      "2  green  pencil    1.30    1.60\n",
      "4  green     pen    2.75    3.15\n",
      "red\n",
      "  color   object  price1  price2\n",
      "1   red   pencil    4.20    4.12\n",
      "3   red  ashtray    0.56    0.75\n",
      "white\n",
      "   color object  price1  price2\n",
      "0  white    pen    5.56    4.75\n"
     ]
    }
   ],
   "source": [
    "for name, group in frame.groupby('color'):\n",
    "    print (name)\n",
    "    print (group)"
   ]
  },
  {
   "cell_type": "markdown",
   "id": "d3c4fd89-fd7b-426e-8920-e1950627f057",
   "metadata": {},
   "source": [
    "In the example you have seen, you only applied the print variable for illustration. In fact, you replace the printing operation of a variable with the function to be applied on it."
   ]
  },
  {
   "cell_type": "markdown",
   "id": "f3263f9a-7314-4814-97d1-7ab010ae5727",
   "metadata": {},
   "source": [
    "### Chain of Transformation:\n",
    "From these examples you have seen that for each grouping, when subjected to some function calculations or other operations in general, regardless of how it was obtained and selection criteria, the result will be a data structure Series (if we selected a single column data) or a DataFrame, which then retains the index system and the name of the columns."
   ]
  },
  {
   "cell_type": "code",
   "execution_count": 529,
   "id": "14bce5cd-c5d0-47f5-a43b-188c780dcd0b",
   "metadata": {},
   "outputs": [],
   "source": [
    "result1 = frame['price1'].groupby(frame['color']).mean()"
   ]
  },
  {
   "cell_type": "code",
   "execution_count": 530,
   "id": "60278fef-ee67-4607-aa5f-e258d9b3709a",
   "metadata": {},
   "outputs": [
    {
     "data": {
      "text/plain": [
       "pandas.core.series.Series"
      ]
     },
     "execution_count": 530,
     "metadata": {},
     "output_type": "execute_result"
    }
   ],
   "source": [
    "type(result1)"
   ]
  },
  {
   "cell_type": "code",
   "execution_count": 531,
   "id": "c8a0a373-71b1-456b-a75f-56fe647ff7be",
   "metadata": {},
   "outputs": [
    {
     "data": {
      "text/plain": [
       "color\n",
       "green    2.025\n",
       "red      2.380\n",
       "white    5.560\n",
       "Name: price1, dtype: float64"
      ]
     },
     "execution_count": 531,
     "metadata": {},
     "output_type": "execute_result"
    }
   ],
   "source": [
    "result1 #Series"
   ]
  },
  {
   "cell_type": "code",
   "execution_count": 532,
   "id": "bf9ff515-1971-4862-b9c8-330dafaefd02",
   "metadata": {},
   "outputs": [],
   "source": [
    "result2 = frame[['price1', 'price2']].groupby(frame['color']).mean()"
   ]
  },
  {
   "cell_type": "code",
   "execution_count": 533,
   "id": "b286ed80-1423-4f1e-b2ef-b9437f398339",
   "metadata": {},
   "outputs": [
    {
     "data": {
      "text/plain": [
       "pandas.core.frame.DataFrame"
      ]
     },
     "execution_count": 533,
     "metadata": {},
     "output_type": "execute_result"
    }
   ],
   "source": [
    "type(result2)"
   ]
  },
  {
   "cell_type": "code",
   "execution_count": 534,
   "id": "9888189d-1239-48ef-b800-a551148b5ba5",
   "metadata": {},
   "outputs": [
    {
     "data": {
      "text/html": [
       "<div>\n",
       "<style scoped>\n",
       "    .dataframe tbody tr th:only-of-type {\n",
       "        vertical-align: middle;\n",
       "    }\n",
       "\n",
       "    .dataframe tbody tr th {\n",
       "        vertical-align: top;\n",
       "    }\n",
       "\n",
       "    .dataframe thead th {\n",
       "        text-align: right;\n",
       "    }\n",
       "</style>\n",
       "<table border=\"1\" class=\"dataframe\">\n",
       "  <thead>\n",
       "    <tr style=\"text-align: right;\">\n",
       "      <th></th>\n",
       "      <th>price1</th>\n",
       "      <th>price2</th>\n",
       "    </tr>\n",
       "    <tr>\n",
       "      <th>color</th>\n",
       "      <th></th>\n",
       "      <th></th>\n",
       "    </tr>\n",
       "  </thead>\n",
       "  <tbody>\n",
       "    <tr>\n",
       "      <th>green</th>\n",
       "      <td>2.025</td>\n",
       "      <td>2.375</td>\n",
       "    </tr>\n",
       "    <tr>\n",
       "      <th>red</th>\n",
       "      <td>2.380</td>\n",
       "      <td>2.435</td>\n",
       "    </tr>\n",
       "    <tr>\n",
       "      <th>white</th>\n",
       "      <td>5.560</td>\n",
       "      <td>4.750</td>\n",
       "    </tr>\n",
       "  </tbody>\n",
       "</table>\n",
       "</div>"
      ],
      "text/plain": [
       "       price1  price2\n",
       "color                \n",
       "green   2.025   2.375\n",
       "red     2.380   2.435\n",
       "white   5.560   4.750"
      ]
     },
     "execution_count": 534,
     "metadata": {},
     "output_type": "execute_result"
    }
   ],
   "source": [
    "result2 #DataFrame"
   ]
  },
  {
   "cell_type": "markdown",
   "id": "acb5a9c4-1a8e-467b-b3eb-c511eed5ff88",
   "metadata": {},
   "source": [
    "So it is possible to select a single column at any point in the various phases of this process. Here are three cases in which the selection of a single column in three different stages of the process applies. This example illustrates the great flexability of this system of grouping peovided by pandas."
   ]
  },
  {
   "cell_type": "code",
   "execution_count": 535,
   "id": "8817ec52-1aa6-4cee-95d7-a0bf667c4042",
   "metadata": {},
   "outputs": [
    {
     "data": {
      "text/plain": [
       "color\n",
       "green    2.025\n",
       "red      2.380\n",
       "white    5.560\n",
       "Name: price1, dtype: float64"
      ]
     },
     "execution_count": 535,
     "metadata": {},
     "output_type": "execute_result"
    }
   ],
   "source": [
    "frame['price1'].groupby(frame['color']).mean()"
   ]
  },
  {
   "cell_type": "code",
   "execution_count": 536,
   "id": "8e46b90a-a59f-4fef-888a-5f0406456273",
   "metadata": {},
   "outputs": [
    {
     "data": {
      "text/plain": [
       "color\n",
       "green    2.025\n",
       "red      2.380\n",
       "white    5.560\n",
       "Name: price1, dtype: float64"
      ]
     },
     "execution_count": 536,
     "metadata": {},
     "output_type": "execute_result"
    }
   ],
   "source": [
    "frame.groupby(frame['color'])['price1'].mean()"
   ]
  },
  {
   "cell_type": "markdown",
   "id": "e12b48fd-2179-447b-8bb9-0ee4d60ea659",
   "metadata": {},
   "source": [
    "In addition, after an operation of aggregation the names of some columns may not be very meaningful in certain cases. In fact it is often useful to add a prefix to the column name that describes the type of business combination.  \n",
    "Adding a prefix, instead of completely replacing the name, is very useful for keeping track of the source data from which they are derived aggregated values.  \n",
    "This is important if you apply a process of transfromation chain (a series of DataFrame is generated from each other) in which it is important to somehow keep some reference with the source data."
   ]
  },
  {
   "cell_type": "code",
   "execution_count": 537,
   "id": "03c91e04-e507-49c9-892a-58e6430b8c00",
   "metadata": {},
   "outputs": [
    {
     "data": {
      "text/html": [
       "<div>\n",
       "<style scoped>\n",
       "    .dataframe tbody tr th:only-of-type {\n",
       "        vertical-align: middle;\n",
       "    }\n",
       "\n",
       "    .dataframe tbody tr th {\n",
       "        vertical-align: top;\n",
       "    }\n",
       "\n",
       "    .dataframe thead th {\n",
       "        text-align: right;\n",
       "    }\n",
       "</style>\n",
       "<table border=\"1\" class=\"dataframe\">\n",
       "  <thead>\n",
       "    <tr style=\"text-align: right;\">\n",
       "      <th></th>\n",
       "      <th>color</th>\n",
       "      <th>object</th>\n",
       "      <th>price1</th>\n",
       "      <th>price2</th>\n",
       "    </tr>\n",
       "  </thead>\n",
       "  <tbody>\n",
       "    <tr>\n",
       "      <th>0</th>\n",
       "      <td>white</td>\n",
       "      <td>pen</td>\n",
       "      <td>5.56</td>\n",
       "      <td>4.75</td>\n",
       "    </tr>\n",
       "    <tr>\n",
       "      <th>1</th>\n",
       "      <td>red</td>\n",
       "      <td>pencil</td>\n",
       "      <td>4.20</td>\n",
       "      <td>4.12</td>\n",
       "    </tr>\n",
       "    <tr>\n",
       "      <th>2</th>\n",
       "      <td>green</td>\n",
       "      <td>pencil</td>\n",
       "      <td>1.30</td>\n",
       "      <td>1.60</td>\n",
       "    </tr>\n",
       "    <tr>\n",
       "      <th>3</th>\n",
       "      <td>red</td>\n",
       "      <td>ashtray</td>\n",
       "      <td>0.56</td>\n",
       "      <td>0.75</td>\n",
       "    </tr>\n",
       "    <tr>\n",
       "      <th>4</th>\n",
       "      <td>green</td>\n",
       "      <td>pen</td>\n",
       "      <td>2.75</td>\n",
       "      <td>3.15</td>\n",
       "    </tr>\n",
       "  </tbody>\n",
       "</table>\n",
       "</div>"
      ],
      "text/plain": [
       "   color   object  price1  price2\n",
       "0  white      pen    5.56    4.75\n",
       "1    red   pencil    4.20    4.12\n",
       "2  green   pencil    1.30    1.60\n",
       "3    red  ashtray    0.56    0.75\n",
       "4  green      pen    2.75    3.15"
      ]
     },
     "execution_count": 537,
     "metadata": {},
     "output_type": "execute_result"
    }
   ],
   "source": [
    "frame"
   ]
  },
  {
   "cell_type": "code",
   "execution_count": 538,
   "id": "64f2f731-9130-4826-ad57-289318d97edc",
   "metadata": {},
   "outputs": [],
   "source": [
    "means = frame.groupby(frame['color'])[['price1','price2']].mean().add_prefix('mean_')"
   ]
  },
  {
   "cell_type": "code",
   "execution_count": 539,
   "id": "ad6b8699-60a2-4033-8788-028f46e74a4d",
   "metadata": {},
   "outputs": [
    {
     "data": {
      "text/html": [
       "<div>\n",
       "<style scoped>\n",
       "    .dataframe tbody tr th:only-of-type {\n",
       "        vertical-align: middle;\n",
       "    }\n",
       "\n",
       "    .dataframe tbody tr th {\n",
       "        vertical-align: top;\n",
       "    }\n",
       "\n",
       "    .dataframe thead th {\n",
       "        text-align: right;\n",
       "    }\n",
       "</style>\n",
       "<table border=\"1\" class=\"dataframe\">\n",
       "  <thead>\n",
       "    <tr style=\"text-align: right;\">\n",
       "      <th></th>\n",
       "      <th>mean_price1</th>\n",
       "      <th>mean_price2</th>\n",
       "    </tr>\n",
       "    <tr>\n",
       "      <th>color</th>\n",
       "      <th></th>\n",
       "      <th></th>\n",
       "    </tr>\n",
       "  </thead>\n",
       "  <tbody>\n",
       "    <tr>\n",
       "      <th>green</th>\n",
       "      <td>2.025</td>\n",
       "      <td>2.375</td>\n",
       "    </tr>\n",
       "    <tr>\n",
       "      <th>red</th>\n",
       "      <td>2.380</td>\n",
       "      <td>2.435</td>\n",
       "    </tr>\n",
       "    <tr>\n",
       "      <th>white</th>\n",
       "      <td>5.560</td>\n",
       "      <td>4.750</td>\n",
       "    </tr>\n",
       "  </tbody>\n",
       "</table>\n",
       "</div>"
      ],
      "text/plain": [
       "       mean_price1  mean_price2\n",
       "color                          \n",
       "green        2.025        2.375\n",
       "red          2.380        2.435\n",
       "white        5.560        4.750"
      ]
     },
     "execution_count": 539,
     "metadata": {},
     "output_type": "execute_result"
    }
   ],
   "source": [
    "means"
   ]
  },
  {
   "cell_type": "markdown",
   "id": "9742495b-204f-42eb-a5c5-7bd22ff63132",
   "metadata": {},
   "source": [
    "### Functions of Groups:\n",
    "Although many methods have not been implemented specifically for use with __GroupBy__, they actually work correctly with data structures as the Series. You saw in the previous section how easy it is to get the Series by a GroupBy object, specifying the name of the column and then by applying the method to make the calculation.  \n",
    "For example, you can use the calculation quantiles with the __quantiles()__ function. "
   ]
  },
  {
   "cell_type": "code",
   "execution_count": 540,
   "id": "4c9ac2ca-ffdd-4dae-86bd-f0f2933d56b8",
   "metadata": {},
   "outputs": [],
   "source": [
    "group = frame.groupby('color')"
   ]
  },
  {
   "cell_type": "code",
   "execution_count": 541,
   "id": "e1c5c8f7-a47c-4d49-838b-2f2d83de64ff",
   "metadata": {},
   "outputs": [
    {
     "data": {
      "text/plain": [
       "color\n",
       "green    2.170\n",
       "red      2.744\n",
       "white    5.560\n",
       "Name: price1, dtype: float64"
      ]
     },
     "execution_count": 541,
     "metadata": {},
     "output_type": "execute_result"
    }
   ],
   "source": [
    "group['price1'].quantile(0.6)"
   ]
  },
  {
   "cell_type": "markdown",
   "id": "dfc02931-ef55-41a6-af4d-4bca5386b80e",
   "metadata": {},
   "source": [
    "You can also define their own aggregation functions. Define the function separately and then you pass as an argument to the __mark()__ function.  \n",
    "For example, you could calculate the range of values of each group."
   ]
  },
  {
   "cell_type": "code",
   "execution_count": 542,
   "id": "77234c1b-c0d1-4e1d-b99a-4edc119fec4e",
   "metadata": {},
   "outputs": [],
   "source": [
    "def range(series):\n",
    "    return series.max() - series.min()\n",
    "    "
   ]
  },
  {
   "cell_type": "code",
   "execution_count": 543,
   "id": "af822420-5bf1-41a1-9877-a837bf19b092",
   "metadata": {},
   "outputs": [
    {
     "data": {
      "text/plain": [
       "color\n",
       "green    1.45\n",
       "red      3.64\n",
       "white    0.00\n",
       "Name: price1, dtype: float64"
      ]
     },
     "execution_count": 543,
     "metadata": {},
     "output_type": "execute_result"
    }
   ],
   "source": [
    "group['price1'].agg(range)"
   ]
  },
  {
   "cell_type": "markdown",
   "id": "c081ca0a-d5a1-470c-8c2e-c306f5e6c42c",
   "metadata": {},
   "source": [
    "The __agg()__ function allows you to use aggregate functions on an entire DataFrame."
   ]
  },
  {
   "cell_type": "code",
   "execution_count": 544,
   "id": "113d1016-ea0a-4601-9e81-1be8eedfcabc",
   "metadata": {},
   "outputs": [
    {
     "data": {
      "text/html": [
       "<div>\n",
       "<style scoped>\n",
       "    .dataframe tbody tr th:only-of-type {\n",
       "        vertical-align: middle;\n",
       "    }\n",
       "\n",
       "    .dataframe tbody tr th {\n",
       "        vertical-align: top;\n",
       "    }\n",
       "\n",
       "    .dataframe thead th {\n",
       "        text-align: right;\n",
       "    }\n",
       "</style>\n",
       "<table border=\"1\" class=\"dataframe\">\n",
       "  <thead>\n",
       "    <tr style=\"text-align: right;\">\n",
       "      <th></th>\n",
       "      <th>price1</th>\n",
       "      <th>price2</th>\n",
       "    </tr>\n",
       "    <tr>\n",
       "      <th>color</th>\n",
       "      <th></th>\n",
       "      <th></th>\n",
       "    </tr>\n",
       "  </thead>\n",
       "  <tbody>\n",
       "    <tr>\n",
       "      <th>green</th>\n",
       "      <td>1.45</td>\n",
       "      <td>1.55</td>\n",
       "    </tr>\n",
       "    <tr>\n",
       "      <th>red</th>\n",
       "      <td>3.64</td>\n",
       "      <td>3.37</td>\n",
       "    </tr>\n",
       "    <tr>\n",
       "      <th>white</th>\n",
       "      <td>0.00</td>\n",
       "      <td>0.00</td>\n",
       "    </tr>\n",
       "  </tbody>\n",
       "</table>\n",
       "</div>"
      ],
      "text/plain": [
       "       price1  price2\n",
       "color                \n",
       "green    1.45    1.55\n",
       "red      3.64    3.37\n",
       "white    0.00    0.00"
      ]
     },
     "execution_count": 544,
     "metadata": {},
     "output_type": "execute_result"
    }
   ],
   "source": [
    "group[['price1','price2']].agg(range)"
   ]
  },
  {
   "cell_type": "markdown",
   "id": "dbd7061d-3165-4c94-8018-75ef75e3ee55",
   "metadata": {},
   "source": [
    "Also you can use more aggregate functions at the same time always with the __mark()__ function passing an array containing the list of operations to be done, which will become the new columns."
   ]
  },
  {
   "cell_type": "code",
   "execution_count": 545,
   "id": "433b8fe3-5103-4490-ad9b-70b161166a91",
   "metadata": {},
   "outputs": [
    {
     "data": {
      "text/html": [
       "<div>\n",
       "<style scoped>\n",
       "    .dataframe tbody tr th:only-of-type {\n",
       "        vertical-align: middle;\n",
       "    }\n",
       "\n",
       "    .dataframe tbody tr th {\n",
       "        vertical-align: top;\n",
       "    }\n",
       "\n",
       "    .dataframe thead th {\n",
       "        text-align: right;\n",
       "    }\n",
       "</style>\n",
       "<table border=\"1\" class=\"dataframe\">\n",
       "  <thead>\n",
       "    <tr style=\"text-align: right;\">\n",
       "      <th></th>\n",
       "      <th>mean</th>\n",
       "      <th>std</th>\n",
       "      <th>range</th>\n",
       "    </tr>\n",
       "    <tr>\n",
       "      <th>color</th>\n",
       "      <th></th>\n",
       "      <th></th>\n",
       "      <th></th>\n",
       "    </tr>\n",
       "  </thead>\n",
       "  <tbody>\n",
       "    <tr>\n",
       "      <th>green</th>\n",
       "      <td>2.025</td>\n",
       "      <td>1.025305</td>\n",
       "      <td>1.45</td>\n",
       "    </tr>\n",
       "    <tr>\n",
       "      <th>red</th>\n",
       "      <td>2.380</td>\n",
       "      <td>2.573869</td>\n",
       "      <td>3.64</td>\n",
       "    </tr>\n",
       "    <tr>\n",
       "      <th>white</th>\n",
       "      <td>5.560</td>\n",
       "      <td>NaN</td>\n",
       "      <td>0.00</td>\n",
       "    </tr>\n",
       "  </tbody>\n",
       "</table>\n",
       "</div>"
      ],
      "text/plain": [
       "        mean       std  range\n",
       "color                        \n",
       "green  2.025  1.025305   1.45\n",
       "red    2.380  2.573869   3.64\n",
       "white  5.560       NaN   0.00"
      ]
     },
     "execution_count": 545,
     "metadata": {},
     "output_type": "execute_result"
    }
   ],
   "source": [
    "group['price1'].agg(['mean','std',range])"
   ]
  },
  {
   "cell_type": "code",
   "execution_count": 546,
   "id": "a42dc577-a6cf-40e9-be4a-22dae77072af",
   "metadata": {},
   "outputs": [
    {
     "data": {
      "text/html": [
       "<div>\n",
       "<style scoped>\n",
       "    .dataframe tbody tr th:only-of-type {\n",
       "        vertical-align: middle;\n",
       "    }\n",
       "\n",
       "    .dataframe tbody tr th {\n",
       "        vertical-align: top;\n",
       "    }\n",
       "\n",
       "    .dataframe thead tr th {\n",
       "        text-align: left;\n",
       "    }\n",
       "\n",
       "    .dataframe thead tr:last-of-type th {\n",
       "        text-align: right;\n",
       "    }\n",
       "</style>\n",
       "<table border=\"1\" class=\"dataframe\">\n",
       "  <thead>\n",
       "    <tr>\n",
       "      <th></th>\n",
       "      <th colspan=\"3\" halign=\"left\">price1</th>\n",
       "      <th colspan=\"3\" halign=\"left\">price2</th>\n",
       "    </tr>\n",
       "    <tr>\n",
       "      <th></th>\n",
       "      <th>mean</th>\n",
       "      <th>std</th>\n",
       "      <th>range</th>\n",
       "      <th>mean</th>\n",
       "      <th>std</th>\n",
       "      <th>range</th>\n",
       "    </tr>\n",
       "    <tr>\n",
       "      <th>color</th>\n",
       "      <th></th>\n",
       "      <th></th>\n",
       "      <th></th>\n",
       "      <th></th>\n",
       "      <th></th>\n",
       "      <th></th>\n",
       "    </tr>\n",
       "  </thead>\n",
       "  <tbody>\n",
       "    <tr>\n",
       "      <th>green</th>\n",
       "      <td>2.025</td>\n",
       "      <td>1.025305</td>\n",
       "      <td>1.45</td>\n",
       "      <td>2.375</td>\n",
       "      <td>1.096016</td>\n",
       "      <td>1.55</td>\n",
       "    </tr>\n",
       "    <tr>\n",
       "      <th>red</th>\n",
       "      <td>2.380</td>\n",
       "      <td>2.573869</td>\n",
       "      <td>3.64</td>\n",
       "      <td>2.435</td>\n",
       "      <td>2.382950</td>\n",
       "      <td>3.37</td>\n",
       "    </tr>\n",
       "    <tr>\n",
       "      <th>white</th>\n",
       "      <td>5.560</td>\n",
       "      <td>NaN</td>\n",
       "      <td>0.00</td>\n",
       "      <td>4.750</td>\n",
       "      <td>NaN</td>\n",
       "      <td>0.00</td>\n",
       "    </tr>\n",
       "  </tbody>\n",
       "</table>\n",
       "</div>"
      ],
      "text/plain": [
       "      price1                 price2                \n",
       "        mean       std range   mean       std range\n",
       "color                                              \n",
       "green  2.025  1.025305  1.45  2.375  1.096016  1.55\n",
       "red    2.380  2.573869  3.64  2.435  2.382950  3.37\n",
       "white  5.560       NaN  0.00  4.750       NaN  0.00"
      ]
     },
     "execution_count": 546,
     "metadata": {},
     "output_type": "execute_result"
    }
   ],
   "source": [
    "group[['price1','price2']].agg(['mean','std',range])"
   ]
  },
  {
   "cell_type": "markdown",
   "id": "abaa5c9b-9e35-4dfe-a210-b6d4abb8621a",
   "metadata": {},
   "source": [
    "# Advanced Data Aggregation:\n",
    "In this section you will introduced to __transformation()__ and __apply()__ functions, which will allow you to perform many kinds of group operations, some very complex.  \n",
    "Now suppose we wnat to bring together the same DataFrame the following:  \n",
    "(i) The DataFrame of origin (the one containing the data).  \n",
    "(ii) That obtained by the calculation of group aggregation, for example, the sum. "
   ]
  },
  {
   "cell_type": "code",
   "execution_count": 547,
   "id": "a20d54a8-4dba-45f2-b857-ef0cf52ad3cd",
   "metadata": {},
   "outputs": [],
   "source": [
    "frame = pd.DataFrame({ 'color':['white','red','green','red','green'],\n",
    "... 'price1':[5.56,4.20,1.30,0.56,2.75],\n",
    "... 'price2':[4.75,4.12,1.60,0.75,3.15]})"
   ]
  },
  {
   "cell_type": "code",
   "execution_count": 548,
   "id": "3b730f03-abed-41a6-b8aa-45ddf139cf1c",
   "metadata": {},
   "outputs": [
    {
     "data": {
      "text/html": [
       "<div>\n",
       "<style scoped>\n",
       "    .dataframe tbody tr th:only-of-type {\n",
       "        vertical-align: middle;\n",
       "    }\n",
       "\n",
       "    .dataframe tbody tr th {\n",
       "        vertical-align: top;\n",
       "    }\n",
       "\n",
       "    .dataframe thead th {\n",
       "        text-align: right;\n",
       "    }\n",
       "</style>\n",
       "<table border=\"1\" class=\"dataframe\">\n",
       "  <thead>\n",
       "    <tr style=\"text-align: right;\">\n",
       "      <th></th>\n",
       "      <th>color</th>\n",
       "      <th>price1</th>\n",
       "      <th>price2</th>\n",
       "    </tr>\n",
       "  </thead>\n",
       "  <tbody>\n",
       "    <tr>\n",
       "      <th>0</th>\n",
       "      <td>white</td>\n",
       "      <td>5.56</td>\n",
       "      <td>4.75</td>\n",
       "    </tr>\n",
       "    <tr>\n",
       "      <th>1</th>\n",
       "      <td>red</td>\n",
       "      <td>4.20</td>\n",
       "      <td>4.12</td>\n",
       "    </tr>\n",
       "    <tr>\n",
       "      <th>2</th>\n",
       "      <td>green</td>\n",
       "      <td>1.30</td>\n",
       "      <td>1.60</td>\n",
       "    </tr>\n",
       "    <tr>\n",
       "      <th>3</th>\n",
       "      <td>red</td>\n",
       "      <td>0.56</td>\n",
       "      <td>0.75</td>\n",
       "    </tr>\n",
       "    <tr>\n",
       "      <th>4</th>\n",
       "      <td>green</td>\n",
       "      <td>2.75</td>\n",
       "      <td>3.15</td>\n",
       "    </tr>\n",
       "  </tbody>\n",
       "</table>\n",
       "</div>"
      ],
      "text/plain": [
       "   color  price1  price2\n",
       "0  white    5.56    4.75\n",
       "1    red    4.20    4.12\n",
       "2  green    1.30    1.60\n",
       "3    red    0.56    0.75\n",
       "4  green    2.75    3.15"
      ]
     },
     "execution_count": 548,
     "metadata": {},
     "output_type": "execute_result"
    }
   ],
   "source": [
    "frame"
   ]
  },
  {
   "cell_type": "code",
   "execution_count": 549,
   "id": "1189d72a-45da-407b-8719-9f4c028186f6",
   "metadata": {},
   "outputs": [],
   "source": [
    "sums = frame.groupby(frame['color']).sum().add_prefix('tot_')"
   ]
  },
  {
   "cell_type": "code",
   "execution_count": 550,
   "id": "07021fd8-df2c-4119-9d8c-6218d145196d",
   "metadata": {},
   "outputs": [
    {
     "data": {
      "text/html": [
       "<div>\n",
       "<style scoped>\n",
       "    .dataframe tbody tr th:only-of-type {\n",
       "        vertical-align: middle;\n",
       "    }\n",
       "\n",
       "    .dataframe tbody tr th {\n",
       "        vertical-align: top;\n",
       "    }\n",
       "\n",
       "    .dataframe thead th {\n",
       "        text-align: right;\n",
       "    }\n",
       "</style>\n",
       "<table border=\"1\" class=\"dataframe\">\n",
       "  <thead>\n",
       "    <tr style=\"text-align: right;\">\n",
       "      <th></th>\n",
       "      <th>tot_price1</th>\n",
       "      <th>tot_price2</th>\n",
       "    </tr>\n",
       "    <tr>\n",
       "      <th>color</th>\n",
       "      <th></th>\n",
       "      <th></th>\n",
       "    </tr>\n",
       "  </thead>\n",
       "  <tbody>\n",
       "    <tr>\n",
       "      <th>green</th>\n",
       "      <td>4.05</td>\n",
       "      <td>4.75</td>\n",
       "    </tr>\n",
       "    <tr>\n",
       "      <th>red</th>\n",
       "      <td>4.76</td>\n",
       "      <td>4.87</td>\n",
       "    </tr>\n",
       "    <tr>\n",
       "      <th>white</th>\n",
       "      <td>5.56</td>\n",
       "      <td>4.75</td>\n",
       "    </tr>\n",
       "  </tbody>\n",
       "</table>\n",
       "</div>"
      ],
      "text/plain": [
       "       tot_price1  tot_price2\n",
       "color                        \n",
       "green        4.05        4.75\n",
       "red          4.76        4.87\n",
       "white        5.56        4.75"
      ]
     },
     "execution_count": 550,
     "metadata": {},
     "output_type": "execute_result"
    }
   ],
   "source": [
    "sums"
   ]
  },
  {
   "cell_type": "code",
   "execution_count": 551,
   "id": "d2a28608-35e3-4f23-8adf-e81883162e9a",
   "metadata": {},
   "outputs": [],
   "source": [
    "sums = frame.groupby(frame['color'])['price1'].sum().add_prefix('tot_')"
   ]
  },
  {
   "cell_type": "code",
   "execution_count": 552,
   "id": "2951d1ad-f0d6-4287-afd7-2e94a0e83893",
   "metadata": {},
   "outputs": [
    {
     "data": {
      "text/plain": [
       "color\n",
       "tot_green    4.05\n",
       "tot_red      4.76\n",
       "tot_white    5.56\n",
       "Name: price1, dtype: float64"
      ]
     },
     "execution_count": 552,
     "metadata": {},
     "output_type": "execute_result"
    }
   ],
   "source": [
    "sums"
   ]
  },
  {
   "cell_type": "code",
   "execution_count": 553,
   "id": "1bcdebe6-d26d-47b7-bc8e-766c7f71fe65",
   "metadata": {},
   "outputs": [],
   "source": [
    "sums = frame.groupby(frame['color'])['price1'].sum().rename('tot_price1').reset_index()"
   ]
  },
  {
   "cell_type": "code",
   "execution_count": 554,
   "id": "cd59af4d-4796-47ec-831c-db5dac9c8799",
   "metadata": {},
   "outputs": [
    {
     "data": {
      "text/html": [
       "<div>\n",
       "<style scoped>\n",
       "    .dataframe tbody tr th:only-of-type {\n",
       "        vertical-align: middle;\n",
       "    }\n",
       "\n",
       "    .dataframe tbody tr th {\n",
       "        vertical-align: top;\n",
       "    }\n",
       "\n",
       "    .dataframe thead th {\n",
       "        text-align: right;\n",
       "    }\n",
       "</style>\n",
       "<table border=\"1\" class=\"dataframe\">\n",
       "  <thead>\n",
       "    <tr style=\"text-align: right;\">\n",
       "      <th></th>\n",
       "      <th>color</th>\n",
       "      <th>tot_price1</th>\n",
       "    </tr>\n",
       "  </thead>\n",
       "  <tbody>\n",
       "    <tr>\n",
       "      <th>0</th>\n",
       "      <td>green</td>\n",
       "      <td>4.05</td>\n",
       "    </tr>\n",
       "    <tr>\n",
       "      <th>1</th>\n",
       "      <td>red</td>\n",
       "      <td>4.76</td>\n",
       "    </tr>\n",
       "    <tr>\n",
       "      <th>2</th>\n",
       "      <td>white</td>\n",
       "      <td>5.56</td>\n",
       "    </tr>\n",
       "  </tbody>\n",
       "</table>\n",
       "</div>"
      ],
      "text/plain": [
       "   color  tot_price1\n",
       "0  green        4.05\n",
       "1    red        4.76\n",
       "2  white        5.56"
      ]
     },
     "execution_count": 554,
     "metadata": {},
     "output_type": "execute_result"
    }
   ],
   "source": [
    "sums"
   ]
  },
  {
   "cell_type": "code",
   "execution_count": 555,
   "id": "1e4245c6-8128-4ea8-ad17-c28a3f0a5f27",
   "metadata": {},
   "outputs": [
    {
     "name": "stdout",
     "output_type": "stream",
     "text": [
      "color  tot_price1\n",
      "green        4.05\n",
      "  red        4.76\n",
      "white        5.56\n"
     ]
    }
   ],
   "source": [
    "print(sums.to_string(index=False))"
   ]
  },
  {
   "cell_type": "code",
   "execution_count": 556,
   "id": "1721e897-78c6-4f79-8b05-8d461c4c8961",
   "metadata": {},
   "outputs": [
    {
     "data": {
      "text/html": [
       "<div>\n",
       "<style scoped>\n",
       "    .dataframe tbody tr th:only-of-type {\n",
       "        vertical-align: middle;\n",
       "    }\n",
       "\n",
       "    .dataframe tbody tr th {\n",
       "        vertical-align: top;\n",
       "    }\n",
       "\n",
       "    .dataframe thead th {\n",
       "        text-align: right;\n",
       "    }\n",
       "</style>\n",
       "<table border=\"1\" class=\"dataframe\">\n",
       "  <thead>\n",
       "    <tr style=\"text-align: right;\">\n",
       "      <th></th>\n",
       "      <th>color</th>\n",
       "      <th>tot_price1</th>\n",
       "    </tr>\n",
       "  </thead>\n",
       "  <tbody>\n",
       "    <tr>\n",
       "      <th>0</th>\n",
       "      <td>green</td>\n",
       "      <td>4.05</td>\n",
       "    </tr>\n",
       "    <tr>\n",
       "      <th>1</th>\n",
       "      <td>red</td>\n",
       "      <td>4.76</td>\n",
       "    </tr>\n",
       "    <tr>\n",
       "      <th>2</th>\n",
       "      <td>white</td>\n",
       "      <td>5.56</td>\n",
       "    </tr>\n",
       "  </tbody>\n",
       "</table>\n",
       "</div>"
      ],
      "text/plain": [
       "   color  tot_price1\n",
       "0  green        4.05\n",
       "1    red        4.76\n",
       "2  white        5.56"
      ]
     },
     "execution_count": 556,
     "metadata": {},
     "output_type": "execute_result"
    }
   ],
   "source": [
    "sums"
   ]
  },
  {
   "cell_type": "code",
   "execution_count": 557,
   "id": "718c2e9f-59ff-4775-9f7d-b18b6e134685",
   "metadata": {},
   "outputs": [],
   "source": [
    "tot_price1 = frame.groupby('color')['price1'].sum().rename('tot_price1')"
   ]
  },
  {
   "cell_type": "code",
   "execution_count": 558,
   "id": "4efd22be-5d2b-4d70-9657-c5d9fae4fd97",
   "metadata": {},
   "outputs": [],
   "source": [
    "tot_price2 = frame.groupby('color')['price2'].sum().rename('tot_price2')"
   ]
  },
  {
   "cell_type": "code",
   "execution_count": 559,
   "id": "6187635c-20da-4af9-bb3a-18839e63abe3",
   "metadata": {},
   "outputs": [
    {
     "data": {
      "text/html": [
       "<div>\n",
       "<style scoped>\n",
       "    .dataframe tbody tr th:only-of-type {\n",
       "        vertical-align: middle;\n",
       "    }\n",
       "\n",
       "    .dataframe tbody tr th {\n",
       "        vertical-align: top;\n",
       "    }\n",
       "\n",
       "    .dataframe thead th {\n",
       "        text-align: right;\n",
       "    }\n",
       "</style>\n",
       "<table border=\"1\" class=\"dataframe\">\n",
       "  <thead>\n",
       "    <tr style=\"text-align: right;\">\n",
       "      <th></th>\n",
       "      <th>color</th>\n",
       "      <th>tot_price1</th>\n",
       "    </tr>\n",
       "  </thead>\n",
       "  <tbody>\n",
       "    <tr>\n",
       "      <th>0</th>\n",
       "      <td>green</td>\n",
       "      <td>4.05</td>\n",
       "    </tr>\n",
       "    <tr>\n",
       "      <th>1</th>\n",
       "      <td>red</td>\n",
       "      <td>4.76</td>\n",
       "    </tr>\n",
       "    <tr>\n",
       "      <th>2</th>\n",
       "      <td>white</td>\n",
       "      <td>5.56</td>\n",
       "    </tr>\n",
       "  </tbody>\n",
       "</table>\n",
       "</div>"
      ],
      "text/plain": [
       "   color  tot_price1\n",
       "0  green        4.05\n",
       "1    red        4.76\n",
       "2  white        5.56"
      ]
     },
     "execution_count": 559,
     "metadata": {},
     "output_type": "execute_result"
    }
   ],
   "source": [
    "sums"
   ]
  },
  {
   "cell_type": "code",
   "execution_count": 560,
   "id": "f0c0f2d7-22cb-4955-8b64-9e88d1fb156b",
   "metadata": {},
   "outputs": [
    {
     "name": "stdout",
     "output_type": "stream",
     "text": [
      "   color  price1  price2  tot_price2\n",
      "0  white    5.56    4.75        4.75\n",
      "1    red    4.20    4.12        4.87\n",
      "3    red    0.56    0.75        4.87\n",
      "2  green    1.30    1.60        4.75\n",
      "4  green    2.75    3.15        4.75\n"
     ]
    }
   ],
   "source": [
    "result=pd.merge(frame,tot_price1,left_on='color',right_index=True)\n",
    "\n",
    "result=pd.merge(frame,tot_price2,left_on='color',right_index=True)\n",
    "\n",
    "print(result)"
   ]
  },
  {
   "cell_type": "code",
   "execution_count": 561,
   "id": "beb67332-eb2a-4355-9059-f69c0fa4d5ee",
   "metadata": {},
   "outputs": [
    {
     "name": "stdout",
     "output_type": "stream",
     "text": [
      "   color  price1  price2  tot_price1  tot_price2\n",
      "0  white    5.56    4.75        5.56        4.75\n",
      "1    red    4.20    4.12        4.76        4.87\n",
      "3    red    0.56    0.75        4.76        4.87\n",
      "2  green    1.30    1.60        4.05        4.75\n",
      "4  green    2.75    3.15        4.05        4.75\n"
     ]
    }
   ],
   "source": [
    "import pandas as pd\n",
    "\n",
    "# Original DataFrame\n",
    "frame = pd.DataFrame({\n",
    "    'color': ['white', 'red', 'green', 'red', 'green'],\n",
    "    'price1': [5.56, 4.20, 1.30, 0.56, 2.75],\n",
    "    'price2': [4.75, 4.12, 1.60, 0.75, 3.15]\n",
    "})\n",
    "\n",
    "# Group and calculate totals\n",
    "tot_price1 = frame.groupby('color')['price1'].sum().rename('tot_price1')\n",
    "tot_price2 = frame.groupby('color')['price2'].sum().rename('tot_price2')\n",
    "\n",
    "# Merge the first total\n",
    "result = pd.merge(frame, tot_price1, left_on='color', right_index=True)\n",
    "\n",
    "# Merge the second total\n",
    "result = pd.merge(result, tot_price2, left_on='color', right_index=True)\n",
    "\n",
    "print(result)\n"
   ]
  },
  {
   "cell_type": "markdown",
   "id": "c33f4f20-0266-4540-96dd-ccca08395287",
   "metadata": {},
   "source": [
    "So thanks to the __merge()__, you managed to add the results of a calculation of aggregation in each line of the DataFrame to start. But actually there is another way to do this type of operation. That is by using the __transform()__. This function performs the calculation of aggregation as you have seen before, but at the same time shows the values calculated based on the key value on each line of the DataFrame to start."
   ]
  },
  {
   "cell_type": "code",
   "execution_count": 562,
   "id": "a065e9a0-71b0-4699-9411-59d25671841c",
   "metadata": {},
   "outputs": [],
   "source": [
    "import numpy as np"
   ]
  },
  {
   "cell_type": "code",
   "execution_count": 563,
   "id": "ebd84e67-49df-4230-bc74-d0484d63bba1",
   "metadata": {},
   "outputs": [
    {
     "data": {
      "text/html": [
       "<div>\n",
       "<style scoped>\n",
       "    .dataframe tbody tr th:only-of-type {\n",
       "        vertical-align: middle;\n",
       "    }\n",
       "\n",
       "    .dataframe tbody tr th {\n",
       "        vertical-align: top;\n",
       "    }\n",
       "\n",
       "    .dataframe thead th {\n",
       "        text-align: right;\n",
       "    }\n",
       "</style>\n",
       "<table border=\"1\" class=\"dataframe\">\n",
       "  <thead>\n",
       "    <tr style=\"text-align: right;\">\n",
       "      <th></th>\n",
       "      <th>tot_price1</th>\n",
       "      <th>tot_price2</th>\n",
       "    </tr>\n",
       "  </thead>\n",
       "  <tbody>\n",
       "    <tr>\n",
       "      <th>0</th>\n",
       "      <td>5.56</td>\n",
       "      <td>4.75</td>\n",
       "    </tr>\n",
       "    <tr>\n",
       "      <th>1</th>\n",
       "      <td>4.76</td>\n",
       "      <td>4.87</td>\n",
       "    </tr>\n",
       "    <tr>\n",
       "      <th>2</th>\n",
       "      <td>4.05</td>\n",
       "      <td>4.75</td>\n",
       "    </tr>\n",
       "    <tr>\n",
       "      <th>3</th>\n",
       "      <td>4.76</td>\n",
       "      <td>4.87</td>\n",
       "    </tr>\n",
       "    <tr>\n",
       "      <th>4</th>\n",
       "      <td>4.05</td>\n",
       "      <td>4.75</td>\n",
       "    </tr>\n",
       "  </tbody>\n",
       "</table>\n",
       "</div>"
      ],
      "text/plain": [
       "   tot_price1  tot_price2\n",
       "0        5.56        4.75\n",
       "1        4.76        4.87\n",
       "2        4.05        4.75\n",
       "3        4.76        4.87\n",
       "4        4.05        4.75"
      ]
     },
     "execution_count": 563,
     "metadata": {},
     "output_type": "execute_result"
    }
   ],
   "source": [
    "frame.groupby('color').transform(np.sum).add_prefix('tot_')"
   ]
  },
  {
   "cell_type": "markdown",
   "id": "d0b76a92-4dd2-4438-ac26-fcfd92e88d2d",
   "metadata": {},
   "source": [
    "As you can see the __transform()__ method specialized function that has very specific requirements: the function passed as an argument must produce a single scalar value (aggrgation) to be broadcasted."
   ]
  },
  {
   "cell_type": "markdown",
   "id": "6ea7a69e-aed2-4dad-aa8d-85465bdde5a9",
   "metadata": {},
   "source": [
    "The method to cover more general GroupBy is applicable to __apply()__. This method applies in its entirety the scheme split-apply-combine. In fact, this function divides the object into parts in order to be manipulated, invokes the passage of function on each piece, and then tries to chain together the various parts. "
   ]
  },
  {
   "cell_type": "code",
   "execution_count": 564,
   "id": "05f9cddc-7cf3-42f2-820d-576f6ee28f17",
   "metadata": {},
   "outputs": [],
   "source": [
    "frame = pd.DataFrame( { 'color':['white','black','white','white','black','black'],\n",
    "... 'status':['up','up','down','down','down','up'],\n",
    "... 'value1':[12.33,14.55,22.34,27.84,23.40,18.33],\n",
    "... 'value2':[11.23,31.80,29.99,31.18,18.25,22.44]})"
   ]
  },
  {
   "cell_type": "code",
   "execution_count": 565,
   "id": "675fc5bf-0fa5-459b-98fd-0125238ad48b",
   "metadata": {},
   "outputs": [
    {
     "data": {
      "text/html": [
       "<div>\n",
       "<style scoped>\n",
       "    .dataframe tbody tr th:only-of-type {\n",
       "        vertical-align: middle;\n",
       "    }\n",
       "\n",
       "    .dataframe tbody tr th {\n",
       "        vertical-align: top;\n",
       "    }\n",
       "\n",
       "    .dataframe thead th {\n",
       "        text-align: right;\n",
       "    }\n",
       "</style>\n",
       "<table border=\"1\" class=\"dataframe\">\n",
       "  <thead>\n",
       "    <tr style=\"text-align: right;\">\n",
       "      <th></th>\n",
       "      <th>color</th>\n",
       "      <th>status</th>\n",
       "      <th>value1</th>\n",
       "      <th>value2</th>\n",
       "    </tr>\n",
       "  </thead>\n",
       "  <tbody>\n",
       "    <tr>\n",
       "      <th>0</th>\n",
       "      <td>white</td>\n",
       "      <td>up</td>\n",
       "      <td>12.33</td>\n",
       "      <td>11.23</td>\n",
       "    </tr>\n",
       "    <tr>\n",
       "      <th>1</th>\n",
       "      <td>black</td>\n",
       "      <td>up</td>\n",
       "      <td>14.55</td>\n",
       "      <td>31.80</td>\n",
       "    </tr>\n",
       "    <tr>\n",
       "      <th>2</th>\n",
       "      <td>white</td>\n",
       "      <td>down</td>\n",
       "      <td>22.34</td>\n",
       "      <td>29.99</td>\n",
       "    </tr>\n",
       "    <tr>\n",
       "      <th>3</th>\n",
       "      <td>white</td>\n",
       "      <td>down</td>\n",
       "      <td>27.84</td>\n",
       "      <td>31.18</td>\n",
       "    </tr>\n",
       "    <tr>\n",
       "      <th>4</th>\n",
       "      <td>black</td>\n",
       "      <td>down</td>\n",
       "      <td>23.40</td>\n",
       "      <td>18.25</td>\n",
       "    </tr>\n",
       "    <tr>\n",
       "      <th>5</th>\n",
       "      <td>black</td>\n",
       "      <td>up</td>\n",
       "      <td>18.33</td>\n",
       "      <td>22.44</td>\n",
       "    </tr>\n",
       "  </tbody>\n",
       "</table>\n",
       "</div>"
      ],
      "text/plain": [
       "   color status  value1  value2\n",
       "0  white     up   12.33   11.23\n",
       "1  black     up   14.55   31.80\n",
       "2  white   down   22.34   29.99\n",
       "3  white   down   27.84   31.18\n",
       "4  black   down   23.40   18.25\n",
       "5  black     up   18.33   22.44"
      ]
     },
     "execution_count": 565,
     "metadata": {},
     "output_type": "execute_result"
    }
   ],
   "source": [
    "frame"
   ]
  },
  {
   "cell_type": "code",
   "execution_count": 566,
   "id": "f64221e2-21ee-486c-a1ed-0631b7a1794d",
   "metadata": {},
   "outputs": [
    {
     "data": {
      "text/html": [
       "<div>\n",
       "<style scoped>\n",
       "    .dataframe tbody tr th:only-of-type {\n",
       "        vertical-align: middle;\n",
       "    }\n",
       "\n",
       "    .dataframe tbody tr th {\n",
       "        vertical-align: top;\n",
       "    }\n",
       "\n",
       "    .dataframe thead th {\n",
       "        text-align: right;\n",
       "    }\n",
       "</style>\n",
       "<table border=\"1\" class=\"dataframe\">\n",
       "  <thead>\n",
       "    <tr style=\"text-align: right;\">\n",
       "      <th></th>\n",
       "      <th></th>\n",
       "      <th>color</th>\n",
       "      <th>status</th>\n",
       "      <th>value1</th>\n",
       "      <th>value2</th>\n",
       "    </tr>\n",
       "    <tr>\n",
       "      <th>color</th>\n",
       "      <th>status</th>\n",
       "      <th></th>\n",
       "      <th></th>\n",
       "      <th></th>\n",
       "      <th></th>\n",
       "    </tr>\n",
       "  </thead>\n",
       "  <tbody>\n",
       "    <tr>\n",
       "      <th rowspan=\"2\" valign=\"top\">black</th>\n",
       "      <th>down</th>\n",
       "      <td>black</td>\n",
       "      <td>down</td>\n",
       "      <td>23.40</td>\n",
       "      <td>18.25</td>\n",
       "    </tr>\n",
       "    <tr>\n",
       "      <th>up</th>\n",
       "      <td>black</td>\n",
       "      <td>up</td>\n",
       "      <td>18.33</td>\n",
       "      <td>31.80</td>\n",
       "    </tr>\n",
       "    <tr>\n",
       "      <th rowspan=\"2\" valign=\"top\">white</th>\n",
       "      <th>down</th>\n",
       "      <td>white</td>\n",
       "      <td>down</td>\n",
       "      <td>27.84</td>\n",
       "      <td>31.18</td>\n",
       "    </tr>\n",
       "    <tr>\n",
       "      <th>up</th>\n",
       "      <td>white</td>\n",
       "      <td>up</td>\n",
       "      <td>12.33</td>\n",
       "      <td>11.23</td>\n",
       "    </tr>\n",
       "  </tbody>\n",
       "</table>\n",
       "</div>"
      ],
      "text/plain": [
       "              color status  value1  value2\n",
       "color status                              \n",
       "black down    black   down   23.40   18.25\n",
       "      up      black     up   18.33   31.80\n",
       "white down    white   down   27.84   31.18\n",
       "      up      white     up   12.33   11.23"
      ]
     },
     "execution_count": 566,
     "metadata": {},
     "output_type": "execute_result"
    }
   ],
   "source": [
    "frame.groupby(['color','status']).apply(lambda x:x.max())"
   ]
  },
  {
   "cell_type": "code",
   "execution_count": 567,
   "id": "6e1b72f9-8715-4460-8e03-83936d2d0e51",
   "metadata": {},
   "outputs": [
    {
     "data": {
      "text/html": [
       "<div>\n",
       "<style scoped>\n",
       "    .dataframe tbody tr th:only-of-type {\n",
       "        vertical-align: middle;\n",
       "    }\n",
       "\n",
       "    .dataframe tbody tr th {\n",
       "        vertical-align: top;\n",
       "    }\n",
       "\n",
       "    .dataframe thead th {\n",
       "        text-align: right;\n",
       "    }\n",
       "</style>\n",
       "<table border=\"1\" class=\"dataframe\">\n",
       "  <thead>\n",
       "    <tr style=\"text-align: right;\">\n",
       "      <th></th>\n",
       "      <th>color</th>\n",
       "      <th>status</th>\n",
       "      <th>value1</th>\n",
       "      <th>value2</th>\n",
       "    </tr>\n",
       "  </thead>\n",
       "  <tbody>\n",
       "    <tr>\n",
       "      <th>0</th>\n",
       "      <td>white</td>\n",
       "      <td>up</td>\n",
       "      <td>12.33</td>\n",
       "      <td>11.23</td>\n",
       "    </tr>\n",
       "    <tr>\n",
       "      <th>1</th>\n",
       "      <td>black</td>\n",
       "      <td>up</td>\n",
       "      <td>14.55</td>\n",
       "      <td>31.80</td>\n",
       "    </tr>\n",
       "    <tr>\n",
       "      <th>2</th>\n",
       "      <td>white</td>\n",
       "      <td>down</td>\n",
       "      <td>22.34</td>\n",
       "      <td>29.99</td>\n",
       "    </tr>\n",
       "    <tr>\n",
       "      <th>3</th>\n",
       "      <td>white</td>\n",
       "      <td>down</td>\n",
       "      <td>27.84</td>\n",
       "      <td>31.18</td>\n",
       "    </tr>\n",
       "    <tr>\n",
       "      <th>4</th>\n",
       "      <td>black</td>\n",
       "      <td>down</td>\n",
       "      <td>23.40</td>\n",
       "      <td>18.25</td>\n",
       "    </tr>\n",
       "    <tr>\n",
       "      <th>5</th>\n",
       "      <td>black</td>\n",
       "      <td>up</td>\n",
       "      <td>18.33</td>\n",
       "      <td>22.44</td>\n",
       "    </tr>\n",
       "  </tbody>\n",
       "</table>\n",
       "</div>"
      ],
      "text/plain": [
       "   color status  value1  value2\n",
       "0  white     up   12.33   11.23\n",
       "1  black     up   14.55   31.80\n",
       "2  white   down   22.34   29.99\n",
       "3  white   down   27.84   31.18\n",
       "4  black   down   23.40   18.25\n",
       "5  black     up   18.33   22.44"
      ]
     },
     "execution_count": 567,
     "metadata": {},
     "output_type": "execute_result"
    }
   ],
   "source": [
    "frame"
   ]
  },
  {
   "cell_type": "code",
   "execution_count": 568,
   "id": "c953f8d8-6aa2-4048-a956-9346a4253ee9",
   "metadata": {},
   "outputs": [],
   "source": [
    "reindex = {0: 'first', 1:'second', 2:'third', 3:'fourth',4:'fifth',5:'sixth'}"
   ]
  },
  {
   "cell_type": "code",
   "execution_count": 569,
   "id": "ad185d35-04fd-495e-892a-b07f2efa7099",
   "metadata": {},
   "outputs": [
    {
     "data": {
      "text/html": [
       "<div>\n",
       "<style scoped>\n",
       "    .dataframe tbody tr th:only-of-type {\n",
       "        vertical-align: middle;\n",
       "    }\n",
       "\n",
       "    .dataframe tbody tr th {\n",
       "        vertical-align: top;\n",
       "    }\n",
       "\n",
       "    .dataframe thead th {\n",
       "        text-align: right;\n",
       "    }\n",
       "</style>\n",
       "<table border=\"1\" class=\"dataframe\">\n",
       "  <thead>\n",
       "    <tr style=\"text-align: right;\">\n",
       "      <th></th>\n",
       "      <th>color</th>\n",
       "      <th>status</th>\n",
       "      <th>value1</th>\n",
       "      <th>value2</th>\n",
       "    </tr>\n",
       "  </thead>\n",
       "  <tbody>\n",
       "    <tr>\n",
       "      <th>first</th>\n",
       "      <td>white</td>\n",
       "      <td>up</td>\n",
       "      <td>12.33</td>\n",
       "      <td>11.23</td>\n",
       "    </tr>\n",
       "    <tr>\n",
       "      <th>second</th>\n",
       "      <td>black</td>\n",
       "      <td>up</td>\n",
       "      <td>14.55</td>\n",
       "      <td>31.80</td>\n",
       "    </tr>\n",
       "    <tr>\n",
       "      <th>third</th>\n",
       "      <td>white</td>\n",
       "      <td>down</td>\n",
       "      <td>22.34</td>\n",
       "      <td>29.99</td>\n",
       "    </tr>\n",
       "    <tr>\n",
       "      <th>fourth</th>\n",
       "      <td>white</td>\n",
       "      <td>down</td>\n",
       "      <td>27.84</td>\n",
       "      <td>31.18</td>\n",
       "    </tr>\n",
       "    <tr>\n",
       "      <th>fifth</th>\n",
       "      <td>black</td>\n",
       "      <td>down</td>\n",
       "      <td>23.40</td>\n",
       "      <td>18.25</td>\n",
       "    </tr>\n",
       "    <tr>\n",
       "      <th>sixth</th>\n",
       "      <td>black</td>\n",
       "      <td>up</td>\n",
       "      <td>18.33</td>\n",
       "      <td>22.44</td>\n",
       "    </tr>\n",
       "  </tbody>\n",
       "</table>\n",
       "</div>"
      ],
      "text/plain": [
       "        color status  value1  value2\n",
       "first   white     up   12.33   11.23\n",
       "second  black     up   14.55   31.80\n",
       "third   white   down   22.34   29.99\n",
       "fourth  white   down   27.84   31.18\n",
       "fifth   black   down   23.40   18.25\n",
       "sixth   black     up   18.33   22.44"
      ]
     },
     "execution_count": 569,
     "metadata": {},
     "output_type": "execute_result"
    }
   ],
   "source": [
    "frame.rename(index=reindex)"
   ]
  },
  {
   "cell_type": "code",
   "execution_count": 570,
   "id": "4890726e-5735-4623-b7dc-ab7fcf83e275",
   "metadata": {},
   "outputs": [],
   "source": [
    "temp = pd.date_range('12/06/2024', periods=10, freq='H')"
   ]
  },
  {
   "cell_type": "code",
   "execution_count": 571,
   "id": "62d71e7c-ef6b-493e-a6a7-476f9e4bdc9f",
   "metadata": {},
   "outputs": [
    {
     "data": {
      "text/plain": [
       "DatetimeIndex(['2024-12-06 00:00:00', '2024-12-06 01:00:00',\n",
       "               '2024-12-06 02:00:00', '2024-12-06 03:00:00',\n",
       "               '2024-12-06 04:00:00', '2024-12-06 05:00:00',\n",
       "               '2024-12-06 06:00:00', '2024-12-06 07:00:00',\n",
       "               '2024-12-06 08:00:00', '2024-12-06 09:00:00'],\n",
       "              dtype='datetime64[ns]', freq='H')"
      ]
     },
     "execution_count": 571,
     "metadata": {},
     "output_type": "execute_result"
    }
   ],
   "source": [
    "temp"
   ]
  },
  {
   "cell_type": "code",
   "execution_count": 572,
   "id": "3def37d1-3ab0-49c3-a5fc-821362ee8a54",
   "metadata": {},
   "outputs": [],
   "source": [
    "timeseries = pd.Series(np.random.rand(10), index=temp)"
   ]
  },
  {
   "cell_type": "code",
   "execution_count": 573,
   "id": "514eade6-11ea-44e1-9150-74b538969da5",
   "metadata": {},
   "outputs": [
    {
     "data": {
      "text/plain": [
       "2024-12-06 00:00:00    0.937479\n",
       "2024-12-06 01:00:00    0.286185\n",
       "2024-12-06 02:00:00    0.933360\n",
       "2024-12-06 03:00:00    0.406129\n",
       "2024-12-06 04:00:00    0.216975\n",
       "2024-12-06 05:00:00    0.430628\n",
       "2024-12-06 06:00:00    0.849103\n",
       "2024-12-06 07:00:00    0.333514\n",
       "2024-12-06 08:00:00    0.107547\n",
       "2024-12-06 09:00:00    0.719963\n",
       "Freq: H, dtype: float64"
      ]
     },
     "execution_count": 573,
     "metadata": {},
     "output_type": "execute_result"
    }
   ],
   "source": [
    "timeseries"
   ]
  },
  {
   "cell_type": "code",
   "execution_count": 574,
   "id": "e6523eaf-e2ac-4000-8f0c-bc04b4376f51",
   "metadata": {},
   "outputs": [],
   "source": [
    "timetable = pd.DataFrame( {'date': temp, 'value1' : np.random.rand(10),\n",
    "... 'value2' : np.random.rand(10)})"
   ]
  },
  {
   "cell_type": "code",
   "execution_count": 575,
   "id": "e092b473-da03-40ce-b1ac-a82a2fbd5ed7",
   "metadata": {},
   "outputs": [
    {
     "data": {
      "text/html": [
       "<div>\n",
       "<style scoped>\n",
       "    .dataframe tbody tr th:only-of-type {\n",
       "        vertical-align: middle;\n",
       "    }\n",
       "\n",
       "    .dataframe tbody tr th {\n",
       "        vertical-align: top;\n",
       "    }\n",
       "\n",
       "    .dataframe thead th {\n",
       "        text-align: right;\n",
       "    }\n",
       "</style>\n",
       "<table border=\"1\" class=\"dataframe\">\n",
       "  <thead>\n",
       "    <tr style=\"text-align: right;\">\n",
       "      <th></th>\n",
       "      <th>date</th>\n",
       "      <th>value1</th>\n",
       "      <th>value2</th>\n",
       "    </tr>\n",
       "  </thead>\n",
       "  <tbody>\n",
       "    <tr>\n",
       "      <th>0</th>\n",
       "      <td>2024-12-06 00:00:00</td>\n",
       "      <td>0.074599</td>\n",
       "      <td>0.507956</td>\n",
       "    </tr>\n",
       "    <tr>\n",
       "      <th>1</th>\n",
       "      <td>2024-12-06 01:00:00</td>\n",
       "      <td>0.924956</td>\n",
       "      <td>0.047119</td>\n",
       "    </tr>\n",
       "    <tr>\n",
       "      <th>2</th>\n",
       "      <td>2024-12-06 02:00:00</td>\n",
       "      <td>0.695631</td>\n",
       "      <td>0.273885</td>\n",
       "    </tr>\n",
       "    <tr>\n",
       "      <th>3</th>\n",
       "      <td>2024-12-06 03:00:00</td>\n",
       "      <td>0.334812</td>\n",
       "      <td>0.003628</td>\n",
       "    </tr>\n",
       "    <tr>\n",
       "      <th>4</th>\n",
       "      <td>2024-12-06 04:00:00</td>\n",
       "      <td>0.179927</td>\n",
       "      <td>0.698406</td>\n",
       "    </tr>\n",
       "    <tr>\n",
       "      <th>5</th>\n",
       "      <td>2024-12-06 05:00:00</td>\n",
       "      <td>0.854949</td>\n",
       "      <td>0.022060</td>\n",
       "    </tr>\n",
       "    <tr>\n",
       "      <th>6</th>\n",
       "      <td>2024-12-06 06:00:00</td>\n",
       "      <td>0.064615</td>\n",
       "      <td>0.830684</td>\n",
       "    </tr>\n",
       "    <tr>\n",
       "      <th>7</th>\n",
       "      <td>2024-12-06 07:00:00</td>\n",
       "      <td>0.208654</td>\n",
       "      <td>0.990387</td>\n",
       "    </tr>\n",
       "    <tr>\n",
       "      <th>8</th>\n",
       "      <td>2024-12-06 08:00:00</td>\n",
       "      <td>0.086680</td>\n",
       "      <td>0.089906</td>\n",
       "    </tr>\n",
       "    <tr>\n",
       "      <th>9</th>\n",
       "      <td>2024-12-06 09:00:00</td>\n",
       "      <td>0.267486</td>\n",
       "      <td>0.038139</td>\n",
       "    </tr>\n",
       "  </tbody>\n",
       "</table>\n",
       "</div>"
      ],
      "text/plain": [
       "                 date    value1    value2\n",
       "0 2024-12-06 00:00:00  0.074599  0.507956\n",
       "1 2024-12-06 01:00:00  0.924956  0.047119\n",
       "2 2024-12-06 02:00:00  0.695631  0.273885\n",
       "3 2024-12-06 03:00:00  0.334812  0.003628\n",
       "4 2024-12-06 04:00:00  0.179927  0.698406\n",
       "5 2024-12-06 05:00:00  0.854949  0.022060\n",
       "6 2024-12-06 06:00:00  0.064615  0.830684\n",
       "7 2024-12-06 07:00:00  0.208654  0.990387\n",
       "8 2024-12-06 08:00:00  0.086680  0.089906\n",
       "9 2024-12-06 09:00:00  0.267486  0.038139"
      ]
     },
     "execution_count": 575,
     "metadata": {},
     "output_type": "execute_result"
    }
   ],
   "source": [
    "timetable"
   ]
  },
  {
   "cell_type": "code",
   "execution_count": 576,
   "id": "0feea52a-baec-41cf-a179-5a3dd20f151b",
   "metadata": {},
   "outputs": [],
   "source": [
    "timetable['cat'] = ['up','down','left','left','up','up','down','right','right','up']"
   ]
  },
  {
   "cell_type": "code",
   "execution_count": 577,
   "id": "ca747d88-64ed-49f8-8c95-b23565b1aefc",
   "metadata": {},
   "outputs": [
    {
     "data": {
      "text/html": [
       "<div>\n",
       "<style scoped>\n",
       "    .dataframe tbody tr th:only-of-type {\n",
       "        vertical-align: middle;\n",
       "    }\n",
       "\n",
       "    .dataframe tbody tr th {\n",
       "        vertical-align: top;\n",
       "    }\n",
       "\n",
       "    .dataframe thead th {\n",
       "        text-align: right;\n",
       "    }\n",
       "</style>\n",
       "<table border=\"1\" class=\"dataframe\">\n",
       "  <thead>\n",
       "    <tr style=\"text-align: right;\">\n",
       "      <th></th>\n",
       "      <th>date</th>\n",
       "      <th>value1</th>\n",
       "      <th>value2</th>\n",
       "      <th>cat</th>\n",
       "    </tr>\n",
       "  </thead>\n",
       "  <tbody>\n",
       "    <tr>\n",
       "      <th>0</th>\n",
       "      <td>2024-12-06 00:00:00</td>\n",
       "      <td>0.074599</td>\n",
       "      <td>0.507956</td>\n",
       "      <td>up</td>\n",
       "    </tr>\n",
       "    <tr>\n",
       "      <th>1</th>\n",
       "      <td>2024-12-06 01:00:00</td>\n",
       "      <td>0.924956</td>\n",
       "      <td>0.047119</td>\n",
       "      <td>down</td>\n",
       "    </tr>\n",
       "    <tr>\n",
       "      <th>2</th>\n",
       "      <td>2024-12-06 02:00:00</td>\n",
       "      <td>0.695631</td>\n",
       "      <td>0.273885</td>\n",
       "      <td>left</td>\n",
       "    </tr>\n",
       "    <tr>\n",
       "      <th>3</th>\n",
       "      <td>2024-12-06 03:00:00</td>\n",
       "      <td>0.334812</td>\n",
       "      <td>0.003628</td>\n",
       "      <td>left</td>\n",
       "    </tr>\n",
       "    <tr>\n",
       "      <th>4</th>\n",
       "      <td>2024-12-06 04:00:00</td>\n",
       "      <td>0.179927</td>\n",
       "      <td>0.698406</td>\n",
       "      <td>up</td>\n",
       "    </tr>\n",
       "    <tr>\n",
       "      <th>5</th>\n",
       "      <td>2024-12-06 05:00:00</td>\n",
       "      <td>0.854949</td>\n",
       "      <td>0.022060</td>\n",
       "      <td>up</td>\n",
       "    </tr>\n",
       "    <tr>\n",
       "      <th>6</th>\n",
       "      <td>2024-12-06 06:00:00</td>\n",
       "      <td>0.064615</td>\n",
       "      <td>0.830684</td>\n",
       "      <td>down</td>\n",
       "    </tr>\n",
       "    <tr>\n",
       "      <th>7</th>\n",
       "      <td>2024-12-06 07:00:00</td>\n",
       "      <td>0.208654</td>\n",
       "      <td>0.990387</td>\n",
       "      <td>right</td>\n",
       "    </tr>\n",
       "    <tr>\n",
       "      <th>8</th>\n",
       "      <td>2024-12-06 08:00:00</td>\n",
       "      <td>0.086680</td>\n",
       "      <td>0.089906</td>\n",
       "      <td>right</td>\n",
       "    </tr>\n",
       "    <tr>\n",
       "      <th>9</th>\n",
       "      <td>2024-12-06 09:00:00</td>\n",
       "      <td>0.267486</td>\n",
       "      <td>0.038139</td>\n",
       "      <td>up</td>\n",
       "    </tr>\n",
       "  </tbody>\n",
       "</table>\n",
       "</div>"
      ],
      "text/plain": [
       "                 date    value1    value2    cat\n",
       "0 2024-12-06 00:00:00  0.074599  0.507956     up\n",
       "1 2024-12-06 01:00:00  0.924956  0.047119   down\n",
       "2 2024-12-06 02:00:00  0.695631  0.273885   left\n",
       "3 2024-12-06 03:00:00  0.334812  0.003628   left\n",
       "4 2024-12-06 04:00:00  0.179927  0.698406     up\n",
       "5 2024-12-06 05:00:00  0.854949  0.022060     up\n",
       "6 2024-12-06 06:00:00  0.064615  0.830684   down\n",
       "7 2024-12-06 07:00:00  0.208654  0.990387  right\n",
       "8 2024-12-06 08:00:00  0.086680  0.089906  right\n",
       "9 2024-12-06 09:00:00  0.267486  0.038139     up"
      ]
     },
     "execution_count": 577,
     "metadata": {},
     "output_type": "execute_result"
    }
   ],
   "source": [
    "timetable"
   ]
  },
  {
   "cell_type": "markdown",
   "id": "469206f3-fb92-4dec-9df7-a58f58804b81",
   "metadata": {},
   "source": [
    "The example shown above, however, has duplicate key value ..."
   ]
  },
  {
   "cell_type": "markdown",
   "id": "20947df8-c7d4-487e-8f58-a5dfb026986d",
   "metadata": {},
   "source": [
    "We add to the DataFrame preceding a column that represents a set of text values that we will use as a key values"
   ]
  },
  {
   "cell_type": "markdown",
   "id": "942d55b2-9912-4ff1-8b90-310401d9c00a",
   "metadata": {},
   "source": [
    " # Conclusions:\n",
    " In this chapter you saw the three basic parts which divide the data manipulation: preparation, processing, and data aggregation. Thanks to a series of examples you've got to know a set of library functions that allow pandas to perform these operations.  \n",
    " You saw how to apply these functions on simple data structures so that you can become familiar with how they work  and understand its applicability to more complex cases.  \n",
    " Eventually you get knowledge of all the tools necessary to prepare a data set for the next phase of data analysis: __data visualisation__.  \n",
    " In the next chapter, you will be presented with the Python library __Matplotlib__, which can convert the data structures in any chart."
   ]
  },
  {
   "cell_type": "markdown",
   "id": "35474b2a-e479-4cce-a3c4-bd1128c2ca37",
   "metadata": {},
   "source": [
    "Great ...  \n",
    "Good Bye "
   ]
  },
  {
   "cell_type": "code",
   "execution_count": null,
   "id": "327b10b6-fe97-4aad-a402-d884c95a0805",
   "metadata": {},
   "outputs": [],
   "source": []
  }
 ],
 "metadata": {
  "kernelspec": {
   "display_name": "Python 3 (ipykernel)",
   "language": "python",
   "name": "python3"
  },
  "language_info": {
   "codemirror_mode": {
    "name": "ipython",
    "version": 3
   },
   "file_extension": ".py",
   "mimetype": "text/x-python",
   "name": "python",
   "nbconvert_exporter": "python",
   "pygments_lexer": "ipython3",
   "version": "3.8.19"
  }
 },
 "nbformat": 4,
 "nbformat_minor": 5
}
